{
  "cells": [
    {
      "cell_type": "markdown",
      "metadata": {
        "id": "view-in-github",
        "colab_type": "text"
      },
      "source": [
        "<a href=\"https://colab.research.google.com/github/SzekelyAnna/atchekegroup1lunarlanding/blob/main/lunar_lander_m%C3%A1solata.ipynb\" target=\"_parent\"><img src=\"https://colab.research.google.com/assets/colab-badge.svg\" alt=\"Open In Colab\"/></a>"
      ]
    },
    {
      "cell_type": "markdown",
      "metadata": {
        "execution": {},
        "id": "SUrSh4XdxX_Y"
      },
      "source": [
        "# Performance Analysis of DQN Algorithm on the Lunar Lander task\n",
        "\n",
        "**By Neuromatch Academy**\n",
        "\n",
        "__Content creators:__ Raghuram Bharadwaj Diddigi, Geraud Nangue Tasse, Yamil Vidal, Sanjukta Krishnagopal, Sara Rajaee\n",
        "\n",
        "__Content editors:__ Spiros Chavlis"
      ]
    },
    {
      "cell_type": "markdown",
      "metadata": {
        "execution": {},
        "id": "wNDGLaOlxX_a"
      },
      "source": [
        "<p align='center'><img src='https://github.com/NeuromatchAcademy/widgets/blob/master/sponsors.png?raw=True'/></p>"
      ]
    },
    {
      "cell_type": "markdown",
      "metadata": {
        "execution": {},
        "id": "uDujxcmLxX_b"
      },
      "source": [
        "---\n",
        "# Objective\n",
        "\n",
        "In this project, the objective is to analyze the performance of the Deep Q-Learning algorithm on an exciting task- Lunar Lander. Before we describe the task, let us focus on two keywords here - analysis and performance. What exactly do we mean by these keywords in the context of Reinforcement Learning (RL)?"
      ]
    },
    {
      "cell_type": "markdown",
      "metadata": {
        "execution": {},
        "id": "S5ONwnv2xX_b"
      },
      "source": [
        "---\n",
        "# Setup"
      ]
    },
    {
      "cell_type": "code",
      "execution_count": null,
      "metadata": {
        "cellView": "form",
        "execution": {},
        "id": "g_pkwx9SxX_b",
        "colab": {
          "base_uri": "https://localhost:8080/"
        },
        "outputId": "38071f2d-8aa1-4098-cd3c-4eb415b41879"
      },
      "outputs": [
        {
          "output_type": "stream",
          "name": "stdout",
          "text": [
            "\u001b[K     |████████████████████████████████| 177 kB 34.7 MB/s \n",
            "\u001b[K     |████████████████████████████████| 1.6 MB 57.0 MB/s \n",
            "\u001b[K     |████████████████████████████████| 1.5 MB 62.2 MB/s \n",
            "\u001b[K     |████████████████████████████████| 1.1 MB 61.9 MB/s \n",
            "\u001b[?25h  Installing build dependencies ... \u001b[?25l\u001b[?25hdone\n",
            "  Getting requirements to build wheel ... \u001b[?25l\u001b[?25hdone\n",
            "    Preparing wheel metadata ... \u001b[?25l\u001b[?25hdone\n",
            "  Building wheel for gym (setup.py) ... \u001b[?25l\u001b[?25hdone\n",
            "  Building wheel for AutoROM.accept-rom-license (PEP 517) ... \u001b[?25l\u001b[?25hdone\n",
            "\u001b[K     |████████████████████████████████| 448 kB 31.1 MB/s \n",
            "\u001b[?25h"
          ]
        }
      ],
      "source": [
        "# @title Install dependencies\n",
        "!sudo apt-get update > /dev/null 2>&1\n",
        "!sudo apt-get install -y xvfb python-opengl ffmpeg > /dev/null 2>&1\n",
        "!pip install rarfile --quiet\n",
        "!pip install stable-baselines3[extra] ale-py==0.7.4 --quiet\n",
        "!pip install box2d-py --quiet\n",
        "!pip install gym pyvirtualdisplay --quiet\n",
        "!pip install pyglet --quiet"
      ]
    },
    {
      "cell_type": "code",
      "execution_count": null,
      "metadata": {
        "execution": {},
        "id": "RX13NcYFxX_c"
      },
      "outputs": [],
      "source": [
        "# Imports\n",
        "import io\n",
        "import os\n",
        "import copy \n",
        "import glob\n",
        "import torch\n",
        "import base64\n",
        "import stable_baselines3\n",
        "\n",
        "import numpy as np\n",
        "import matplotlib.pyplot as plt\n",
        "\n",
        "from stable_baselines3 import DQN\n",
        "from stable_baselines3.common.results_plotter import ts2xy, load_results\n",
        "from stable_baselines3.common.callbacks import EvalCallback\n",
        "from stable_baselines3.common.env_util import make_atari_env\n",
        "\n",
        "import gym\n",
        "from gym import spaces\n",
        "from gym.wrappers import Monitor"
      ]
    },
    {
      "cell_type": "code",
      "execution_count": null,
      "metadata": {
        "cellView": "form",
        "execution": {},
        "id": "lBj1RawPxX_c"
      },
      "outputs": [],
      "source": [
        "# @title Plotting/Video functions\n",
        "from IPython.display import HTML\n",
        "from pyvirtualdisplay import Display\n",
        "from IPython import display as ipythondisplay\n",
        "\n",
        "display = Display(visible=0, size=(1400, 900))\n",
        "display.start()\n",
        "\n",
        "\"\"\"\n",
        "Utility functions to enable video recording of gym environment\n",
        "and displaying it.\n",
        "To enable video, just do \"env = wrap_env(env)\"\"\n",
        "\"\"\"\n",
        "\n",
        "def show_video():\n",
        "  mp4list = glob.glob('video/*.mp4')\n",
        "  if len(mp4list) > 0:\n",
        "    mp4 = mp4list[0]\n",
        "    video = io.open(mp4, 'r+b').read()\n",
        "    encoded = base64.b64encode(video)\n",
        "    ipythondisplay.display(HTML(data='''<video alt=\"test\" autoplay\n",
        "                loop controls style=\"height: 400px;\">\n",
        "                <source src=\"data:video/mp4;base64,{0}\" type=\"video/mp4\" />\n",
        "             </video>'''.format(encoded.decode('ascii'))))\n",
        "  else:\n",
        "    print(\"Could not find video\")\n",
        "\n",
        "\n",
        "def wrap_env(env):\n",
        "  env = Monitor(env, './video', force=True)\n",
        "  return env"
      ]
    },
    {
      "cell_type": "markdown",
      "metadata": {
        "execution": {},
        "id": "4402FLy0xX_d"
      },
      "source": [
        "---\n",
        "# Introduction\n",
        "\n",
        "In a standard RL setting, an agent learns optimal behavior from an environment through a feedback mechanism to maximize a given objective. Many algorithms have been proposed in the RL literature that an agent can apply to learn the optimal behavior. One such popular algorithm is the Deep Q-Network (DQN). This algorithm makes use of deep neural networks to compute optimal actions. In this project, your goal is to understand the effect of the number of neural network layers on the algorithm's performance. The performance of the algorithm can be evaluated through two metrics - Speed and Stability. \n",
        "\n",
        "**Speed:** How fast the algorithm reaches the maximum possible reward. \n",
        "\n",
        "**Stability** In some applications (especially when online learning is involved), along with speed, stability of the algorithm, i.e., minimal fluctuations in performance, is equally important. \n",
        "\n",
        "In this project, you should investigate the following question:\n",
        "\n",
        "**What is the impact of number of neural network layers on speed and stability of the algorithm?**\n",
        "\n",
        "You do not have to write the DQN code from scratch. We have provided a basic implementation of the DQN algorithm. You only have to tune the hyperparameters (neural network size, learning rate, etc), observe the performance, and analyze. More details on this are provided below. \n",
        "\n",
        "Now, let us discuss the RL task we have chosen, i.e., Lunar Lander. This task consists of the lander and a landing pad marked by two flags. The episode starts with the lander moving downwards due to gravity. The objective is to land safely using different engines available on the lander with zero speed on the landing pad as quickly and fuel efficient as possible. Reward for moving from the top of the screen and landing on landing pad with zero speed is between 100 to 140 points. Each leg ground contact yields a reward of 10 points. Firing main engine leads to a reward of -0.3 points in each frame. Firing the side engine leads to a reward of -0.03 points in each frame. An additional reward of -100 or +100 points is received if the lander crashes or comes to rest respectively which also leads to end of the episode. \n",
        "\n",
        "The input state of the Lunar Lander consists of following components:\n",
        "\n",
        "  1. Horizontal Position\n",
        "  2. Vertical Position\n",
        "  3. Horizontal Velocity\n",
        "  4. Vertical Velocity\n",
        "  5. Angle\n",
        "  6. Angular Velocity\n",
        "  7. Left Leg Contact\n",
        "  8. Right Leg Contact\n",
        "\n",
        "The actions of the agents are:\n",
        "  1. Do Nothing\n",
        "  2. Fire Main Engine\n",
        "  3. Fire Left Engine\n",
        "  4. Fire Right Engine\n",
        "\n",
        "\n",
        "<img src=\"https://raw.githubusercontent.com/NeuromatchAcademy/course-content-dl/main/projects/static/lunar_lander.png\">"
      ]
    },
    {
      "cell_type": "markdown",
      "metadata": {
        "execution": {},
        "id": "mU_epArtxX_d"
      },
      "source": [
        "---\n",
        "# Basic DQN Implementation\n",
        "\n",
        "We will now implement the DQN algorithm using the existing code base. We encourage you to understand this example and re-use it in an application/project of your choice! "
      ]
    },
    {
      "cell_type": "markdown",
      "metadata": {
        "execution": {},
        "id": "0PinQS2CxX_d"
      },
      "source": [
        "Now, let us set some hyperparameters for our algorithm. This is the only part you would play around with, to solve the first part of the project. "
      ]
    },
    {
      "cell_type": "code",
      "execution_count": null,
      "metadata": {
        "execution": {},
        "id": "RqpRNdCMxX_e"
      },
      "outputs": [],
      "source": [
        "nn_layers = [64,64] #This is the configuration of your neural network. Currently, we have two layers, each consisting of 64 neurons.\n",
        "                    #If you want three layers with 64 neurons each, set the value to [64,64,64] and so on.\n",
        "\n",
        "learning_rate = 0.001 #This is the step-size with which the gradient descent is carried out.\n",
        "                      #Tip: Use smaller step-sizes for larger networks."
      ]
    },
    {
      "cell_type": "code",
      "source": [
        "import pickle as pkl\n",
        "from google.colab import drive\n",
        "drive.mount('/content/gdrive')\n",
        "drive_path = \"/content/gdrive/My Drive/LunarLanding_models/\""
      ],
      "metadata": {
        "id": "ruyg172GXaD3"
      },
      "execution_count": null,
      "outputs": []
    },
    {
      "cell_type": "code",
      "source": [
        "def get_model_weights(model, model_name):\n",
        "  ''' This is a function to check the model weights. One can compare trained and untraind models' weights in this way.'''\n",
        "  \n",
        "\n",
        "  #print ('Sanity check. Comparing model weights for', model_names, models)\n",
        "  #for model, model_name in zip(models, model_names): \n",
        "  weight_list = []\n",
        "  keys = [item for item in model.policy.state_dict()]\n",
        "  for key in keys:\n",
        "    weight_list.append(torch.sum(model.policy.state_dict()[key]))\n",
        "  return model_name, weight_list"
      ],
      "metadata": {
        "id": "MKAZGipLY7jp"
      },
      "execution_count": null,
      "outputs": []
    },
    {
      "cell_type": "code",
      "source": [
        "## Is it reasonable to compare the pretrained weights with the trained weights? \n",
        "\n",
        "def set_device():\n",
        "  \"\"\"\n",
        "  Set the device. CUDA if available, CPU otherwise\n",
        "\n",
        "  Args:\n",
        "    None\n",
        "\n",
        "  Returns:\n",
        "    Nothing\n",
        "  \"\"\"\n",
        "  device = \"cuda\" if torch.cuda.is_available() else \"cpu\"\n",
        "  if device != \"cuda\":\n",
        "    print(\"GPU is not enabled in this notebook. \\n\"\n",
        "          \"If you want to enable it, in the menu under `Runtime` -> \\n\"\n",
        "          \"`Hardware accelerator.` and select `GPU` from the dropdown menu\")\n",
        "  else:\n",
        "    print(\"GPU is enabled in this notebook. \\n\"\n",
        "          \"If you want to disable it, in the menu under `Runtime` -> \\n\"\n",
        "          \"`Hardware accelerator.` and select `None` from the dropdown menu\")\n",
        "\n",
        "  return device\n",
        "\n",
        "\n",
        "DEVICE = set_device()\n",
        "\n"
      ],
      "metadata": {
        "colab": {
          "base_uri": "https://localhost:8080/"
        },
        "id": "V9cqv3VmY-or",
        "outputId": "75226cad-80dd-418a-8bf3-a2f19f097704"
      },
      "execution_count": null,
      "outputs": [
        {
          "output_type": "stream",
          "name": "stdout",
          "text": [
            "GPU is enabled in this notebook. \n",
            "If you want to disable it, in the menu under `Runtime` -> \n",
            "`Hardware accelerator.` and select `None` from the dropdown menu\n"
          ]
        }
      ]
    },
    {
      "cell_type": "markdown",
      "metadata": {
        "execution": {},
        "id": "HaCzlYg-xX_e"
      },
      "source": [
        "Now, let us setup our model and the DQN algorithm. "
      ]
    },
    {
      "cell_type": "code",
      "execution_count": null,
      "metadata": {
        "execution": {},
        "id": "m5OGFaqcxX_e"
      },
      "outputs": [],
      "source": [
        "log_dir = \"/tmp/gym/\"\n",
        "os.makedirs(log_dir, exist_ok=True)\n",
        "\n",
        "# Create environment\n",
        "env = gym.make('LunarLander-v2')\n",
        "#You can also load other environments like cartpole, MountainCar, Acrobot. Refer to https://gym.openai.com/docs/ for descriptions.\n",
        "#For example, if you would like to load Cartpole, just replace the above statement with \"env = gym.make('CartPole-v1')\".\n",
        "\n",
        "env = stable_baselines3.common.monitor.Monitor(env, log_dir )\n",
        "\n",
        "callback = EvalCallback(env,log_path = log_dir, deterministic=True) #For evaluating the performance of the agent periodically and logging the results.\n",
        "policy_kwargs = dict(activation_fn=torch.nn.ReLU,\n",
        "                     net_arch=nn_layers)\n",
        "model = DQN(\"MlpPolicy\", env,policy_kwargs = policy_kwargs,\n",
        "            learning_rate=learning_rate,\n",
        "            batch_size=1,  #for simplicity, we are not doing batch update.\n",
        "            buffer_size=1, #size of experience of replay buffer. Set to 1 as batch update is not done\n",
        "            learning_starts=1, #learning starts immediately!\n",
        "            gamma=0.99, #discount facto. range is between 0 and 1.\n",
        "            tau = 1,  #the soft update coefficient for updating the target network\n",
        "            target_update_interval=1, #update the target network immediately.\n",
        "            train_freq=(1,\"step\"), #train the network at every step.\n",
        "            max_grad_norm = 10, #the maximum value for the gradient clipping\n",
        "            exploration_initial_eps = 1, #initial value of random action probability\n",
        "            exploration_fraction = 0.5, #fraction of entire training period over which the exploration rate is reduced\n",
        "            gradient_steps = 1, #number of gradient steps\n",
        "            seed = 1, #seed for the pseudo random generators\n",
        "            verbose=0) #Set verbose to 1 to observe training logs. We encourage you to set the verbose to 1.\n",
        "\n",
        "# You can also experiment with other RL algorithms like A2C, PPO, DDPG etc. Refer to  https://stable-baselines3.readthedocs.io/en/master/guide/examples.html\n",
        "#for documentation. For example, if you would like to run DDPG, just replace \"DQN\" above with \"DDPG\"."
      ]
    },
    {
      "cell_type": "code",
      "source": [
        " ## save untrained model weights to compare before training and after training weights\n",
        "untrained_model_weights = get_model_weights(model, 'untrained model')\n",
        "untrained_model_weights"
      ],
      "metadata": {
        "colab": {
          "base_uri": "https://localhost:8080/"
        },
        "id": "1L1hvx6yYqWa",
        "outputId": "dbef9ac5-a3e9-4231-810a-31541cd55d26"
      },
      "execution_count": null,
      "outputs": [
        {
          "output_type": "execute_result",
          "data": {
            "text/plain": [
              "('untrained model',\n",
              " [tensor(2.5560, device='cuda:0'),\n",
              "  tensor(-3.8614, device='cuda:0'),\n",
              "  tensor(-7.8497, device='cuda:0'),\n",
              "  tensor(0.2273, device='cuda:0'),\n",
              "  tensor(0.2720, device='cuda:0'),\n",
              "  tensor(-0.1196, device='cuda:0'),\n",
              "  tensor(2.5560, device='cuda:0'),\n",
              "  tensor(-3.8614, device='cuda:0'),\n",
              "  tensor(-7.8497, device='cuda:0'),\n",
              "  tensor(0.2273, device='cuda:0'),\n",
              "  tensor(0.2720, device='cuda:0'),\n",
              "  tensor(-0.1196, device='cuda:0')])"
            ]
          },
          "metadata": {},
          "execution_count": 158
        }
      ]
    },
    {
      "cell_type": "markdown",
      "source": [
        "### Saving the undtrained model\n",
        "\n"
      ],
      "metadata": {
        "id": "SYT7-FG0fBTp"
      }
    },
    {
      "cell_type": "code",
      "source": [
        "model_version = \"untrained_DQN\"\n",
        "model.save(drive_path + model_version)"
      ],
      "metadata": {
        "id": "xph7iZ-SeiXH"
      },
      "execution_count": null,
      "outputs": []
    },
    {
      "cell_type": "code",
      "source": [
        "#print (model, '\\n', untrained_model)"
      ],
      "metadata": {
        "id": "fUvOtD1pJrfS"
      },
      "execution_count": null,
      "outputs": []
    },
    {
      "cell_type": "code",
      "source": [
        "#untrained_model.policy.state_dict()\n",
        "#model.policy.state_dict()"
      ],
      "metadata": {
        "id": "C4uz72Zjap0v"
      },
      "execution_count": null,
      "outputs": []
    },
    {
      "cell_type": "markdown",
      "metadata": {
        "execution": {},
        "id": "HojzbSG1xX_e"
      },
      "source": [
        "Before we train the model, let us look at an instance of Lunar Lander **before training**.  \n",
        "\n",
        "**Note:** The following code for rendering the video is taken from https://colab.research.google.com/github/jeffheaton/t81_558_deep_learning/blob/master/t81_558_class_12_01_ai_gym.ipynb#scrollTo=T9RpF49oOsZj"
      ]
    },
    {
      "cell_type": "code",
      "execution_count": null,
      "metadata": {
        "execution": {},
        "colab": {
          "base_uri": "https://localhost:8080/",
          "height": 421
        },
        "id": "bbE6asJGxX_f",
        "outputId": "7bcb091f-b55a-47a6-9a6d-b6dc40a8d2c8"
      },
      "outputs": [
        {
          "output_type": "display_data",
          "data": {
            "text/plain": [
              "<IPython.core.display.HTML object>"
            ],
            "text/html": [
              "<video alt=\"test\" autoplay\n",
              "                loop controls style=\"height: 400px;\">\n",
              "                <source src=\"data:video/mp4;base64,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\" type=\"video/mp4\" />\n",
              "             </video>"
            ]
          },
          "metadata": {}
        }
      ],
      "source": [
        "test_env = wrap_env(gym.make(\"LunarLander-v2\"))\n",
        "observation = test_env.reset()\n",
        "total_reward = 0\n",
        "while True:\n",
        "  test_env.render()\n",
        "  action, states = model.predict(observation, deterministic=True)\n",
        "  observation, reward, done, info = test_env.step(action)\n",
        "  total_reward += reward\n",
        "  if done:\n",
        "    break;\n",
        "\n",
        "# print(total_reward)\n",
        "test_env.close()\n",
        "show_video()"
      ]
    },
    {
      "cell_type": "markdown",
      "metadata": {
        "execution": {},
        "id": "LAyOXncPxX_f"
      },
      "source": [
        "From the video above, we see that the lander has crashed! \n",
        "It is now the time for training! \n"
      ]
    },
    {
      "cell_type": "code",
      "execution_count": null,
      "metadata": {
        "execution": {},
        "colab": {
          "base_uri": "https://localhost:8080/"
        },
        "id": "CeQmEI1dxX_g",
        "outputId": "d17978b2-40c9-4b88-b290-83bd19224e62"
      },
      "outputs": [
        {
          "output_type": "stream",
          "name": "stdout",
          "text": [
            "Eval num_timesteps=10000, episode_reward=-112.41 +/- 26.14\n",
            "Episode length: 78.40 +/- 9.65\n",
            "New best mean reward!\n",
            "Eval num_timesteps=20000, episode_reward=-151.83 +/- 35.93\n",
            "Episode length: 1000.00 +/- 0.00\n",
            "Eval num_timesteps=30000, episode_reward=175.11 +/- 125.95\n",
            "Episode length: 484.00 +/- 63.43\n",
            "New best mean reward!\n",
            "Eval num_timesteps=40000, episode_reward=-97.35 +/- 24.98\n",
            "Episode length: 1000.00 +/- 0.00\n"
          ]
        },
        {
          "output_type": "execute_result",
          "data": {
            "text/plain": [
              "<stable_baselines3.dqn.dqn.DQN at 0x7f4327b28d90>"
            ]
          },
          "metadata": {},
          "execution_count": 169
        }
      ],
      "source": [
        "model.learn(total_timesteps=40000, log_interval=10, callback=callback)\n",
        "# The performance of the training will be printed every 10 episodes. Change it to 1, if you wish to\n",
        "# view the performance at every training episode."
      ]
    },
    {
      "cell_type": "code",
      "source": [
        "trained_model_weights = get_model_weights(model, 'trained_model')"
      ],
      "metadata": {
        "id": "Df1X32nCEBEs"
      },
      "execution_count": null,
      "outputs": []
    },
    {
      "cell_type": "code",
      "source": [
        "## Here we can compare the change in the model weights"
      ],
      "metadata": {
        "id": "pAKMNTHLb8JG"
      },
      "execution_count": null,
      "outputs": []
    },
    {
      "cell_type": "code",
      "source": [
        "untrained_model_weights, trained_model_weights"
      ],
      "metadata": {
        "colab": {
          "base_uri": "https://localhost:8080/"
        },
        "id": "EVbpk3ZUbye5",
        "outputId": "988b2338-24c8-40da-952e-3b21a2627b2f"
      },
      "execution_count": null,
      "outputs": [
        {
          "output_type": "execute_result",
          "data": {
            "text/plain": [
              "(('untrained model',\n",
              "  [tensor(2.5560, device='cuda:0'),\n",
              "   tensor(-3.8614, device='cuda:0'),\n",
              "   tensor(-7.8497, device='cuda:0'),\n",
              "   tensor(0.2273, device='cuda:0'),\n",
              "   tensor(0.2720, device='cuda:0'),\n",
              "   tensor(-0.1196, device='cuda:0'),\n",
              "   tensor(2.5560, device='cuda:0'),\n",
              "   tensor(-3.8614, device='cuda:0'),\n",
              "   tensor(-7.8497, device='cuda:0'),\n",
              "   tensor(0.2273, device='cuda:0'),\n",
              "   tensor(0.2720, device='cuda:0'),\n",
              "   tensor(-0.1196, device='cuda:0')]),\n",
              " ('trained_model',\n",
              "  [tensor(12.0458, device='cuda:0'),\n",
              "   tensor(3.1706, device='cuda:0'),\n",
              "   tensor(-15.6969, device='cuda:0'),\n",
              "   tensor(1.2256, device='cuda:0'),\n",
              "   tensor(10.6075, device='cuda:0'),\n",
              "   tensor(-0.0283, device='cuda:0'),\n",
              "   tensor(12.0429, device='cuda:0'),\n",
              "   tensor(3.1703, device='cuda:0'),\n",
              "   tensor(-15.7032, device='cuda:0'),\n",
              "   tensor(1.2256, device='cuda:0'),\n",
              "   tensor(10.6130, device='cuda:0'),\n",
              "   tensor(-0.0280, device='cuda:0')]))"
            ]
          },
          "metadata": {},
          "execution_count": 171
        }
      ]
    },
    {
      "cell_type": "markdown",
      "source": [
        "# Savig and loading the model\n",
        "How to save to google drive: https://colab.research.google.com/drive/1CN7JxLA_Qk1Clc4CM75rSAqIlUKIF8xZ#scrollTo=T_tDc-oMEY22\n",
        "\n",
        "You can chack the saved models' directory here: https://drive.google.com/drive/folders/1ctYdReK3WwH-qxuusyKZAeM7iYfU9C04"
      ],
      "metadata": {
        "id": "gmtIx2TL6orI"
      }
    },
    {
      "cell_type": "markdown",
      "source": [
        "### Save to model to google drive "
      ],
      "metadata": {
        "id": "qSXccZCM7pvb"
      }
    },
    {
      "cell_type": "code",
      "source": [
        "model_version = \"DQN_model_1\"\n",
        "model.save(path + model_version)"
      ],
      "metadata": {
        "colab": {
          "base_uri": "https://localhost:8080/"
        },
        "id": "jGuyCjnC6njL",
        "outputId": "55f3b4c3-b7ed-40fb-f4ad-595ac1ff191d"
      },
      "execution_count": null,
      "outputs": [
        {
          "output_type": "stream",
          "name": "stdout",
          "text": [
            "Drive already mounted at /content/gdrive; to attempt to forcibly remount, call drive.mount(\"/content/gdrive\", force_remount=True).\n"
          ]
        }
      ]
    },
    {
      "cell_type": "markdown",
      "source": [
        "NB!!! load function re-creates model from scratch on each call, which can be slow. If you need to e.g. evaluate same model with multiple different sets of parameters, consider using load_parameters instead."
      ],
      "metadata": {
        "id": "FoFxAvdLFWyy"
      }
    },
    {
      "cell_type": "code",
      "source": [
        "env = gym.make('LunarLander-v2') ## I'm not quite sure why these coods needed but without it raise an error. \n",
        "env.reset()\n",
        "model2 = DQN.load(path + model_version, env = env)\n",
        "#model2_pretraining = model2"
      ],
      "metadata": {
        "id": "W2rKLqos_bOe"
      },
      "execution_count": null,
      "outputs": []
    },
    {
      "cell_type": "markdown",
      "source": [
        "### Compare the saved and untrained models' weights"
      ],
      "metadata": {
        "id": "mpzrpT268jvp"
      }
    },
    {
      "cell_type": "code",
      "source": [
        "untrained_model_weights, trained_model_weights, reloaded_model_weights"
      ],
      "metadata": {
        "colab": {
          "base_uri": "https://localhost:8080/"
        },
        "id": "PLUvjCyVde0Z",
        "outputId": "fcdad266-07db-4ccb-d29d-4c38c6f87ebb"
      },
      "execution_count": null,
      "outputs": [
        {
          "output_type": "execute_result",
          "data": {
            "text/plain": [
              "(('untrained model',\n",
              "  [tensor(2.5560, device='cuda:0'),\n",
              "   tensor(-3.8614, device='cuda:0'),\n",
              "   tensor(-7.8497, device='cuda:0'),\n",
              "   tensor(0.2273, device='cuda:0'),\n",
              "   tensor(0.2720, device='cuda:0'),\n",
              "   tensor(-0.1196, device='cuda:0'),\n",
              "   tensor(2.5560, device='cuda:0'),\n",
              "   tensor(-3.8614, device='cuda:0'),\n",
              "   tensor(-7.8497, device='cuda:0'),\n",
              "   tensor(0.2273, device='cuda:0'),\n",
              "   tensor(0.2720, device='cuda:0'),\n",
              "   tensor(-0.1196, device='cuda:0')]),\n",
              " ('trained_model',\n",
              "  [tensor(12.0458, device='cuda:0'),\n",
              "   tensor(3.1706, device='cuda:0'),\n",
              "   tensor(-15.6969, device='cuda:0'),\n",
              "   tensor(1.2256, device='cuda:0'),\n",
              "   tensor(10.6075, device='cuda:0'),\n",
              "   tensor(-0.0283, device='cuda:0'),\n",
              "   tensor(12.0429, device='cuda:0'),\n",
              "   tensor(3.1703, device='cuda:0'),\n",
              "   tensor(-15.7032, device='cuda:0'),\n",
              "   tensor(1.2256, device='cuda:0'),\n",
              "   tensor(10.6130, device='cuda:0'),\n",
              "   tensor(-0.0280, device='cuda:0')]),\n",
              " ('reloaded_model',\n",
              "  [tensor(12.0458, device='cuda:0'),\n",
              "   tensor(3.1706, device='cuda:0'),\n",
              "   tensor(-15.6969, device='cuda:0'),\n",
              "   tensor(1.2256, device='cuda:0'),\n",
              "   tensor(10.6075, device='cuda:0'),\n",
              "   tensor(-0.0283, device='cuda:0'),\n",
              "   tensor(12.0429, device='cuda:0'),\n",
              "   tensor(3.1703, device='cuda:0'),\n",
              "   tensor(-15.7032, device='cuda:0'),\n",
              "   tensor(1.2256, device='cuda:0'),\n",
              "   tensor(10.6130, device='cuda:0'),\n",
              "   tensor(-0.0280, device='cuda:0')]))"
            ]
          },
          "metadata": {},
          "execution_count": 174
        }
      ]
    },
    {
      "cell_type": "code",
      "source": [
        "## As expected weights for the first model (untrained) much smaller than weights for the trained model."
      ],
      "metadata": {
        "id": "SG3WCxLLQLCb"
      },
      "execution_count": null,
      "outputs": []
    },
    {
      "cell_type": "code",
      "source": [
        "# The model should be loaded to the GPU... \n",
        "model.learn(total_timesteps=40000, log_interval=10, callback=callback)"
      ],
      "metadata": {
        "id": "2c7CoyjSYvyu",
        "colab": {
          "base_uri": "https://localhost:8080/"
        },
        "outputId": "9f7ff485-c172-4ea2-de34-4c17dc8a7d7c"
      },
      "execution_count": null,
      "outputs": [
        {
          "output_type": "stream",
          "name": "stdout",
          "text": [
            "Eval num_timesteps=9996, episode_reward=-720.72 +/- 111.94\n",
            "Episode length: 74.80 +/- 8.86\n",
            "Eval num_timesteps=19996, episode_reward=-654.27 +/- 150.03\n",
            "Episode length: 73.40 +/- 7.68\n",
            "Eval num_timesteps=29996, episode_reward=-612.87 +/- 151.96\n",
            "Episode length: 67.60 +/- 11.74\n",
            "Eval num_timesteps=39996, episode_reward=-552.56 +/- 149.19\n",
            "Episode length: 67.60 +/- 10.86\n"
          ]
        },
        {
          "output_type": "execute_result",
          "data": {
            "text/plain": [
              "<stable_baselines3.dqn.dqn.DQN at 0x7f4327b28d90>"
            ]
          },
          "metadata": {},
          "execution_count": 181
        }
      ]
    },
    {
      "cell_type": "markdown",
      "source": [
        "## Saving the twice trained model"
      ],
      "metadata": {
        "id": "IZDFyd_nsEev"
      }
    },
    {
      "cell_type": "code",
      "source": [
        "model_version = \"twice_trained_model\"\n",
        "model.save(drive_path + model_version)"
      ],
      "metadata": {
        "id": "l0hxC1rGsCgr"
      },
      "execution_count": 221,
      "outputs": []
    },
    {
      "cell_type": "code",
      "source": [
        "twice_trained_model_weights = get_model_weights(model, 'twice trained model')"
      ],
      "metadata": {
        "id": "WubbYGspaZh9"
      },
      "execution_count": 186,
      "outputs": []
    },
    {
      "cell_type": "code",
      "source": [
        "untrained_model_weights, trained_model_weights, twice_trained_model_weights"
      ],
      "metadata": {
        "colab": {
          "base_uri": "https://localhost:8080/"
        },
        "id": "CxZ9IlUrltaz",
        "outputId": "7069ab98-5fc2-48b3-9d38-bcf563b408b3"
      },
      "execution_count": 187,
      "outputs": [
        {
          "output_type": "execute_result",
          "data": {
            "text/plain": [
              "(('untrained model',\n",
              "  [tensor(2.5560, device='cuda:0'),\n",
              "   tensor(-3.8614, device='cuda:0'),\n",
              "   tensor(-7.8497, device='cuda:0'),\n",
              "   tensor(0.2273, device='cuda:0'),\n",
              "   tensor(0.2720, device='cuda:0'),\n",
              "   tensor(-0.1196, device='cuda:0'),\n",
              "   tensor(2.5560, device='cuda:0'),\n",
              "   tensor(-3.8614, device='cuda:0'),\n",
              "   tensor(-7.8497, device='cuda:0'),\n",
              "   tensor(0.2273, device='cuda:0'),\n",
              "   tensor(0.2720, device='cuda:0'),\n",
              "   tensor(-0.1196, device='cuda:0')]),\n",
              " ('trained_model',\n",
              "  [tensor(12.0458, device='cuda:0'),\n",
              "   tensor(3.1706, device='cuda:0'),\n",
              "   tensor(-15.6969, device='cuda:0'),\n",
              "   tensor(1.2256, device='cuda:0'),\n",
              "   tensor(10.6075, device='cuda:0'),\n",
              "   tensor(-0.0283, device='cuda:0'),\n",
              "   tensor(12.0429, device='cuda:0'),\n",
              "   tensor(3.1703, device='cuda:0'),\n",
              "   tensor(-15.7032, device='cuda:0'),\n",
              "   tensor(1.2256, device='cuda:0'),\n",
              "   tensor(10.6130, device='cuda:0'),\n",
              "   tensor(-0.0280, device='cuda:0')]),\n",
              " ('twice trained model',\n",
              "  [tensor(1516.9347, device='cuda:0'),\n",
              "   tensor(1375.8053, device='cuda:0'),\n",
              "   tensor(31820.0117, device='cuda:0'),\n",
              "   tensor(616.2864, device='cuda:0'),\n",
              "   tensor(1194.9939, device='cuda:0'),\n",
              "   tensor(30.0545, device='cuda:0'),\n",
              "   tensor(1516.9546, device='cuda:0'),\n",
              "   tensor(1375.7706, device='cuda:0'),\n",
              "   tensor(31819.2637, device='cuda:0'),\n",
              "   tensor(616.2692, device='cuda:0'),\n",
              "   tensor(1194.9575, device='cuda:0'),\n",
              "   tensor(30.0532, device='cuda:0')]))"
            ]
          },
          "metadata": {},
          "execution_count": 187
        }
      ]
    },
    {
      "cell_type": "markdown",
      "source": [
        "# Check out the model parameters for saving "
      ],
      "metadata": {
        "id": "vFxbjPFQnnt3"
      }
    },
    {
      "cell_type": "markdown",
      "source": [
        "### We have qite a strange model architecture... Aren't we?? \n",
        "\n",
        "We have two set of network parameters... a q_net, and a q_net_target. \n",
        "We also have numbered layers but it goes as 0,2, 4... Where is 1 and 2??? "
      ],
      "metadata": {
        "id": "i_4FHC-iqwVo"
      }
    },
    {
      "cell_type": "code",
      "source": [
        "model.policy.state_dict().keys()\n",
        "[item for item in model.policy.state_dict().keys()]"
      ],
      "metadata": {
        "colab": {
          "base_uri": "https://localhost:8080/"
        },
        "id": "y4IxQozrqa9b",
        "outputId": "65d375e6-1bf7-4295-c1bc-83795e4f9f8a"
      },
      "execution_count": 218,
      "outputs": [
        {
          "output_type": "execute_result",
          "data": {
            "text/plain": [
              "['q_net.q_net.0.weight',\n",
              " 'q_net.q_net.0.bias',\n",
              " 'q_net.q_net.2.weight',\n",
              " 'q_net.q_net.2.bias',\n",
              " 'q_net.q_net.4.weight',\n",
              " 'q_net.q_net.4.bias',\n",
              " 'q_net_target.q_net.0.weight',\n",
              " 'q_net_target.q_net.0.bias',\n",
              " 'q_net_target.q_net.2.weight',\n",
              " 'q_net_target.q_net.2.bias',\n",
              " 'q_net_target.q_net.4.weight',\n",
              " 'q_net_target.q_net.4.bias']"
            ]
          },
          "metadata": {},
          "execution_count": 218
        }
      ]
    },
    {
      "cell_type": "markdown",
      "source": [
        "## q_net and q_net_target have the same shapes"
      ],
      "metadata": {
        "id": "lKLAV9qduRhX"
      }
    },
    {
      "cell_type": "code",
      "source": [
        "[model.policy.state_dict()['q_net.q_net.'+str(item)+'.weight'].shape for item in [0, 2, 4 ]]"
      ],
      "metadata": {
        "colab": {
          "base_uri": "https://localhost:8080/"
        },
        "id": "HwiyFBybqcyv",
        "outputId": "dfcb6dc4-da3b-4539-8713-d241bef070a1"
      },
      "execution_count": 234,
      "outputs": [
        {
          "output_type": "execute_result",
          "data": {
            "text/plain": [
              "[torch.Size([64, 8]), torch.Size([64, 64]), torch.Size([4, 64])]"
            ]
          },
          "metadata": {},
          "execution_count": 234
        }
      ]
    },
    {
      "cell_type": "code",
      "source": [
        "[model.policy.state_dict()['q_net_target.q_net.'+str(item)+'.weight'].shape for item in [0, 2, 4 ]]"
      ],
      "metadata": {
        "colab": {
          "base_uri": "https://localhost:8080/"
        },
        "id": "2TGJHq9lupxf",
        "outputId": "a9bc9586-7f74-41d0-c28d-597f223a4c1b"
      },
      "execution_count": 235,
      "outputs": [
        {
          "output_type": "execute_result",
          "data": {
            "text/plain": [
              "[torch.Size([64, 8]), torch.Size([64, 64]), torch.Size([4, 64])]"
            ]
          },
          "metadata": {},
          "execution_count": 235
        }
      ]
    },
    {
      "cell_type": "markdown",
      "source": [
        "## Exploring the weights"
      ],
      "metadata": {
        "id": "RIcgVZIJvvEZ"
      }
    },
    {
      "cell_type": "code",
      "source": [
        "\n",
        "torch.zeros(64, 64)"
      ],
      "metadata": {
        "colab": {
          "base_uri": "https://localhost:8080/"
        },
        "id": "spw4c8-IqcqU",
        "outputId": "fc0fd1bf-33c5-45dd-9eb6-c144a8833db1"
      },
      "execution_count": 241,
      "outputs": [
        {
          "output_type": "execute_result",
          "data": {
            "text/plain": [
              "tensor([[0., 0., 0.,  ..., 0., 0., 0.],\n",
              "        [0., 0., 0.,  ..., 0., 0., 0.],\n",
              "        [0., 0., 0.,  ..., 0., 0., 0.],\n",
              "        ...,\n",
              "        [0., 0., 0.,  ..., 0., 0., 0.],\n",
              "        [0., 0., 0.,  ..., 0., 0., 0.],\n",
              "        [0., 0., 0.,  ..., 0., 0., 0.]])"
            ]
          },
          "metadata": {},
          "execution_count": 241
        }
      ]
    },
    {
      "cell_type": "code",
      "source": [
        "model.policy.state_dict()['q_net.q_net.2.weight'] = torch.zeros(64, 64)\n",
        "model.policy.state_dict()['q_net.q_net.2.weight']"
      ],
      "metadata": {
        "colab": {
          "base_uri": "https://localhost:8080/"
        },
        "id": "r8PQE5R1qcgd",
        "outputId": "2348fbc7-ecb0-4813-c1c7-9d7c16bf0fda"
      },
      "execution_count": 244,
      "outputs": [
        {
          "output_type": "execute_result",
          "data": {
            "text/plain": [
              "tensor([[-1.1390e+00,  3.4585e+01,  3.4910e+01,  ...,  3.5747e+01,\n",
              "         -2.4707e+00,  3.4416e+01],\n",
              "        [ 9.0390e-01,  1.3683e-02,  4.2826e-01,  ..., -1.0059e+00,\n",
              "          9.2308e-01, -1.8522e-01],\n",
              "        [ 8.6782e-01, -6.8371e-02,  2.7794e-02,  ..., -3.0699e-01,\n",
              "          1.4409e+00,  4.6750e-01],\n",
              "        ...,\n",
              "        [-2.4227e-01,  3.3781e+01,  3.4464e+01,  ...,  3.4058e+01,\n",
              "         -1.9968e+00,  3.3213e+01],\n",
              "        [-1.2216e+00,  3.4699e+01,  3.3991e+01,  ...,  3.5583e+01,\n",
              "         -1.8023e+00,  3.4943e+01],\n",
              "        [-6.7140e-01,  3.4692e+01,  3.5179e+01,  ...,  3.5599e+01,\n",
              "         -1.8181e+00,  3.4318e+01]], device='cuda:0')"
            ]
          },
          "metadata": {},
          "execution_count": 244
        }
      ]
    },
    {
      "cell_type": "code",
      "source": [
        "#od[od.keys()[x]] = y\n",
        "\n",
        "\n",
        "\n",
        "model.policy.state_dict()[model.policy.state_dict()['q_net.q_net.2.weight'] ]= torch.zeros(64, 64)"
      ],
      "metadata": {
        "id": "fFpI4cqHqcWX"
      },
      "execution_count": 250,
      "outputs": []
    },
    {
      "cell_type": "code",
      "source": [
        "model.policy.state_dict()['q_net.q_net.2.weight']"
      ],
      "metadata": {
        "colab": {
          "base_uri": "https://localhost:8080/"
        },
        "id": "4tyvifr1qcML",
        "outputId": "afb7d076-8685-4f06-8cc4-3f125e3e7edf"
      },
      "execution_count": 248,
      "outputs": [
        {
          "output_type": "execute_result",
          "data": {
            "text/plain": [
              "tensor([[-1.1390e+00,  3.4585e+01,  3.4910e+01,  ...,  3.5747e+01,\n",
              "         -2.4707e+00,  3.4416e+01],\n",
              "        [ 9.0390e-01,  1.3683e-02,  4.2826e-01,  ..., -1.0059e+00,\n",
              "          9.2308e-01, -1.8522e-01],\n",
              "        [ 8.6782e-01, -6.8371e-02,  2.7794e-02,  ..., -3.0699e-01,\n",
              "          1.4409e+00,  4.6750e-01],\n",
              "        ...,\n",
              "        [-2.4227e-01,  3.3781e+01,  3.4464e+01,  ...,  3.4058e+01,\n",
              "         -1.9968e+00,  3.3213e+01],\n",
              "        [-1.2216e+00,  3.4699e+01,  3.3991e+01,  ...,  3.5583e+01,\n",
              "         -1.8023e+00,  3.4943e+01],\n",
              "        [-6.7140e-01,  3.4692e+01,  3.5179e+01,  ...,  3.5599e+01,\n",
              "         -1.8181e+00,  3.4318e+01]], device='cuda:0')"
            ]
          },
          "metadata": {},
          "execution_count": 248
        }
      ]
    },
    {
      "cell_type": "code",
      "source": [
        ""
      ],
      "metadata": {
        "id": "HNfeJimHqcBM"
      },
      "execution_count": null,
      "outputs": []
    },
    {
      "cell_type": "code",
      "source": [
        ""
      ],
      "metadata": {
        "id": "D1mIDBoiqZz4"
      },
      "execution_count": null,
      "outputs": []
    },
    {
      "cell_type": "code",
      "source": [
        "## Useful sources \n",
        "# https://www.analyticsvidhya.com/blog/2021/05/a-complete-hands-on-guide-to-train-your-neural-network-model-on-google-colab-gpu/\n",
        "# https://pytorch.org/tutorials/recipes/recipes/save_load_across_devices.html"
      ],
      "metadata": {
        "id": "iTymvIWs_eBO"
      },
      "execution_count": null,
      "outputs": []
    },
    {
      "cell_type": "code",
      "source": [
        ""
      ],
      "metadata": {
        "id": "pXWV6dhx2gIA"
      },
      "execution_count": null,
      "outputs": []
    },
    {
      "cell_type": "code",
      "source": [
        ""
      ],
      "metadata": {
        "id": "3MVWTpHGC7zf"
      },
      "execution_count": null,
      "outputs": []
    },
    {
      "cell_type": "code",
      "source": [
        ""
      ],
      "metadata": {
        "id": "DpxeA8i9C9KW"
      },
      "execution_count": null,
      "outputs": []
    },
    {
      "cell_type": "code",
      "source": [
        ""
      ],
      "metadata": {
        "id": "WZcZDPEgC87s"
      },
      "execution_count": 185,
      "outputs": []
    },
    {
      "cell_type": "code",
      "source": [
        "#def get_default_device():\n",
        "#    \"\"\"Picking GPU if available or else CPU\"\"\"\n",
        "#    if torch.cuda.is_available():\n",
        "#        return torch.device('cuda')\n",
        "#    else:\n",
        "#        return torch.device('cpu')\n",
        "\n",
        "\n",
        "\n",
        "#device = get_default_device()\n",
        "#device"
      ],
      "metadata": {
        "id": "a1MxLssM9uSS"
      },
      "execution_count": null,
      "outputs": []
    },
    {
      "cell_type": "code",
      "source": [
        ""
      ],
      "metadata": {
        "id": "bnjqiSgcNsSl"
      },
      "execution_count": null,
      "outputs": []
    },
    {
      "cell_type": "code",
      "source": [
        ""
      ],
      "metadata": {
        "id": "W1OrpkQLbQRS"
      },
      "execution_count": null,
      "outputs": []
    },
    {
      "cell_type": "code",
      "source": [
        ""
      ],
      "metadata": {
        "id": "ImlkaDMbbQGH"
      },
      "execution_count": null,
      "outputs": []
    },
    {
      "cell_type": "code",
      "source": [
        ""
      ],
      "metadata": {
        "id": "mgb0FzgQbP49"
      },
      "execution_count": null,
      "outputs": []
    },
    {
      "cell_type": "code",
      "source": [
        ""
      ],
      "metadata": {
        "id": "wSn8FySwI35e"
      },
      "execution_count": null,
      "outputs": []
    },
    {
      "cell_type": "markdown",
      "metadata": {
        "execution": {},
        "id": "ZjxOTq4LxX_g"
      },
      "source": [
        "The training takes time. We encourage you to analyze the output logs (set verbose to 1 to print the output logs). The main component of the logs that you should track is \"ep_rew_mean\" (mean of episode rewards). As the training proceeds, the value of \"ep_rew_mean\" should increase. The improvement need not be monotonic, but the trend should be upwards! \n",
        "\n",
        "Along with training, we are also periodically evaluating the performance of the current model during the training. This was reported in logs as follows:\n",
        "\n",
        "```\n",
        "Eval num_timesteps=100000, episode_reward=63.41 +/- 130.02\n",
        "Episode length: 259.80 +/- 47.47\n",
        "```"
      ]
    },
    {
      "cell_type": "markdown",
      "metadata": {
        "execution": {},
        "id": "SrFuUfrKxX_g"
      },
      "source": [
        "Now, let us look at the visual performance of the lander. \n",
        "\n",
        "**Note:** The performance varies across different seeds and runs. This code is not optimized to be stable across all runs and seeds. We hope you will be able to find an optimal configuration! "
      ]
    },
    {
      "cell_type": "code",
      "execution_count": null,
      "metadata": {
        "execution": {},
        "id": "E3tB4vr8xX_g"
      },
      "outputs": [],
      "source": [
        "env = wrap_env(gym.make(\"LunarLander-v2\"))\n",
        "observation = env.reset()\n",
        "while True:\n",
        "  env.render()\n",
        "  action, _states = model.predict(observation, deterministic=True)\n",
        "  observation, reward, done, info = env.step(action)\n",
        "  if done:\n",
        "    break;\n",
        "\n",
        "env.close()\n",
        "show_video()"
      ]
    },
    {
      "cell_type": "markdown",
      "metadata": {
        "execution": {},
        "id": "BHP2XmSwxX_h"
      },
      "source": [
        "The lander has landed safely!!\n",
        "\n",
        "Let us analyze its performance (speed and stability). For this purpose, we plot the number of time steps on the X-axis and the episodic reward given by the trained model on the Y-axis. "
      ]
    },
    {
      "cell_type": "code",
      "execution_count": null,
      "metadata": {
        "execution": {},
        "id": "qK7N3LOrxX_h"
      },
      "outputs": [],
      "source": [
        "x, y = ts2xy(load_results(log_dir), 'timesteps')  # Organising the logged results in to a clean format for plotting.\n",
        "plt.plot(x,y)\n",
        "plt.ylim([-300, 300])\n",
        "plt.xlabel('Timesteps')\n",
        "plt.ylabel('Episode Rewards')"
      ]
    },
    {
      "cell_type": "markdown",
      "metadata": {
        "execution": {},
        "id": "suJ6uC2fxX_h"
      },
      "source": [
        "From the above plot, we observe that, although the maximum reward is achieved quickly. Achieving an episodic reward of > 200 is good. We see that the agent has achieved it in less than 50000 timesteps (speed is good!). However, there are a lot of fluctuations in the performance (stability is not good!). \n",
        "\n",
        "Your objective now is to modify the model parameters (nn_layers, learning_rate in the code cell #2 above), run all the cells following it and investigate the stability and speed of the chosen configuration.   \n"
      ]
    },
    {
      "cell_type": "code",
      "source": [
        "## Check model parameters with these snippets\n",
        "# model2.get_parameters()\n",
        "# model2.get_parameters().keys()"
      ],
      "metadata": {
        "id": "PqSrTSnp_WgV"
      },
      "execution_count": null,
      "outputs": []
    },
    {
      "cell_type": "code",
      "source": [
        ""
      ],
      "metadata": {
        "id": "cGNlDuZGcU84"
      },
      "execution_count": null,
      "outputs": []
    },
    {
      "cell_type": "code",
      "source": [
        "reloaded_model_weights = get_model_weights(model2, 'reloaded_model')"
      ],
      "metadata": {
        "id": "y_GJfP4pdc1g"
      },
      "execution_count": null,
      "outputs": []
    },
    {
      "cell_type": "markdown",
      "metadata": {
        "execution": {},
        "id": "osWTy2z-xX_h"
      },
      "source": [
        "---\n",
        "# Additional Project Ideas"
      ]
    },
    {
      "cell_type": "markdown",
      "metadata": {
        "execution": {},
        "id": "Gd_RZR0fxX_h"
      },
      "source": [
        "## 1 Play with exploration-exploitation trade-off\n",
        "\n",
        "Exploration (selecting random actions) and exploitation (selecting greedy action) is a crucial component of the DQN algorithm. Explore random actions for a long time will slow down the training process. At the same time, if all actions are not explored enough, it might lead to a sub-optimal performance. In the DQN code above, we have used the following parameters:"
      ]
    },
    {
      "cell_type": "code",
      "execution_count": null,
      "metadata": {
        "execution": {},
        "id": "mY6DSpoMxX_h"
      },
      "outputs": [],
      "source": [
        "exploration_initial_eps = 1  # initial value of random action probability. Range is between 0 and 1.\n",
        "exploration_fraction = 0.5  # fraction of entire training period over which the exploration rate is reduced. Range is between 0 and 1.\n",
        "exploration_final_eps = 0.05  # (set by defualt) final value of random action probability. Range is between 0 and 1."
      ]
    },
    {
      "cell_type": "markdown",
      "metadata": {
        "execution": {},
        "id": "4jc9JtiZxX_i"
      },
      "source": [
        "Your objective is to play around with these parameters and analyze their performance (speed and stability). You can modify these parameters and set them as arguments in DQN(...,exploration_initial_eps = 1, exploration_fraction = 0.5, exploration_final_eps = 0.05,...). "
      ]
    },
    {
      "cell_type": "markdown",
      "metadata": {
        "execution": {},
        "id": "EyURXfE4xX_i"
      },
      "source": [
        "## 2 Reward Shaping\n",
        "\n",
        "Your objective here is to construct a modified reward function that improves the performance of the Lunar Lander. To this end, you would have to create your own custom environment. An example of a custom environment is given below:"
      ]
    },
    {
      "cell_type": "code",
      "execution_count": null,
      "metadata": {
        "execution": {},
        "id": "DCYiL0H_xX_i"
      },
      "outputs": [],
      "source": [
        "# Taken from https://stable-baselines3.readthedocs.io/en/master/guide/custom_env.html\n",
        "class CustomEnv(gym.Env):\n",
        "  \"\"\"Custom Environment that follows gym interface\"\"\"\n",
        "  metadata = {'render.modes': ['human']}\n",
        "\n",
        "  def __init__(self, arg1, arg2):\n",
        "    super(CustomEnv, self).__init__()\n",
        "    # Define action and observation space\n",
        "    # They must be gym.spaces objects\n",
        "    # Example when using discrete actions:\n",
        "    self.action_space = spaces.Discrete(N_DISCRETE_ACTIONS)\n",
        "    # Example for using image as input (channel-first; channel-last also works):\n",
        "    self.observation_space = spaces.Box(low=0, high=255,\n",
        "                                        shape=(N_CHANNELS, HEIGHT, WIDTH), dtype=np.uint8)\n",
        "\n",
        "  def step(self, action):\n",
        "    ...\n",
        "    return observation, reward, done, info\n",
        "  def reset(self):\n",
        "    ...\n",
        "    return observation  # reward, done, info can't be included\n",
        "  def render(self, mode='human'):\n",
        "    ...\n",
        "  def close (self):\n",
        "    ..."
      ]
    },
    {
      "cell_type": "markdown",
      "metadata": {
        "execution": {},
        "id": "Uus1Ncm-xX_i"
      },
      "source": [
        "As you are only changing the reward structure, you can inherit the original Lunar Lander environment from https://github.com/openai/gym/blob/master/gym/envs/box2d/lunar_lander.py and modify just the \"step\" function. Focus on modifying the following part of the code in the \"step\" function\n"
      ]
    },
    {
      "cell_type": "code",
      "execution_count": null,
      "metadata": {
        "execution": {},
        "id": "S8slWB4OxX_i"
      },
      "outputs": [],
      "source": [
        "def step(self, actions):\n",
        "  ...\n",
        "  ...\n",
        "  ...\n",
        "  reward = 0\n",
        "  shaping = (\n",
        "      -100 * np.sqrt(state[0] * state[0] + state[1] * state[1])\n",
        "      - 100 * np.sqrt(state[2] * state[2] + state[3] * state[3])\n",
        "      - 100 * abs(state[4])\n",
        "      + 10 * state[6]\n",
        "      + 10 * state[7]\n",
        "  )  # And ten points for legs contact, the idea is if you\n",
        "  # lose contact again after landing, you get negative reward\n",
        "  if self.prev_shaping is not None:\n",
        "      reward = shaping - self.prev_shaping\n",
        "  self.prev_shaping = shaping\n",
        "\n",
        "  reward -= (\n",
        "      m_power * 0.30\n",
        "  )  # less fuel spent is better, about -30 for heuristic landing. You should modify these values.\n",
        "  reward -= s_power * 0.03\n",
        "\n",
        "  done = False\n",
        "  if self.game_over or abs(state[0]) >= 1.0:\n",
        "      done = True\n",
        "      reward = -100\n",
        "  if not self.lander.awake:\n",
        "      done = True\n",
        "      reward = +100\n",
        "  return np.array(state, dtype=np.float32), reward, done, {}"
      ]
    },
    {
      "cell_type": "markdown",
      "metadata": {
        "execution": {},
        "id": "Jlp-n31TxX_i"
      },
      "source": [
        "Once you have cutomized your own environment, you can execute that environment by just calling:"
      ]
    },
    {
      "cell_type": "code",
      "execution_count": null,
      "metadata": {
        "execution": {},
        "id": "NaG1aH3AxX_i"
      },
      "outputs": [],
      "source": [
        "#Enter the name of the custome environment you created and uncomment the line below.\n",
        "#env = Custom_LunarLander()\n",
        "# Refer to https://stable-baselines3.readthedocs.io/en/master/guide/custom_env.html, if you would like to create more complex environments."
      ]
    },
    {
      "cell_type": "markdown",
      "metadata": {
        "execution": {},
        "id": "uzu-QpsZxX_j"
      },
      "source": [
        "## 3 Identify the state information crucial to its performance.\n",
        "\n",
        "Your objective here is to alter the input state information and analyze the performance. The input state of the Lunar Lander consists of following components:\n",
        "\n",
        "  1. Horizontal Position\n",
        "  2. Vertical Position\n",
        "  3. Horizontal Velocity\n",
        "  4. Vertical Velocity\n",
        "  5. Angle\n",
        "  6. Angular Velocity\n",
        "  7. Left Leg Contact\n",
        "  8. Right Leg Contact\n",
        "\n",
        "You can train the algorithm by masking one of the eight components at a time and understand how that affects the performance of the algorithm. Similar to the reward shaping task, you would have to create a custom environment and modify the state space. Again, you can inherit all the necessary functions and modify the following portion of the \"Step\" function:"
      ]
    },
    {
      "cell_type": "code",
      "execution_count": null,
      "metadata": {
        "execution": {},
        "id": "FIgylShHxX_j"
      },
      "outputs": [],
      "source": [
        "def step(self, actions):\n",
        "  ...\n",
        "  ...\n",
        "  ...\n",
        "  state = [ # Remove one component at a time to investigate the effect on performance!\n",
        "            (pos.x - VIEWPORT_W / SCALE / 2) / (VIEWPORT_W / SCALE / 2),\n",
        "            (pos.y - (self.helipad_y + LEG_DOWN / SCALE)) / (VIEWPORT_H / SCALE / 2),\n",
        "            vel.x * (VIEWPORT_W / SCALE / 2) / FPS,\n",
        "            vel.y * (VIEWPORT_H / SCALE / 2) / FPS,\n",
        "            self.lander.angle,\n",
        "            20.0 * self.lander.angularVelocity / FPS,\n",
        "            1.0 if self.legs[0].ground_contact else 0.0,\n",
        "            1.0 if self.legs[1].ground_contact else 0.0,\n",
        "        ]"
      ]
    },
    {
      "cell_type": "markdown",
      "metadata": {
        "execution": {},
        "id": "HaReJtYYxX_k"
      },
      "source": [
        "## 4 Extension to Atari Games\n",
        "\n",
        "In the Lunar Lander task, the input to the algorithm is a vector of state information. Deep RL algorithms can also be applied when the input to the training is image frames, which is the case in the Atari games. For example, consider an Atari game - Pong. In this environment, the observation is an RGB image of the screen, which is an array of shape (210, 160, 3). To train the Pong game, you can start with the following sample code:"
      ]
    },
    {
      "cell_type": "code",
      "execution_count": null,
      "metadata": {
        "execution": {},
        "id": "B5Oxg8QIxX_k"
      },
      "outputs": [],
      "source": [
        "## Taken from: https://colab.research.google.com/github/Stable-Baselines-Team/rl-colab-notebooks/blob/sb3/atari_games.ipynb#scrollTo=f3K4rMXwimBO\n",
        "env = make_atari_env('PongNoFrameskip-v4', n_envs=4, seed=0)\n",
        "\n",
        "##Atari Games take a lot of memory. Following commands crash on Coalb. Run the following code on Colab Pro or your local Jupyter notebook!\n",
        "# env = VecFrameStack(env, n_stack=4)\n",
        "# model = DQN('CnnPolicy', env, verbose=1)  # Note the difference here! We use 'CnnPolicy\" here instead of 'MlpPolicy' as the input is frames.\n",
        "# model.learn(total_timesteps=1) #change the number of timesteps as desired and run this command!"
      ]
    },
    {
      "cell_type": "markdown",
      "metadata": {
        "execution": {},
        "id": "hL5TeJHZxX_k"
      },
      "source": [
        "## 5 Obstacle Avoidance and Transfer Learning\n",
        "\n",
        "Your obstacle here is to add an obstacle in the path of the lunar lander (by creating a custom environment as described in point 2 above) and train the model such that the lander lands safely, avoiding collisions. \n",
        "\n",
        "You would first want to devise a mechansim for adding obstacles. For example, you could have an imaginary obstacle at some horizantal and vertical position cooridnates and modify the reward function such that a penalty is levied if the lander comes close to it. \n",
        "\n",
        "An interesting approach to solve this problem is to apply the techniques of transfer learning. For example, you could initialise the neural network model with the weights of the trained model on the original problem to improve the sample effeciency. This can be done using the following code:"
      ]
    },
    {
      "cell_type": "code",
      "execution_count": null,
      "metadata": {
        "execution": {},
        "id": "w0CeFKHixX_l"
      },
      "outputs": [],
      "source": [
        "## Specify the load path and uncomment below:\n",
        "\n",
        "# model = load(load_path,\n",
        "#              env=gym.make('LunarLander-v2'),\n",
        "#              custom_objects=None, **kwargs)"
      ]
    },
    {
      "cell_type": "markdown",
      "metadata": {
        "execution": {},
        "id": "omfqzwlQxX_l"
      },
      "source": [
        "Following are some of the resources on transfer learning that you would want to start with. \n",
        "\n",
        "**Research Papers**\n",
        "\n",
        "Surveys:\n",
        "1. (Long, Old, Highly cited) Taylor, M. E.,  et al. (2009). Transfer learning for reinforcement learning domains. https://www.jmlr.org/papers/volume10/taylor09a/taylor09a.pdf\n",
        "\n",
        "2. (Medium, Old, Good for a quick read) Lazaric, A. (2012). Transfer in reinforcement learning: a framework and a survey. https://hal.inria.fr/docs/00/77/26/26/PDF/transfer.pdf\n",
        "\n",
        "3. (Medium, Recent, Good for a quick read) Zhu, Z., Lin, K., & Zhou, J. (2020). Transfer learning in deep reinforcement learning. https://arxiv.org/pdf/2009.07888.pdf\n",
        "\n",
        "4. Specific example:\n",
        "Barreto, A., et al. (2016).  Successor features for transfer in reinforcement learning. https://arxiv.org/pdf/1606.05312"
      ]
    },
    {
      "cell_type": "markdown",
      "metadata": {
        "execution": {},
        "id": "er67NMCkxX_l"
      },
      "source": [
        "## 5(b) Transfer Learning in minigrid environment\n",
        "\n",
        "These are some simple gridworld gym environments designed to be particularly simple, lightweight and fast. Refer to https://github.com/maximecb/gym-minigrid for description of the environments. An example to load a minigrid environment is given below:"
      ]
    },
    {
      "cell_type": "code",
      "execution_count": null,
      "metadata": {
        "execution": {},
        "id": "rVhVBpTwxX_l"
      },
      "outputs": [],
      "source": [
        "!pip install gym-minigrid --quiet\n",
        "import gym_minigrid\n",
        "env = gym.make('MiniGrid-Empty-5x5-v0')"
      ]
    },
    {
      "cell_type": "markdown",
      "metadata": {
        "execution": {},
        "id": "j21_BZvhxX_l"
      },
      "source": [
        "You can train a standard DQN agent in this env by wrapping the env with full image observation wrappers:\n"
      ]
    },
    {
      "cell_type": "code",
      "execution_count": null,
      "metadata": {
        "execution": {},
        "id": "a6wuIn_9xX_m"
      },
      "outputs": [],
      "source": [
        "env = gym_minigrid.wrappers.ImgObsWrapper(gym_minigrid.wrappers.RGBImgObsWrapper(env))"
      ]
    },
    {
      "cell_type": "markdown",
      "metadata": {
        "execution": {},
        "id": "M1cS22M0xX_m"
      },
      "source": [
        "Note that with full image observations, the shape of the image observations may differ between envs. For e.g., MiniGrid-Empty-5x5-v0 is (40,40,3) while MiniGrid-Empty-8x8-v0 is (64,64,3). So you may need to resize the observations for transfer learning to work with the same DQN architecture.\n",
        "\n",
        "Now try training a DQN (or another method) in one (or multiple) minigrid env(s),and see if that knowledge transfers to another (or multiple other) minigrid env(s).\n"
      ]
    },
    {
      "cell_type": "markdown",
      "metadata": {
        "execution": {},
        "id": "u5gVtQ5nxX_m"
      },
      "source": [
        "## 6 Preference-Based RL (PBRL)\n",
        "\n",
        "PBRL is an exciting sub-area in RL where the traditional reward structure is replaced with human preferences. This setting is very useful in applications where it is difficult to construct a reward function. \n",
        "\n",
        "In the earlier section, we have successfully trained the lunar lander to land safely. Here, the path that the lander follows to land safely can be arbitrary. In this project, using the techniques of PBRL, you will solve the lunar lander problem with an additional requirement that the lander should follow a specially curated path (for example, a straight line path). Following are some of the resources that will help you to get started with this project. \n",
        "\n",
        "**Research papers:**\n",
        "1. Deep Reinforcement Learning\n",
        "from Human Preferences https://papers.nips.cc/paper/2017/file/d5e2c0adad503c91f91df240d0cd4e49-Paper.pdf\n",
        "2. Deep Q-learning from Demonstrations https://arxiv.org/pdf/1704.03732.pdf\n",
        "3. Reward learning from human preferences https://arxiv.org/pdf/1811.06521.pdf\n",
        "4. T-REX https://arxiv.org/pdf/1904.06387.pdf\n",
        "\n",
        "**Code Bases:**\n",
        "1. https://github.com/nottombrown/rl-teacher\n",
        "2. https://github.com/hiwonjoon/ICML2019-TREX\n"
      ]
    },
    {
      "cell_type": "markdown",
      "metadata": {
        "execution": {},
        "id": "fSwjtmQJxX_m"
      },
      "source": [
        "---\n",
        "# References\n",
        "\n",
        "1. Stable Baselines Framework: https://stable-baselines3.readthedocs.io/en/master/guide/examples.html\n",
        "\n",
        "2. Lunar Lander Environment: https://gym.openai.com/envs/LunarLander-v2/\n",
        "\n",
        "3. OpenAI gym environments: https://gym.openai.com/docs/\n",
        "\n",
        "4. A good reference for introduction to RL: http://incompleteideas.net/book/the-book-2nd.html\n"
      ]
    }
  ],
  "metadata": {
    "accelerator": "GPU",
    "colab": {
      "collapsed_sections": [],
      "name": "lunar_lander másolata",
      "provenance": [],
      "toc_visible": true,
      "include_colab_link": true
    },
    "gpuClass": "standard",
    "kernel": {
      "display_name": "Python 3",
      "language": "python",
      "name": "python3"
    },
    "kernelspec": {
      "display_name": "Python 3",
      "name": "python3"
    },
    "language_info": {
      "name": "python"
    }
  },
  "nbformat": 4,
  "nbformat_minor": 0
}