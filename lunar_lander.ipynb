{
  "cells": [
    {
      "cell_type": "markdown",
      "metadata": {
        "id": "view-in-github",
        "colab_type": "text"
      },
      "source": [
        "<a href=\"https://colab.research.google.com/github/SzekelyAnna/atchekegroup1lunarlanding/blob/main/lunar_lander.ipynb\" target=\"_parent\"><img src=\"https://colab.research.google.com/assets/colab-badge.svg\" alt=\"Open In Colab\"/></a>"
      ]
    },
    {
      "cell_type": "markdown",
      "metadata": {
        "execution": {},
        "id": "SUrSh4XdxX_Y"
      },
      "source": [
        "# Performance Analysis of DQN Algorithm on the Lunar Lander task\n",
        "\n",
        "**By Neuromatch Academy**\n",
        "\n",
        "__Content creators:__ Raghuram Bharadwaj Diddigi, Geraud Nangue Tasse, Yamil Vidal, Sanjukta Krishnagopal, Sara Rajaee\n",
        "\n",
        "__Content editors:__ Spiros Chavlis"
      ]
    },
    {
      "cell_type": "markdown",
      "metadata": {
        "execution": {},
        "id": "wNDGLaOlxX_a"
      },
      "source": [
        "<p align='center'><img src='https://github.com/NeuromatchAcademy/widgets/blob/master/sponsors.png?raw=True'/></p>"
      ]
    },
    {
      "cell_type": "markdown",
      "metadata": {
        "execution": {},
        "id": "uDujxcmLxX_b"
      },
      "source": [
        "---\n",
        "# Objective\n",
        "\n",
        "In this project, the objective is to analyze the performance of the Deep Q-Learning algorithm on an exciting task- Lunar Lander. Before we describe the task, let us focus on two keywords here - analysis and performance. What exactly do we mean by these keywords in the context of Reinforcement Learning (RL)?"
      ]
    },
    {
      "cell_type": "markdown",
      "metadata": {
        "execution": {},
        "id": "S5ONwnv2xX_b"
      },
      "source": [
        "---\n",
        "# Setup"
      ]
    },
    {
      "cell_type": "code",
      "execution_count": 1,
      "metadata": {
        "execution": {},
        "id": "g_pkwx9SxX_b"
      },
      "outputs": [],
      "source": [
        "# @title Install dependencies\n",
        "#!sudo apt-get update > /dev/null 2>&1\n",
        "#!sudo apt-get install -y xvfb python-opengl ffmpeg > /dev/null 2>&1\n",
        "#!pip install rarfile --quiet\n",
        "#!pip install stable-baselines3[extra] ale-py==0.7.4 --quiet\n",
        "#!pip install box2d-py --quiet\n",
        "#!pip install gym pyvirtualdisplay --quiet\n",
        "#!pip install pyglet --quiet\n",
        "#!pip3 install torch~=1.7.1 -f https://download.pytorch.org/whl/torch_stable.html"
      ]
    },
    {
      "cell_type": "code",
      "execution_count": 2,
      "metadata": {
        "execution": {},
        "id": "RX13NcYFxX_c"
      },
      "outputs": [],
      "source": [
        "# Imports\n",
        "import io\n",
        "import os\n",
        "import copy \n",
        "import glob\n",
        "import torch\n",
        "import base64\n",
        "import stable_baselines3\n",
        "\n",
        "import numpy as np\n",
        "import matplotlib.pyplot as plt\n",
        "\n",
        "from stable_baselines3 import DQN\n",
        "from stable_baselines3.common.results_plotter import ts2xy, load_results\n",
        "from stable_baselines3.common.callbacks import EvalCallback\n",
        "from stable_baselines3.common.env_util import make_atari_env\n",
        "\n",
        "import gym\n",
        "from gym import spaces\n",
        "from gym.wrappers import Monitor"
      ]
    },
    {
      "cell_type": "code",
      "execution_count": 3,
      "metadata": {
        "cellView": "form",
        "execution": {},
        "id": "lBj1RawPxX_c"
      },
      "outputs": [],
      "source": [
        "# @title Plotting/Video functions\n",
        "from IPython.display import HTML\n",
        "from pyvirtualdisplay import Display\n",
        "from IPython import display as ipythondisplay\n",
        "\n",
        "display = Display(visible=0, size=(1400, 900))\n",
        "display.start()\n",
        "\n",
        "\"\"\"\n",
        "Utility functions to enable video recording of gym environment\n",
        "and displaying it.\n",
        "To enable video, just do \"env = wrap_env(env)\"\"\n",
        "\"\"\"\n",
        "\n",
        "def show_video():\n",
        "  mp4list = glob.glob('video/*.mp4')\n",
        "  if len(mp4list) > 0:\n",
        "    mp4 = mp4list[0]\n",
        "    video = io.open(mp4, 'r+b').read()\n",
        "    encoded = base64.b64encode(video)\n",
        "    ipythondisplay.display(HTML(data='''<video alt=\"test\" autoplay\n",
        "                loop controls style=\"height: 400px;\">\n",
        "                <source src=\"data:video/mp4;base64,{0}\" type=\"video/mp4\" />\n",
        "             </video>'''.format(encoded.decode('ascii'))))\n",
        "  else:\n",
        "    print(\"Could not find video\")\n",
        "\n",
        "\n",
        "def wrap_env(env):\n",
        "  env = Monitor(env, './video', force=True)\n",
        "  return env"
      ]
    },
    {
      "cell_type": "markdown",
      "metadata": {
        "execution": {},
        "id": "4402FLy0xX_d"
      },
      "source": [
        "---\n",
        "# Introduction\n",
        "\n",
        "In a standard RL setting, an agent learns optimal behavior from an environment through a feedback mechanism to maximize a given objective. Many algorithms have been proposed in the RL literature that an agent can apply to learn the optimal behavior. One such popular algorithm is the Deep Q-Network (DQN). This algorithm makes use of deep neural networks to compute optimal actions. In this project, your goal is to understand the effect of the number of neural network layers on the algorithm's performance. The performance of the algorithm can be evaluated through two metrics - Speed and Stability. \n",
        "\n",
        "**Speed:** How fast the algorithm reaches the maximum possible reward. \n",
        "\n",
        "**Stability** In some applications (especially when online learning is involved), along with speed, stability of the algorithm, i.e., minimal fluctuations in performance, is equally important. \n",
        "\n",
        "In this project, you should investigate the following question:\n",
        "\n",
        "**What is the impact of number of neural network layers on speed and stability of the algorithm?**\n",
        "\n",
        "You do not have to write the DQN code from scratch. We have provided a basic implementation of the DQN algorithm. You only have to tune the hyperparameters (neural network size, learning rate, etc), observe the performance, and analyze. More details on this are provided below. \n",
        "\n",
        "Now, let us discuss the RL task we have chosen, i.e., Lunar Lander. This task consists of the lander and a landing pad marked by two flags. The episode starts with the lander moving downwards due to gravity. The objective is to land safely using different engines available on the lander with zero speed on the landing pad as quickly and fuel efficient as possible. Reward for moving from the top of the screen and landing on landing pad with zero speed is between 100 to 140 points. Each leg ground contact yields a reward of 10 points. Firing main engine leads to a reward of -0.3 points in each frame. Firing the side engine leads to a reward of -0.03 points in each frame. An additional reward of -100 or +100 points is received if the lander crashes or comes to rest respectively which also leads to end of the episode. \n",
        "\n",
        "The input state of the Lunar Lander consists of following components:\n",
        "\n",
        "  1. Horizontal Position\n",
        "  2. Vertical Position\n",
        "  3. Horizontal Velocity\n",
        "  4. Vertical Velocity\n",
        "  5. Angle\n",
        "  6. Angular Velocity\n",
        "  7. Left Leg Contact\n",
        "  8. Right Leg Contact\n",
        "\n",
        "The actions of the agents are:\n",
        "  1. Do Nothing\n",
        "  2. Fire Main Engine\n",
        "  3. Fire Left Engine\n",
        "  4. Fire Right Engine\n",
        "\n",
        "\n",
        "<img src=\"https://raw.githubusercontent.com/NeuromatchAcademy/course-content-dl/main/projects/static/lunar_lander.png\">"
      ]
    },
    {
      "cell_type": "markdown",
      "metadata": {
        "execution": {},
        "id": "mU_epArtxX_d"
      },
      "source": [
        "---\n",
        "# Basic DQN Implementation\n",
        "\n",
        "We will now implement the DQN algorithm using the existing code base. We encourage you to understand this example and re-use it in an application/project of your choice! "
      ]
    },
    {
      "cell_type": "markdown",
      "metadata": {
        "execution": {},
        "id": "0PinQS2CxX_d"
      },
      "source": [
        "Now, let us set some hyperparameters for our algorithm. This is the only part you would play around with, to solve the first part of the project. "
      ]
    },
    {
      "cell_type": "code",
      "execution_count": 4,
      "metadata": {
        "execution": {},
        "id": "RqpRNdCMxX_e"
      },
      "outputs": [],
      "source": [
        "nn_layers = [64,64] #This is the configuration of your neural network. Currently, we have two layers, each consisting of 64 neurons.\n",
        "                    #If you want three layers with 64 neurons each, set the value to [64,64,64] and so on.\n",
        "\n",
        "learning_rate = 0.001 #This is the step-size with which the gradient descent is carried out.\n",
        "                      #Tip: Use smaller step-sizes for larger networks."
      ]
    },
    {
      "cell_type": "code",
      "source": [
        "import pickle as pkl\n",
        "from google.colab import drive\n",
        "drive.mount('/content/gdrive')\n",
        "drive_path = \"/content/gdrive/My Drive/LunarLanding_models/\""
      ],
      "metadata": {
        "id": "ruyg172GXaD3",
        "outputId": "94bd4b6f-d9e8-4646-a1da-68a5982e8650",
        "colab": {
          "base_uri": "https://localhost:8080/"
        }
      },
      "execution_count": 5,
      "outputs": [
        {
          "output_type": "stream",
          "name": "stdout",
          "text": [
            "Drive already mounted at /content/gdrive; to attempt to forcibly remount, call drive.mount(\"/content/gdrive\", force_remount=True).\n"
          ]
        }
      ]
    },
    {
      "cell_type": "code",
      "source": [
        "def get_model_weights(model, model_name):\n",
        "  ''' This is a function to check the model weights. One can compare trained and untraind models' weights in this way.'''\n",
        "  \n",
        "\n",
        "  #print ('Sanity check. Comparing model weights for', model_names, models)\n",
        "  #for model, model_name in zip(models, model_names): \n",
        "  weight_list = []\n",
        "  keys = [item for item in model.policy.state_dict()]\n",
        "  for key in keys:\n",
        "    weight_list.append(torch.sum(model.policy.state_dict()[key]))\n",
        "  return model_name, weight_list"
      ],
      "metadata": {
        "id": "MKAZGipLY7jp"
      },
      "execution_count": 6,
      "outputs": []
    },
    {
      "cell_type": "code",
      "source": [
        "## Is it reasonable to compare the pretrained weights with the trained weights? \n",
        "\n",
        "def set_device():\n",
        "  \"\"\"\n",
        "  Set the device. CUDA if available, CPU otherwise\n",
        "\n",
        "  Args:\n",
        "    None\n",
        "\n",
        "  Returns:\n",
        "    Nothing\n",
        "  \"\"\"\n",
        "  device = \"cuda\" if torch.cuda.is_available() else \"cpu\"\n",
        "  if device != \"cuda\":\n",
        "    print(\"GPU is not enabled in this notebook. \\n\"\n",
        "          \"If you want to enable it, in the menu under `Runtime` -> \\n\"\n",
        "          \"`Hardware accelerator.` and select `GPU` from the dropdown menu\")\n",
        "  else:\n",
        "    print(\"GPU is enabled in this notebook. \\n\"\n",
        "          \"If you want to disable it, in the menu under `Runtime` -> \\n\"\n",
        "          \"`Hardware accelerator.` and select `None` from the dropdown menu\")\n",
        "\n",
        "  return device\n",
        "\n",
        "\n",
        "DEVICE = set_device()\n",
        "\n"
      ],
      "metadata": {
        "colab": {
          "base_uri": "https://localhost:8080/"
        },
        "id": "V9cqv3VmY-or",
        "outputId": "1ca814ea-97c0-4a74-9cb5-5c4f9f671803"
      },
      "execution_count": 7,
      "outputs": [
        {
          "output_type": "stream",
          "name": "stdout",
          "text": [
            "GPU is not enabled in this notebook. \n",
            "If you want to enable it, in the menu under `Runtime` -> \n",
            "`Hardware accelerator.` and select `GPU` from the dropdown menu\n"
          ]
        }
      ]
    },
    {
      "cell_type": "markdown",
      "metadata": {
        "execution": {},
        "id": "HaCzlYg-xX_e"
      },
      "source": [
        "Now, let us setup our model and the DQN algorithm. "
      ]
    },
    {
      "cell_type": "code",
      "execution_count": 8,
      "metadata": {
        "execution": {},
        "id": "m5OGFaqcxX_e"
      },
      "outputs": [],
      "source": [
        "log_dir = \"/tmp/gym/\"\n",
        "os.makedirs(log_dir, exist_ok=True)\n",
        "\n",
        "# Create environment\n",
        "env = gym.make('LunarLander-v2')\n",
        "#You can also load other environments like cartpole, MountainCar, Acrobot. Refer to https://gym.openai.com/docs/ for descriptions.\n",
        "#For example, if you would like to load Cartpole, just replace the above statement with \"env = gym.make('CartPole-v1')\".\n",
        "\n",
        "env = stable_baselines3.common.monitor.Monitor(env, log_dir )\n",
        "\n",
        "callback = EvalCallback(env,log_path = log_dir, deterministic=True) #For evaluating the performance of the agent periodically and logging the results.\n",
        "policy_kwargs = dict(activation_fn=torch.nn.ReLU,\n",
        "                     net_arch=nn_layers)\n",
        "model = DQN(\"MlpPolicy\", env,policy_kwargs = policy_kwargs,\n",
        "            learning_rate=learning_rate,\n",
        "            batch_size=1,  #for simplicity, we are not doing batch update.\n",
        "            buffer_size=1, #size of experience of replay buffer. Set to 1 as batch update is not done\n",
        "            learning_starts=1, #learning starts immediately!\n",
        "            gamma=0.99, #discount facto. range is between 0 and 1.\n",
        "            tau = 1,  #the soft update coefficient for updating the target network\n",
        "            target_update_interval=1, #update the target network immediately.\n",
        "            train_freq=(1,\"step\"), #train the network at every step.\n",
        "            max_grad_norm = 10, #the maximum value for the gradient clipping\n",
        "            exploration_initial_eps = 1, #initial value of random action probability\n",
        "            exploration_fraction = 0.5, #fraction of entire training period over which the exploration rate is reduced\n",
        "            gradient_steps = 1, #number of gradient steps\n",
        "            seed = 1, #seed for the pseudo random generators\n",
        "            verbose=0) #Set verbose to 1 to observe training logs. We encourage you to set the verbose to 1.\n",
        "\n",
        "# You can also experiment with other RL algorithms like A2C, PPO, DDPG etc. Refer to  https://stable-baselines3.readthedocs.io/en/master/guide/examples.html\n",
        "#for documentation. For example, if you would like to run DDPG, just replace \"DQN\" above with \"DDPG\"."
      ]
    },
    {
      "cell_type": "code",
      "source": [
        " ## save untrained model weights to compare before training and after training weights\n",
        "untrained_model_weights = get_model_weights(model, 'untrained model')\n",
        "untrained_model_weights"
      ],
      "metadata": {
        "colab": {
          "base_uri": "https://localhost:8080/"
        },
        "id": "1L1hvx6yYqWa",
        "outputId": "7b7c3d85-6c7d-4d39-a256-234cfd42acdf"
      },
      "execution_count": 9,
      "outputs": [
        {
          "output_type": "execute_result",
          "data": {
            "text/plain": [
              "('untrained model',\n",
              " [tensor(2.5560),\n",
              "  tensor(-3.8614),\n",
              "  tensor(-7.8497),\n",
              "  tensor(0.2273),\n",
              "  tensor(0.2720),\n",
              "  tensor(-0.1196),\n",
              "  tensor(2.5560),\n",
              "  tensor(-3.8614),\n",
              "  tensor(-7.8497),\n",
              "  tensor(0.2273),\n",
              "  tensor(0.2720),\n",
              "  tensor(-0.1196)])"
            ]
          },
          "metadata": {},
          "execution_count": 9
        }
      ]
    },
    {
      "cell_type": "markdown",
      "source": [
        "### Saving the undtrained model\n",
        "\n"
      ],
      "metadata": {
        "id": "SYT7-FG0fBTp"
      }
    },
    {
      "cell_type": "code",
      "source": [
        "model_version = \"untrained_DQN\"\n",
        "model.save(drive_path + model_version)"
      ],
      "metadata": {
        "id": "xph7iZ-SeiXH"
      },
      "execution_count": 10,
      "outputs": []
    },
    {
      "cell_type": "code",
      "source": [
        "#print (model, '\\n', untrained_model)"
      ],
      "metadata": {
        "id": "fUvOtD1pJrfS"
      },
      "execution_count": 11,
      "outputs": []
    },
    {
      "cell_type": "code",
      "source": [
        "#untrained_model.policy.state_dict()\n",
        "#model.policy.state_dict()"
      ],
      "metadata": {
        "id": "C4uz72Zjap0v"
      },
      "execution_count": 12,
      "outputs": []
    },
    {
      "cell_type": "markdown",
      "metadata": {
        "execution": {},
        "id": "HojzbSG1xX_e"
      },
      "source": [
        "Before we train the model, let us look at an instance of Lunar Lander **before training**.  \n",
        "\n",
        "**Note:** The following code for rendering the video is taken from https://colab.research.google.com/github/jeffheaton/t81_558_deep_learning/blob/master/t81_558_class_12_01_ai_gym.ipynb#scrollTo=T9RpF49oOsZj"
      ]
    },
    {
      "cell_type": "code",
      "execution_count": 13,
      "metadata": {
        "execution": {},
        "colab": {
          "base_uri": "https://localhost:8080/",
          "height": 421
        },
        "id": "bbE6asJGxX_f",
        "outputId": "b7bdce42-d078-44c0-df46-491fc27e1abf"
      },
      "outputs": [
        {
          "output_type": "display_data",
          "data": {
            "text/plain": [
              "<IPython.core.display.HTML object>"
            ],
            "text/html": [
              "<video alt=\"test\" autoplay\n",
              "                loop controls style=\"height: 400px;\">\n",
              "                <source src=\"data:video/mp4;base64,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\" type=\"video/mp4\" />\n",
              "             </video>"
            ]
          },
          "metadata": {}
        }
      ],
      "source": [
        "test_env = wrap_env(gym.make(\"LunarLander-v2\"))\n",
        "observation = test_env.reset()\n",
        "total_reward = 0\n",
        "while True:\n",
        "  test_env.render()\n",
        "  action, states = model.predict(observation, deterministic=True)\n",
        "  observation, reward, done, info = test_env.step(action)\n",
        "  total_reward += reward\n",
        "  if done:\n",
        "    break;\n",
        "\n",
        "# print(total_reward)\n",
        "test_env.close()\n",
        "show_video()"
      ]
    },
    {
      "cell_type": "markdown",
      "metadata": {
        "execution": {},
        "id": "LAyOXncPxX_f"
      },
      "source": [
        "From the video above, we see that the lander has crashed! \n",
        "It is now the time for training! \n"
      ]
    },
    {
      "cell_type": "code",
      "execution_count": null,
      "metadata": {
        "execution": {},
        "id": "CeQmEI1dxX_g"
      },
      "outputs": [],
      "source": [
        "model.learn(total_timesteps=40000, log_interval=10, callback=callback)\n",
        "# The performance of the training will be printed every 10 episodes. Change it to 1, if you wish to\n",
        "# view the performance at every training episode."
      ]
    },
    {
      "cell_type": "code",
      "source": [
        "trained_model_weights = get_model_weights(model, 'trained_model')"
      ],
      "metadata": {
        "id": "Df1X32nCEBEs"
      },
      "execution_count": null,
      "outputs": []
    },
    {
      "cell_type": "code",
      "source": [
        "## Here we can compare the change in the model weights"
      ],
      "metadata": {
        "id": "pAKMNTHLb8JG"
      },
      "execution_count": null,
      "outputs": []
    },
    {
      "cell_type": "code",
      "source": [
        "untrained_model_weights, trained_model_weights"
      ],
      "metadata": {
        "id": "EVbpk3ZUbye5"
      },
      "execution_count": null,
      "outputs": []
    },
    {
      "cell_type": "markdown",
      "source": [
        "# Savig and loading the model\n",
        "How to save to google drive: https://colab.research.google.com/drive/1CN7JxLA_Qk1Clc4CM75rSAqIlUKIF8xZ#scrollTo=T_tDc-oMEY22\n",
        "\n",
        "You can chack the saved models' directory here: https://drive.google.com/drive/folders/1ctYdReK3WwH-qxuusyKZAeM7iYfU9C04"
      ],
      "metadata": {
        "id": "gmtIx2TL6orI"
      }
    },
    {
      "cell_type": "markdown",
      "source": [
        "### Save to model to google drive "
      ],
      "metadata": {
        "id": "qSXccZCM7pvb"
      }
    },
    {
      "cell_type": "code",
      "source": [
        "model_version = \"DQN_model_1\"\n",
        "model.save(drive_path + model_version)"
      ],
      "metadata": {
        "id": "jGuyCjnC6njL"
      },
      "execution_count": null,
      "outputs": []
    },
    {
      "cell_type": "markdown",
      "source": [
        "NB!!! load function re-creates model from scratch on each call, which can be slow. If you need to e.g. evaluate same model with multiple different sets of parameters, consider using load_parameters instead."
      ],
      "metadata": {
        "id": "FoFxAvdLFWyy"
      }
    },
    {
      "cell_type": "code",
      "source": [
        "env = gym.make('LunarLander-v2') ## I'm not quite sure why these coods needed but without it raise an error. \n",
        "env.reset()\n",
        "model2 = DQN.load(drive_path + model_version, env = env)\n",
        "#model2_pretraining = model2"
      ],
      "metadata": {
        "id": "W2rKLqos_bOe"
      },
      "execution_count": null,
      "outputs": []
    },
    {
      "cell_type": "markdown",
      "source": [
        "### Compare the saved and untrained models' weights"
      ],
      "metadata": {
        "id": "mpzrpT268jvp"
      }
    },
    {
      "cell_type": "code",
      "source": [
        "reloaded_model_weights = get_model_weights(model2, 'reloaded model')"
      ],
      "metadata": {
        "id": "s54-cKP-b08g"
      },
      "execution_count": null,
      "outputs": []
    },
    {
      "cell_type": "code",
      "source": [
        "untrained_model_weights, trained_model_weights, reloaded_model_weights"
      ],
      "metadata": {
        "id": "PLUvjCyVde0Z"
      },
      "execution_count": null,
      "outputs": []
    },
    {
      "cell_type": "code",
      "source": [
        "## As expected weights for the first model (untrained) much smaller than weights for the trained model."
      ],
      "metadata": {
        "id": "SG3WCxLLQLCb"
      },
      "execution_count": null,
      "outputs": []
    },
    {
      "cell_type": "code",
      "source": [
        "model2.policy.state_dict()[k].cuda()"
      ],
      "metadata": {
        "id": "K1N64gRM4j2s"
      },
      "execution_count": null,
      "outputs": []
    },
    {
      "cell_type": "code",
      "source": [
        "for k in model2.policy.state_dict().keys():\n",
        "\n",
        "  model2.policy.state_dict()[k].cuda()\n",
        "  #print ( model2.policy.state_dict()[k])"
      ],
      "metadata": {
        "id": "eTcNmEqY3u64"
      },
      "execution_count": null,
      "outputs": []
    },
    {
      "cell_type": "code",
      "source": [
        "model2.device"
      ],
      "metadata": {
        "id": "gJwiGtrg4-8a"
      },
      "execution_count": null,
      "outputs": []
    },
    {
      "cell_type": "code",
      "source": [
        "# The model should be loaded to the GPU... \n",
        "\n",
        "\n",
        "\n",
        "model2.learn(total_timesteps=40000, log_interval=10, callback=callback)"
      ],
      "metadata": {
        "id": "2c7CoyjSYvyu"
      },
      "execution_count": null,
      "outputs": []
    },
    {
      "cell_type": "markdown",
      "source": [
        "## Saving the twice trained model"
      ],
      "metadata": {
        "id": "IZDFyd_nsEev"
      }
    },
    {
      "cell_type": "code",
      "source": [
        "model_version = \"twice_trained_model\"\n",
        "model.save(drive_path + model_version)"
      ],
      "metadata": {
        "id": "l0hxC1rGsCgr"
      },
      "execution_count": null,
      "outputs": []
    },
    {
      "cell_type": "code",
      "source": [
        "twice_trained_model_weights = get_model_weights(model, 'twice trained model')"
      ],
      "metadata": {
        "id": "WubbYGspaZh9"
      },
      "execution_count": null,
      "outputs": []
    },
    {
      "cell_type": "code",
      "source": [
        "untrained_model_weights, trained_model_weights, twice_trained_model_weights"
      ],
      "metadata": {
        "id": "CxZ9IlUrltaz"
      },
      "execution_count": null,
      "outputs": []
    },
    {
      "cell_type": "markdown",
      "source": [
        "# Check out the model parameters for saving "
      ],
      "metadata": {
        "id": "vFxbjPFQnnt3"
      }
    },
    {
      "cell_type": "markdown",
      "source": [
        "### We have qite a strange model architecture... Aren't we?? \n",
        "\n",
        "We have two set of network parameters... a q_net, and a q_net_target. \n",
        "We also have numbered layers but it goes as 0,2, 4... Where is 1 and 2??? "
      ],
      "metadata": {
        "id": "i_4FHC-iqwVo"
      }
    },
    {
      "cell_type": "code",
      "source": [
        "model.policy.state_dict().keys()\n",
        "[item for item in model.policy.state_dict().keys()]"
      ],
      "metadata": {
        "id": "y4IxQozrqa9b"
      },
      "execution_count": null,
      "outputs": []
    },
    {
      "cell_type": "markdown",
      "source": [
        "## q_net and q_net_target have the same shapes"
      ],
      "metadata": {
        "id": "lKLAV9qduRhX"
      }
    },
    {
      "cell_type": "code",
      "source": [
        "[model.policy.state_dict()['q_net.q_net.'+str(item)+'.weight'].shape for item in [0, 2, 4 ]]"
      ],
      "metadata": {
        "id": "HwiyFBybqcyv"
      },
      "execution_count": null,
      "outputs": []
    },
    {
      "cell_type": "code",
      "source": [
        "[model.policy.state_dict()['q_net_target.q_net.'+str(item)+'.weight'].shape for item in [0, 2, 4 ]]"
      ],
      "metadata": {
        "id": "2TGJHq9lupxf"
      },
      "execution_count": null,
      "outputs": []
    },
    {
      "cell_type": "markdown",
      "source": [
        "## Exploring the weights & customizing them "
      ],
      "metadata": {
        "id": "RIcgVZIJvvEZ"
      }
    },
    {
      "cell_type": "code",
      "source": [
        "model_weights = model.policy.state_dict()\n",
        "model_weights.update(OrderedDict.fromkeys(['q_net.q_net.2.weight'], torch.zeros(64,64)))\n",
        "model_weights['q_net.q_net.2.weight']"
      ],
      "metadata": {
        "id": "19c37bSSgBkg"
      },
      "execution_count": null,
      "outputs": []
    },
    {
      "cell_type": "code",
      "source": [
        ""
      ],
      "metadata": {
        "id": "fzOYMFwCh4CT"
      },
      "execution_count": null,
      "outputs": []
    },
    {
      "cell_type": "code",
      "source": [
        ""
      ],
      "metadata": {
        "id": "1DO8z_1Jh74v"
      },
      "execution_count": null,
      "outputs": []
    },
    {
      "cell_type": "code",
      "source": [
        "## Useful sources \n",
        "# https://www.analyticsvidhya.com/blog/2021/05/a-complete-hands-on-guide-to-train-your-neural-network-model-on-google-colab-gpu/\n",
        "# https://pytorch.org/tutorials/recipes/recipes/save_load_across_devices.html"
      ],
      "metadata": {
        "id": "iTymvIWs_eBO"
      },
      "execution_count": null,
      "outputs": []
    },
    {
      "cell_type": "code",
      "source": [
        ""
      ],
      "metadata": {
        "id": "pXWV6dhx2gIA"
      },
      "execution_count": null,
      "outputs": []
    },
    {
      "cell_type": "code",
      "source": [
        ""
      ],
      "metadata": {
        "id": "3MVWTpHGC7zf"
      },
      "execution_count": null,
      "outputs": []
    },
    {
      "cell_type": "code",
      "source": [
        ""
      ],
      "metadata": {
        "id": "DpxeA8i9C9KW"
      },
      "execution_count": null,
      "outputs": []
    },
    {
      "cell_type": "code",
      "source": [
        ""
      ],
      "metadata": {
        "id": "WZcZDPEgC87s"
      },
      "execution_count": null,
      "outputs": []
    },
    {
      "cell_type": "code",
      "source": [
        "#def get_default_device():\n",
        "#    \"\"\"Picking GPU if available or else CPU\"\"\"\n",
        "#    if torch.cuda.is_available():\n",
        "#        return torch.device('cuda')\n",
        "#    else:\n",
        "#        return torch.device('cpu')\n",
        "\n",
        "\n",
        "\n",
        "#device = get_default_device()\n",
        "#device"
      ],
      "metadata": {
        "id": "a1MxLssM9uSS"
      },
      "execution_count": null,
      "outputs": []
    },
    {
      "cell_type": "code",
      "source": [
        ""
      ],
      "metadata": {
        "id": "bnjqiSgcNsSl"
      },
      "execution_count": null,
      "outputs": []
    },
    {
      "cell_type": "code",
      "source": [
        ""
      ],
      "metadata": {
        "id": "W1OrpkQLbQRS"
      },
      "execution_count": null,
      "outputs": []
    },
    {
      "cell_type": "code",
      "source": [
        ""
      ],
      "metadata": {
        "id": "ImlkaDMbbQGH"
      },
      "execution_count": null,
      "outputs": []
    },
    {
      "cell_type": "code",
      "source": [
        ""
      ],
      "metadata": {
        "id": "mgb0FzgQbP49"
      },
      "execution_count": null,
      "outputs": []
    },
    {
      "cell_type": "code",
      "source": [
        ""
      ],
      "metadata": {
        "id": "wSn8FySwI35e"
      },
      "execution_count": null,
      "outputs": []
    },
    {
      "cell_type": "markdown",
      "metadata": {
        "execution": {},
        "id": "ZjxOTq4LxX_g"
      },
      "source": [
        "The training takes time. We encourage you to analyze the output logs (set verbose to 1 to print the output logs). The main component of the logs that you should track is \"ep_rew_mean\" (mean of episode rewards). As the training proceeds, the value of \"ep_rew_mean\" should increase. The improvement need not be monotonic, but the trend should be upwards! \n",
        "\n",
        "Along with training, we are also periodically evaluating the performance of the current model during the training. This was reported in logs as follows:\n",
        "\n",
        "```\n",
        "Eval num_timesteps=100000, episode_reward=63.41 +/- 130.02\n",
        "Episode length: 259.80 +/- 47.47\n",
        "```"
      ]
    },
    {
      "cell_type": "markdown",
      "metadata": {
        "execution": {},
        "id": "SrFuUfrKxX_g"
      },
      "source": [
        "Now, let us look at the visual performance of the lander. \n",
        "\n",
        "**Note:** The performance varies across different seeds and runs. This code is not optimized to be stable across all runs and seeds. We hope you will be able to find an optimal configuration! "
      ]
    },
    {
      "cell_type": "code",
      "execution_count": null,
      "metadata": {
        "execution": {},
        "id": "E3tB4vr8xX_g"
      },
      "outputs": [],
      "source": [
        "env = wrap_env(gym.make(\"LunarLander-v2\"))\n",
        "observation = env.reset()\n",
        "while True:\n",
        "  env.render()\n",
        "  action, _states = model.predict(observation, deterministic=True)\n",
        "  observation, reward, done, info = env.step(action)\n",
        "  if done:\n",
        "    break;\n",
        "\n",
        "env.close()\n",
        "show_video()"
      ]
    },
    {
      "cell_type": "markdown",
      "metadata": {
        "execution": {},
        "id": "BHP2XmSwxX_h"
      },
      "source": [
        "The lander has landed safely!!\n",
        "\n",
        "Let us analyze its performance (speed and stability). For this purpose, we plot the number of time steps on the X-axis and the episodic reward given by the trained model on the Y-axis. "
      ]
    },
    {
      "cell_type": "code",
      "execution_count": null,
      "metadata": {
        "execution": {},
        "id": "qK7N3LOrxX_h"
      },
      "outputs": [],
      "source": [
        "x, y = ts2xy(load_results(log_dir), 'timesteps')  # Organising the logged results in to a clean format for plotting.\n",
        "plt.plot(x,y)\n",
        "plt.ylim([-300, 300])\n",
        "plt.xlabel('Timesteps')\n",
        "plt.ylabel('Episode Rewards')"
      ]
    },
    {
      "cell_type": "markdown",
      "metadata": {
        "execution": {},
        "id": "suJ6uC2fxX_h"
      },
      "source": [
        "From the above plot, we observe that, although the maximum reward is achieved quickly. Achieving an episodic reward of > 200 is good. We see that the agent has achieved it in less than 50000 timesteps (speed is good!). However, there are a lot of fluctuations in the performance (stability is not good!). \n",
        "\n",
        "Your objective now is to modify the model parameters (nn_layers, learning_rate in the code cell #2 above), run all the cells following it and investigate the stability and speed of the chosen configuration.   \n"
      ]
    },
    {
      "cell_type": "code",
      "source": [
        "## Check model parameters with these snippets\n",
        "# model2.get_parameters()\n",
        "# model2.get_parameters().keys()"
      ],
      "metadata": {
        "id": "PqSrTSnp_WgV"
      },
      "execution_count": null,
      "outputs": []
    },
    {
      "cell_type": "code",
      "source": [
        ""
      ],
      "metadata": {
        "id": "cGNlDuZGcU84"
      },
      "execution_count": null,
      "outputs": []
    },
    {
      "cell_type": "code",
      "source": [
        "reloaded_model_weights = get_model_weights(model2, 'reloaded_model')"
      ],
      "metadata": {
        "id": "y_GJfP4pdc1g"
      },
      "execution_count": null,
      "outputs": []
    },
    {
      "cell_type": "markdown",
      "metadata": {
        "execution": {},
        "id": "osWTy2z-xX_h"
      },
      "source": [
        "---\n",
        "# Additional Project Ideas"
      ]
    },
    {
      "cell_type": "markdown",
      "metadata": {
        "execution": {},
        "id": "Gd_RZR0fxX_h"
      },
      "source": [
        "## 1 Play with exploration-exploitation trade-off\n",
        "\n",
        "Exploration (selecting random actions) and exploitation (selecting greedy action) is a crucial component of the DQN algorithm. Explore random actions for a long time will slow down the training process. At the same time, if all actions are not explored enough, it might lead to a sub-optimal performance. In the DQN code above, we have used the following parameters:"
      ]
    },
    {
      "cell_type": "code",
      "execution_count": null,
      "metadata": {
        "execution": {},
        "id": "mY6DSpoMxX_h"
      },
      "outputs": [],
      "source": [
        "exploration_initial_eps = 1  # initial value of random action probability. Range is between 0 and 1.\n",
        "exploration_fraction = 0.5  # fraction of entire training period over which the exploration rate is reduced. Range is between 0 and 1.\n",
        "exploration_final_eps = 0.05  # (set by defualt) final value of random action probability. Range is between 0 and 1."
      ]
    },
    {
      "cell_type": "markdown",
      "metadata": {
        "execution": {},
        "id": "4jc9JtiZxX_i"
      },
      "source": [
        "Your objective is to play around with these parameters and analyze their performance (speed and stability). You can modify these parameters and set them as arguments in DQN(...,exploration_initial_eps = 1, exploration_fraction = 0.5, exploration_final_eps = 0.05,...). "
      ]
    },
    {
      "cell_type": "markdown",
      "metadata": {
        "execution": {},
        "id": "EyURXfE4xX_i"
      },
      "source": [
        "## 2 Reward Shaping\n",
        "\n",
        "Your objective here is to construct a modified reward function that improves the performance of the Lunar Lander. To this end, you would have to create your own custom environment. An example of a custom environment is given below:"
      ]
    },
    {
      "cell_type": "code",
      "execution_count": null,
      "metadata": {
        "execution": {},
        "id": "DCYiL0H_xX_i"
      },
      "outputs": [],
      "source": [
        "# Taken from https://stable-baselines3.readthedocs.io/en/master/guide/custom_env.html\n",
        "class CustomEnv(gym.Env):\n",
        "  \"\"\"Custom Environment that follows gym interface\"\"\"\n",
        "  metadata = {'render.modes': ['human']}\n",
        "\n",
        "  def __init__(self, arg1, arg2):\n",
        "    super(CustomEnv, self).__init__()\n",
        "    # Define action and observation space\n",
        "    # They must be gym.spaces objects\n",
        "    # Example when using discrete actions:\n",
        "    self.action_space = spaces.Discrete(N_DISCRETE_ACTIONS)\n",
        "    # Example for using image as input (channel-first; channel-last also works):\n",
        "    self.observation_space = spaces.Box(low=0, high=255,\n",
        "                                        shape=(N_CHANNELS, HEIGHT, WIDTH), dtype=np.uint8)\n",
        "\n",
        "  def step(self, action):\n",
        "    ...\n",
        "    return observation, reward, done, info\n",
        "  def reset(self):\n",
        "    ...\n",
        "    return observation  # reward, done, info can't be included\n",
        "  def render(self, mode='human'):\n",
        "    ...\n",
        "  def close (self):\n",
        "    ..."
      ]
    },
    {
      "cell_type": "markdown",
      "metadata": {
        "execution": {},
        "id": "Uus1Ncm-xX_i"
      },
      "source": [
        "As you are only changing the reward structure, you can inherit the original Lunar Lander environment from https://github.com/openai/gym/blob/master/gym/envs/box2d/lunar_lander.py and modify just the \"step\" function. Focus on modifying the following part of the code in the \"step\" function\n"
      ]
    },
    {
      "cell_type": "code",
      "execution_count": null,
      "metadata": {
        "execution": {},
        "id": "S8slWB4OxX_i"
      },
      "outputs": [],
      "source": [
        "def step(self, actions):\n",
        "  ...\n",
        "  ...\n",
        "  ...\n",
        "  reward = 0\n",
        "  shaping = (\n",
        "      -100 * np.sqrt(state[0] * state[0] + state[1] * state[1])\n",
        "      - 100 * np.sqrt(state[2] * state[2] + state[3] * state[3])\n",
        "      - 100 * abs(state[4])\n",
        "      + 10 * state[6]\n",
        "      + 10 * state[7]\n",
        "  )  # And ten points for legs contact, the idea is if you\n",
        "  # lose contact again after landing, you get negative reward\n",
        "  if self.prev_shaping is not None:\n",
        "      reward = shaping - self.prev_shaping\n",
        "  self.prev_shaping = shaping\n",
        "\n",
        "  reward -= (\n",
        "      m_power * 0.30\n",
        "  )  # less fuel spent is better, about -30 for heuristic landing. You should modify these values.\n",
        "  reward -= s_power * 0.03\n",
        "\n",
        "  done = False\n",
        "  if self.game_over or abs(state[0]) >= 1.0:\n",
        "      done = True\n",
        "      reward = -100\n",
        "  if not self.lander.awake:\n",
        "      done = True\n",
        "      reward = +100\n",
        "  return np.array(state, dtype=np.float32), reward, done, {}"
      ]
    },
    {
      "cell_type": "markdown",
      "metadata": {
        "execution": {},
        "id": "Jlp-n31TxX_i"
      },
      "source": [
        "Once you have cutomized your own environment, you can execute that environment by just calling:"
      ]
    },
    {
      "cell_type": "code",
      "execution_count": null,
      "metadata": {
        "execution": {},
        "id": "NaG1aH3AxX_i"
      },
      "outputs": [],
      "source": [
        "#Enter the name of the custome environment you created and uncomment the line below.\n",
        "#env = Custom_LunarLander()\n",
        "# Refer to https://stable-baselines3.readthedocs.io/en/master/guide/custom_env.html, if you would like to create more complex environments."
      ]
    },
    {
      "cell_type": "markdown",
      "metadata": {
        "execution": {},
        "id": "uzu-QpsZxX_j"
      },
      "source": [
        "## 3 Identify the state information crucial to its performance.\n",
        "\n",
        "Your objective here is to alter the input state information and analyze the performance. The input state of the Lunar Lander consists of following components:\n",
        "\n",
        "  1. Horizontal Position\n",
        "  2. Vertical Position\n",
        "  3. Horizontal Velocity\n",
        "  4. Vertical Velocity\n",
        "  5. Angle\n",
        "  6. Angular Velocity\n",
        "  7. Left Leg Contact\n",
        "  8. Right Leg Contact\n",
        "\n",
        "You can train the algorithm by masking one of the eight components at a time and understand how that affects the performance of the algorithm. Similar to the reward shaping task, you would have to create a custom environment and modify the state space. Again, you can inherit all the necessary functions and modify the following portion of the \"Step\" function:"
      ]
    },
    {
      "cell_type": "code",
      "execution_count": null,
      "metadata": {
        "execution": {},
        "id": "FIgylShHxX_j"
      },
      "outputs": [],
      "source": [
        "def step(self, actions):\n",
        "  ...\n",
        "  ...\n",
        "  ...\n",
        "  state = [ # Remove one component at a time to investigate the effect on performance!\n",
        "            (pos.x - VIEWPORT_W / SCALE / 2) / (VIEWPORT_W / SCALE / 2),\n",
        "            (pos.y - (self.helipad_y + LEG_DOWN / SCALE)) / (VIEWPORT_H / SCALE / 2),\n",
        "            vel.x * (VIEWPORT_W / SCALE / 2) / FPS,\n",
        "            vel.y * (VIEWPORT_H / SCALE / 2) / FPS,\n",
        "            self.lander.angle,\n",
        "            20.0 * self.lander.angularVelocity / FPS,\n",
        "            1.0 if self.legs[0].ground_contact else 0.0,\n",
        "            1.0 if self.legs[1].ground_contact else 0.0,\n",
        "        ]"
      ]
    },
    {
      "cell_type": "markdown",
      "metadata": {
        "execution": {},
        "id": "HaReJtYYxX_k"
      },
      "source": [
        "## 4 Extension to Atari Games\n",
        "\n",
        "In the Lunar Lander task, the input to the algorithm is a vector of state information. Deep RL algorithms can also be applied when the input to the training is image frames, which is the case in the Atari games. For example, consider an Atari game - Pong. In this environment, the observation is an RGB image of the screen, which is an array of shape (210, 160, 3). To train the Pong game, you can start with the following sample code:"
      ]
    },
    {
      "cell_type": "code",
      "execution_count": null,
      "metadata": {
        "execution": {},
        "id": "B5Oxg8QIxX_k"
      },
      "outputs": [],
      "source": [
        "## Taken from: https://colab.research.google.com/github/Stable-Baselines-Team/rl-colab-notebooks/blob/sb3/atari_games.ipynb#scrollTo=f3K4rMXwimBO\n",
        "env = make_atari_env('PongNoFrameskip-v4', n_envs=4, seed=0)\n",
        "\n",
        "##Atari Games take a lot of memory. Following commands crash on Coalb. Run the following code on Colab Pro or your local Jupyter notebook!\n",
        "# env = VecFrameStack(env, n_stack=4)\n",
        "# model = DQN('CnnPolicy', env, verbose=1)  # Note the difference here! We use 'CnnPolicy\" here instead of 'MlpPolicy' as the input is frames.\n",
        "# model.learn(total_timesteps=1) #change the number of timesteps as desired and run this command!"
      ]
    },
    {
      "cell_type": "markdown",
      "metadata": {
        "execution": {},
        "id": "hL5TeJHZxX_k"
      },
      "source": [
        "## 5 Obstacle Avoidance and Transfer Learning\n",
        "\n",
        "Your obstacle here is to add an obstacle in the path of the lunar lander (by creating a custom environment as described in point 2 above) and train the model such that the lander lands safely, avoiding collisions. \n",
        "\n",
        "You would first want to devise a mechansim for adding obstacles. For example, you could have an imaginary obstacle at some horizantal and vertical position cooridnates and modify the reward function such that a penalty is levied if the lander comes close to it. \n",
        "\n",
        "An interesting approach to solve this problem is to apply the techniques of transfer learning. For example, you could initialise the neural network model with the weights of the trained model on the original problem to improve the sample effeciency. This can be done using the following code:"
      ]
    },
    {
      "cell_type": "code",
      "execution_count": null,
      "metadata": {
        "execution": {},
        "id": "w0CeFKHixX_l"
      },
      "outputs": [],
      "source": [
        "## Specify the load path and uncomment below:\n",
        "\n",
        "# model = load(load_path,\n",
        "#              env=gym.make('LunarLander-v2'),\n",
        "#              custom_objects=None, **kwargs)"
      ]
    },
    {
      "cell_type": "markdown",
      "metadata": {
        "execution": {},
        "id": "omfqzwlQxX_l"
      },
      "source": [
        "Following are some of the resources on transfer learning that you would want to start with. \n",
        "\n",
        "**Research Papers**\n",
        "\n",
        "Surveys:\n",
        "1. (Long, Old, Highly cited) Taylor, M. E.,  et al. (2009). Transfer learning for reinforcement learning domains. https://www.jmlr.org/papers/volume10/taylor09a/taylor09a.pdf\n",
        "\n",
        "2. (Medium, Old, Good for a quick read) Lazaric, A. (2012). Transfer in reinforcement learning: a framework and a survey. https://hal.inria.fr/docs/00/77/26/26/PDF/transfer.pdf\n",
        "\n",
        "3. (Medium, Recent, Good for a quick read) Zhu, Z., Lin, K., & Zhou, J. (2020). Transfer learning in deep reinforcement learning. https://arxiv.org/pdf/2009.07888.pdf\n",
        "\n",
        "4. Specific example:\n",
        "Barreto, A., et al. (2016).  Successor features for transfer in reinforcement learning. https://arxiv.org/pdf/1606.05312"
      ]
    },
    {
      "cell_type": "markdown",
      "metadata": {
        "execution": {},
        "id": "er67NMCkxX_l"
      },
      "source": [
        "## 5(b) Transfer Learning in minigrid environment\n",
        "\n",
        "These are some simple gridworld gym environments designed to be particularly simple, lightweight and fast. Refer to https://github.com/maximecb/gym-minigrid for description of the environments. An example to load a minigrid environment is given below:"
      ]
    },
    {
      "cell_type": "code",
      "execution_count": null,
      "metadata": {
        "execution": {},
        "id": "rVhVBpTwxX_l"
      },
      "outputs": [],
      "source": [
        "!pip install gym-minigrid --quiet\n",
        "import gym_minigrid\n",
        "env = gym.make('MiniGrid-Empty-5x5-v0')"
      ]
    },
    {
      "cell_type": "markdown",
      "metadata": {
        "execution": {},
        "id": "j21_BZvhxX_l"
      },
      "source": [
        "You can train a standard DQN agent in this env by wrapping the env with full image observation wrappers:\n"
      ]
    },
    {
      "cell_type": "code",
      "execution_count": null,
      "metadata": {
        "execution": {},
        "id": "a6wuIn_9xX_m"
      },
      "outputs": [],
      "source": [
        "env = gym_minigrid.wrappers.ImgObsWrapper(gym_minigrid.wrappers.RGBImgObsWrapper(env))"
      ]
    },
    {
      "cell_type": "markdown",
      "metadata": {
        "execution": {},
        "id": "M1cS22M0xX_m"
      },
      "source": [
        "Note that with full image observations, the shape of the image observations may differ between envs. For e.g., MiniGrid-Empty-5x5-v0 is (40,40,3) while MiniGrid-Empty-8x8-v0 is (64,64,3). So you may need to resize the observations for transfer learning to work with the same DQN architecture.\n",
        "\n",
        "Now try training a DQN (or another method) in one (or multiple) minigrid env(s),and see if that knowledge transfers to another (or multiple other) minigrid env(s).\n"
      ]
    },
    {
      "cell_type": "markdown",
      "metadata": {
        "execution": {},
        "id": "u5gVtQ5nxX_m"
      },
      "source": [
        "## 6 Preference-Based RL (PBRL)\n",
        "\n",
        "PBRL is an exciting sub-area in RL where the traditional reward structure is replaced with human preferences. This setting is very useful in applications where it is difficult to construct a reward function. \n",
        "\n",
        "In the earlier section, we have successfully trained the lunar lander to land safely. Here, the path that the lander follows to land safely can be arbitrary. In this project, using the techniques of PBRL, you will solve the lunar lander problem with an additional requirement that the lander should follow a specially curated path (for example, a straight line path). Following are some of the resources that will help you to get started with this project. \n",
        "\n",
        "**Research papers:**\n",
        "1. Deep Reinforcement Learning\n",
        "from Human Preferences https://papers.nips.cc/paper/2017/file/d5e2c0adad503c91f91df240d0cd4e49-Paper.pdf\n",
        "2. Deep Q-learning from Demonstrations https://arxiv.org/pdf/1704.03732.pdf\n",
        "3. Reward learning from human preferences https://arxiv.org/pdf/1811.06521.pdf\n",
        "4. T-REX https://arxiv.org/pdf/1904.06387.pdf\n",
        "\n",
        "**Code Bases:**\n",
        "1. https://github.com/nottombrown/rl-teacher\n",
        "2. https://github.com/hiwonjoon/ICML2019-TREX\n"
      ]
    },
    {
      "cell_type": "markdown",
      "metadata": {
        "execution": {},
        "id": "fSwjtmQJxX_m"
      },
      "source": [
        "---\n",
        "# References\n",
        "\n",
        "1. Stable Baselines Framework: https://stable-baselines3.readthedocs.io/en/master/guide/examples.html\n",
        "\n",
        "2. Lunar Lander Environment: https://gym.openai.com/envs/LunarLander-v2/\n",
        "\n",
        "3. OpenAI gym environments: https://gym.openai.com/docs/\n",
        "\n",
        "4. A good reference for introduction to RL: http://incompleteideas.net/book/the-book-2nd.html\n"
      ]
    }
  ],
  "metadata": {
    "accelerator": "GPU",
    "colab": {
      "collapsed_sections": [],
      "name": "lunar_lander másolata",
      "provenance": [],
      "toc_visible": true,
      "include_colab_link": true
    },
    "gpuClass": "standard",
    "kernel": {
      "display_name": "Python 3",
      "language": "python",
      "name": "python3"
    },
    "kernelspec": {
      "display_name": "Python 3",
      "name": "python3"
    },
    "language_info": {
      "name": "python"
    }
  },
  "nbformat": 4,
  "nbformat_minor": 0
}