{
  "cells": [
    {
      "cell_type": "markdown",
      "metadata": {
        "id": "view-in-github",
        "colab_type": "text"
      },
      "source": [
        "<a href=\"https://colab.research.google.com/github/SzekelyAnna/atchekegroup1lunarlanding/blob/main/lunar_lander.ipynb\" target=\"_parent\"><img src=\"https://colab.research.google.com/assets/colab-badge.svg\" alt=\"Open In Colab\"/></a>"
      ]
    },
    {
      "cell_type": "markdown",
      "metadata": {
        "execution": {},
        "id": "SUrSh4XdxX_Y"
      },
      "source": [
        "# Performance Analysis of DQN Algorithm on the Lunar Lander task\n",
        "\n",
        "**By Neuromatch Academy**\n",
        "\n",
        "__Content creators:__ Raghuram Bharadwaj Diddigi, Geraud Nangue Tasse, Yamil Vidal, Sanjukta Krishnagopal, Sara Rajaee\n",
        "\n",
        "__Content editors:__ Spiros Chavlis"
      ]
    },
    {
      "cell_type": "markdown",
      "metadata": {
        "execution": {},
        "id": "wNDGLaOlxX_a"
      },
      "source": [
        "<p align='center'><img src='https://github.com/NeuromatchAcademy/widgets/blob/master/sponsors.png?raw=True'/></p>"
      ]
    },
    {
      "cell_type": "markdown",
      "metadata": {
        "execution": {},
        "id": "uDujxcmLxX_b"
      },
      "source": [
        "---\n",
        "# Objective\n",
        "\n",
        "In this project, the objective is to analyze the performance of the Deep Q-Learning algorithm on an exciting task- Lunar Lander. Before we describe the task, let us focus on two keywords here - analysis and performance. What exactly do we mean by these keywords in the context of Reinforcement Learning (RL)?"
      ]
    },
    {
      "cell_type": "markdown",
      "metadata": {
        "execution": {},
        "id": "S5ONwnv2xX_b"
      },
      "source": [
        "---\n",
        "# Setup"
      ]
    },
    {
      "cell_type": "code",
      "execution_count": 136,
      "metadata": {
        "execution": {},
        "id": "g_pkwx9SxX_b"
      },
      "outputs": [],
      "source": [
        "# @title Install dependencies\n",
        "!sudo apt-get update > /dev/null 2>&1\n",
        "!sudo apt-get install -y xvfb python-opengl ffmpeg > /dev/null 2>&1\n",
        "!pip install rarfile --quiet\n",
        "!pip install stable-baselines3[extra] ale-py==0.7.4 --quiet\n",
        "!pip install box2d-py --quiet\n",
        "!pip install gym pyvirtualdisplay --quiet\n",
        "!pip install pyglet --quiet\n",
        "#!pip3 install torch~=1.7.1 -f https://download.pytorch.org/whl/torch_stable.html"
      ]
    },
    {
      "cell_type": "code",
      "execution_count": 137,
      "metadata": {
        "execution": {},
        "id": "RX13NcYFxX_c"
      },
      "outputs": [],
      "source": [
        "# Imports\n",
        "import io\n",
        "import os\n",
        "import copy \n",
        "import glob\n",
        "import torch\n",
        "import base64\n",
        "import stable_baselines3\n",
        "\n",
        "import numpy as np\n",
        "import matplotlib.pyplot as plt\n",
        "\n",
        "from stable_baselines3 import DQN\n",
        "from stable_baselines3.common.results_plotter import ts2xy, load_results\n",
        "from stable_baselines3.common.callbacks import EvalCallback\n",
        "from stable_baselines3.common.env_util import make_atari_env\n",
        "\n",
        "import gym\n",
        "from gym import spaces\n",
        "from gym.wrappers import Monitor"
      ]
    },
    {
      "cell_type": "code",
      "source": [
        ""
      ],
      "metadata": {
        "id": "RXPCTeoKikoo"
      },
      "execution_count": 137,
      "outputs": []
    },
    {
      "cell_type": "code",
      "source": [
        "#model.get_pretrain_placeholders()"
      ],
      "metadata": {
        "id": "gBAJdhCUCVgA"
      },
      "execution_count": 138,
      "outputs": []
    },
    {
      "cell_type": "code",
      "execution_count": 139,
      "metadata": {
        "cellView": "form",
        "execution": {},
        "id": "lBj1RawPxX_c"
      },
      "outputs": [],
      "source": [
        "# @title Plotting/Video functions\n",
        "from IPython.display import HTML\n",
        "from pyvirtualdisplay import Display\n",
        "from IPython import display as ipythondisplay\n",
        "\n",
        "display = Display(visible=0, size=(1400, 900))\n",
        "display.start()\n",
        "\n",
        "\"\"\"\n",
        "Utility functions to enable video recording of gym environment\n",
        "and displaying it.\n",
        "To enable video, just do \"env = wrap_env(env)\"\"\n",
        "\"\"\"\n",
        "\n",
        "def show_video():\n",
        "  mp4list = glob.glob('video/*.mp4')\n",
        "  if len(mp4list) > 0:\n",
        "    mp4 = mp4list[0]\n",
        "    video = io.open(mp4, 'r+b').read()\n",
        "    encoded = base64.b64encode(video)\n",
        "    ipythondisplay.display(HTML(data='''<video alt=\"test\" autoplay\n",
        "                loop controls style=\"height: 400px;\">\n",
        "                <source src=\"data:video/mp4;base64,{0}\" type=\"video/mp4\" />\n",
        "             </video>'''.format(encoded.decode('ascii'))))\n",
        "  else:\n",
        "    print(\"Could not find video\")\n",
        "\n",
        "\n",
        "def wrap_env(env):\n",
        "  env = Monitor(env, './video', force=True)\n",
        "  return env"
      ]
    },
    {
      "cell_type": "markdown",
      "metadata": {
        "execution": {},
        "id": "4402FLy0xX_d"
      },
      "source": [
        "---\n",
        "# Introduction\n",
        "\n",
        "In a standard RL setting, an agent learns optimal behavior from an environment through a feedback mechanism to maximize a given objective. Many algorithms have been proposed in the RL literature that an agent can apply to learn the optimal behavior. One such popular algorithm is the Deep Q-Network (DQN). This algorithm makes use of deep neural networks to compute optimal actions. In this project, your goal is to understand the effect of the number of neural network layers on the algorithm's performance. The performance of the algorithm can be evaluated through two metrics - Speed and Stability. \n",
        "\n",
        "**Speed:** How fast the algorithm reaches the maximum possible reward. \n",
        "\n",
        "**Stability** In some applications (especially when online learning is involved), along with speed, stability of the algorithm, i.e., minimal fluctuations in performance, is equally important. \n",
        "\n",
        "In this project, you should investigate the following question:\n",
        "\n",
        "**What is the impact of number of neural network layers on speed and stability of the algorithm?**\n",
        "\n",
        "You do not have to write the DQN code from scratch. We have provided a basic implementation of the DQN algorithm. You only have to tune the hyperparameters (neural network size, learning rate, etc), observe the performance, and analyze. More details on this are provided below. \n",
        "\n",
        "Now, let us discuss the RL task we have chosen, i.e., Lunar Lander. This task consists of the lander and a landing pad marked by two flags. The episode starts with the lander moving downwards due to gravity. The objective is to land safely using different engines available on the lander with zero speed on the landing pad as quickly and fuel efficient as possible. Reward for moving from the top of the screen and landing on landing pad with zero speed is between 100 to 140 points. Each leg ground contact yields a reward of 10 points. Firing main engine leads to a reward of -0.3 points in each frame. Firing the side engine leads to a reward of -0.03 points in each frame. An additional reward of -100 or +100 points is received if the lander crashes or comes to rest respectively which also leads to end of the episode. \n",
        "\n",
        "The input state of the Lunar Lander consists of following components:\n",
        "\n",
        "  1. Horizontal Position\n",
        "  2. Vertical Position\n",
        "  3. Horizontal Velocity\n",
        "  4. Vertical Velocity\n",
        "  5. Angle\n",
        "  6. Angular Velocity\n",
        "  7. Left Leg Contact\n",
        "  8. Right Leg Contact\n",
        "\n",
        "The actions of the agents are:\n",
        "  1. Do Nothing\n",
        "  2. Fire Main Engine\n",
        "  3. Fire Left Engine\n",
        "  4. Fire Right Engine\n",
        "\n",
        "\n",
        "<img src=\"https://raw.githubusercontent.com/NeuromatchAcademy/course-content-dl/main/projects/static/lunar_lander.png\">"
      ]
    },
    {
      "cell_type": "markdown",
      "metadata": {
        "execution": {},
        "id": "mU_epArtxX_d"
      },
      "source": [
        "---\n",
        "# Basic DQN Implementation\n",
        "\n",
        "We will now implement the DQN algorithm using the existing code base. We encourage you to understand this example and re-use it in an application/project of your choice! "
      ]
    },
    {
      "cell_type": "markdown",
      "metadata": {
        "execution": {},
        "id": "0PinQS2CxX_d"
      },
      "source": [
        "Now, let us set some hyperparameters for our algorithm. This is the only part you would play around with, to solve the first part of the project. "
      ]
    },
    {
      "cell_type": "code",
      "execution_count": 140,
      "metadata": {
        "execution": {},
        "id": "RqpRNdCMxX_e"
      },
      "outputs": [],
      "source": [
        "nn_layers = [64,64] #This is the configuration of your neural network. Currently, we have two layers, each consisting of 64 neurons.\n",
        "                    #If you want three layers with 64 neurons each, set the value to [64,64,64] and so on.\n",
        "\n",
        "learning_rate = 0.001 #This is the step-size with which the gradient descent is carried out.\n",
        "                      #Tip: Use smaller step-sizes for larger networks."
      ]
    },
    {
      "cell_type": "code",
      "source": [
        "import pickle as pkl\n",
        "from google.colab import drive\n",
        "drive.mount('/content/gdrive')\n",
        "drive_path = \"/content/gdrive/My Drive/LunarLanding_models/\"\n"
      ],
      "metadata": {
        "id": "ruyg172GXaD3",
        "outputId": "03d34d67-3d0c-4637-f1b2-f62e4b2184f1",
        "colab": {
          "base_uri": "https://localhost:8080/"
        }
      },
      "execution_count": 141,
      "outputs": [
        {
          "output_type": "stream",
          "name": "stdout",
          "text": [
            "Drive already mounted at /content/gdrive; to attempt to forcibly remount, call drive.mount(\"/content/gdrive\", force_remount=True).\n"
          ]
        }
      ]
    },
    {
      "cell_type": "code",
      "source": [
        "def get_model_weights(model, model_name):\n",
        "  ''' This is a function to check the model weights. One can compare trained and untraind models' weights in this way.'''\n",
        "  \n",
        "\n",
        "  #print ('Sanity check. Comparing model weights for', model_names, models)\n",
        "  #for model, model_name in zip(models, model_names): \n",
        "  weight_dict = {}\n",
        "  keys = [item for item in model.policy.state_dict()]\n",
        "  for key in keys:\n",
        "    weight_dict[key] = torch.sum(model.policy.state_dict()[key])\n",
        "  return model_name, weight_dict"
      ],
      "metadata": {
        "id": "MKAZGipLY7jp"
      },
      "execution_count": 142,
      "outputs": []
    },
    {
      "cell_type": "code",
      "source": [
        "all_model_rewards = {}\n",
        "def save_rewards(model_version_num, model_comment):\n",
        "\n",
        "  '''\n",
        "  This is function to save model rewards thoroughout the training process.\n",
        "  '''\n",
        "\n",
        "  reward_dict = {}\n",
        "  model_version_num = 'DQN' + str(model_version_num)\n",
        "  x, y = ts2xy(load_results(log_dir), 'timesteps')  # Organising the logged results in to a clean format for plotting.\n",
        "  reward_dict = {'x': x, 'y' : y, 'comment': model_comment}\n",
        "  all_model_rewards[model_version_num] = reward_dict"
      ],
      "metadata": {
        "id": "MmD8xBgx885x"
      },
      "execution_count": 143,
      "outputs": []
    },
    {
      "cell_type": "code",
      "source": [
        "## Is it reasonable to compare the pretrained weights with the trained weights? \n",
        "\n",
        "def set_device():\n",
        "  \"\"\"\n",
        "  Set the device. CUDA if available, CPU otherwise\n",
        "\n",
        "  Args:\n",
        "    None\n",
        "\n",
        "  Returns:\n",
        "    Nothing\n",
        "  \"\"\"\n",
        "  device = \"cuda\" if torch.cuda.is_available() else \"cpu\"\n",
        "  if device != \"cuda\":\n",
        "    print(\"GPU is not enabled in this notebook. \\n\"\n",
        "          \"If you want to enable it, in the menu under `Runtime` -> \\n\"\n",
        "          \"`Hardware accelerator.` and select `GPU` from the dropdown menu\")\n",
        "  else:\n",
        "    print(\"GPU is enabled in this notebook. \\n\"\n",
        "          \"If you want to disable it, in the menu under `Runtime` -> \\n\"\n",
        "          \"`Hardware accelerator.` and select `None` from the dropdown menu\")\n",
        "\n",
        "  return device\n",
        "\n",
        "\n",
        "DEVICE = set_device()\n",
        "\n"
      ],
      "metadata": {
        "colab": {
          "base_uri": "https://localhost:8080/"
        },
        "id": "V9cqv3VmY-or",
        "outputId": "edd9e24c-8f54-4c6c-dae0-ad491fa90793"
      },
      "execution_count": 144,
      "outputs": [
        {
          "output_type": "stream",
          "name": "stdout",
          "text": [
            "GPU is enabled in this notebook. \n",
            "If you want to disable it, in the menu under `Runtime` -> \n",
            "`Hardware accelerator.` and select `None` from the dropdown menu\n"
          ]
        }
      ]
    },
    {
      "cell_type": "markdown",
      "metadata": {
        "execution": {},
        "id": "HaCzlYg-xX_e"
      },
      "source": [
        "Now, let us setup our model and the DQN algorithm. "
      ]
    },
    {
      "cell_type": "code",
      "execution_count": 145,
      "metadata": {
        "execution": {},
        "id": "m5OGFaqcxX_e"
      },
      "outputs": [],
      "source": [
        "log_dir = \"/tmp/gym/\"\n",
        "os.makedirs(log_dir, exist_ok=True)\n",
        "\n",
        "# Create environment\n",
        "env = gym.make('LunarLander-v2')\n",
        "#You can also load other environments like cartpole, MountainCar, Acrobot. Refer to https://gym.openai.com/docs/ for descriptions.\n",
        "#For example, if you would like to load Cartpole, just replace the above statement with \"env = gym.make('CartPole-v1')\".\n",
        "\n",
        "env = stable_baselines3.common.monitor.Monitor(env, log_dir )\n",
        "\n",
        "callback = EvalCallback(env,log_path = log_dir, deterministic=True) #For evaluating the performance of the agent periodically and logging the results.\n",
        "policy_kwargs = dict(activation_fn=torch.nn.ReLU,\n",
        "                     net_arch=nn_layers)\n",
        "model = DQN(\"MlpPolicy\", env,policy_kwargs = policy_kwargs,\n",
        "            learning_rate=learning_rate,\n",
        "            batch_size=1,  #for simplicity, we are not doing batch update.\n",
        "            buffer_size=1, #size of experience of replay buffer. Set to 1 as batch update is not done\n",
        "            learning_starts=1, #learning starts immediately!\n",
        "            gamma=0.99, #discount facto. range is between 0 and 1.\n",
        "            tau = 1,  #the soft update coefficient for updating the target network\n",
        "            target_update_interval=1, #update the target network immediately.\n",
        "            train_freq=(1,\"step\"), #train the network at every step.\n",
        "            max_grad_norm = 10, #the maximum value for the gradient clipping\n",
        "            exploration_initial_eps = 1, #initial value of random action probability\n",
        "            exploration_fraction = 0.5, #fraction of entire training period over which the exploration rate is reduced\n",
        "            gradient_steps = 1, #number of gradient steps\n",
        "            seed = 1, #seed for the pseudo random generators\n",
        "            verbose=0) #Set verbose to 1 to observe training logs. We encourage you to set the verbose to 1.\n",
        "\n",
        "# You can also experiment with other RL algorithms like A2C, PPO, DDPG etc. Refer to  https://stable-baselines3.readthedocs.io/en/master/guide/examples.html\n",
        "#for documentation. For example, if you would like to run DDPG, just replace \"DQN\" above with \"DDPG\"."
      ]
    },
    {
      "cell_type": "code",
      "source": [
        " ## save untrained model weights to compare before training and after training weights\n",
        "untrained_model_weights = get_model_weights(model, 'untrained model')\n",
        "untrained_model_weights"
      ],
      "metadata": {
        "colab": {
          "base_uri": "https://localhost:8080/"
        },
        "id": "1L1hvx6yYqWa",
        "outputId": "234cf8eb-549b-4505-bb7f-469c24c7a4fc"
      },
      "execution_count": 146,
      "outputs": [
        {
          "output_type": "execute_result",
          "data": {
            "text/plain": [
              "('untrained model',\n",
              " {'q_net.q_net.0.bias': tensor(-3.8614, device='cuda:0'),\n",
              "  'q_net.q_net.0.weight': tensor(2.5560, device='cuda:0'),\n",
              "  'q_net.q_net.2.bias': tensor(0.2273, device='cuda:0'),\n",
              "  'q_net.q_net.2.weight': tensor(-7.8497, device='cuda:0'),\n",
              "  'q_net.q_net.4.bias': tensor(-0.1196, device='cuda:0'),\n",
              "  'q_net.q_net.4.weight': tensor(0.2720, device='cuda:0'),\n",
              "  'q_net_target.q_net.0.bias': tensor(-3.8614, device='cuda:0'),\n",
              "  'q_net_target.q_net.0.weight': tensor(2.5560, device='cuda:0'),\n",
              "  'q_net_target.q_net.2.bias': tensor(0.2273, device='cuda:0'),\n",
              "  'q_net_target.q_net.2.weight': tensor(-7.8497, device='cuda:0'),\n",
              "  'q_net_target.q_net.4.bias': tensor(-0.1196, device='cuda:0'),\n",
              "  'q_net_target.q_net.4.weight': tensor(0.2720, device='cuda:0')})"
            ]
          },
          "metadata": {},
          "execution_count": 146
        }
      ]
    },
    {
      "cell_type": "markdown",
      "source": [
        "### Saving the undtrained model\n",
        "\n"
      ],
      "metadata": {
        "id": "SYT7-FG0fBTp"
      }
    },
    {
      "cell_type": "code",
      "source": [
        "model_version = \"untrained_DQN\"\n",
        "model.save(drive_path + model_version)"
      ],
      "metadata": {
        "id": "xph7iZ-SeiXH"
      },
      "execution_count": 147,
      "outputs": []
    },
    {
      "cell_type": "code",
      "source": [
        "#print (model, '\\n', untrained_model)"
      ],
      "metadata": {
        "id": "fUvOtD1pJrfS"
      },
      "execution_count": 148,
      "outputs": []
    },
    {
      "cell_type": "code",
      "source": [
        "#untrained_model.policy.state_dict()\n",
        "#model.policy.state_dict()"
      ],
      "metadata": {
        "id": "C4uz72Zjap0v"
      },
      "execution_count": 149,
      "outputs": []
    },
    {
      "cell_type": "markdown",
      "metadata": {
        "execution": {},
        "id": "HojzbSG1xX_e"
      },
      "source": [
        "Before we train the model, let us look at an instance of Lunar Lander **before training**.  \n",
        "\n",
        "**Note:** The following code for rendering the video is taken from https://colab.research.google.com/github/jeffheaton/t81_558_deep_learning/blob/master/t81_558_class_12_01_ai_gym.ipynb#scrollTo=T9RpF49oOsZj"
      ]
    },
    {
      "cell_type": "code",
      "execution_count": 150,
      "metadata": {
        "execution": {},
        "id": "bbE6asJGxX_f",
        "outputId": "615c32cf-a938-48b0-eb52-ce9be62357b1",
        "colab": {
          "base_uri": "https://localhost:8080/",
          "height": 421
        }
      },
      "outputs": [
        {
          "output_type": "display_data",
          "data": {
            "text/plain": [
              "<IPython.core.display.HTML object>"
            ],
            "text/html": [
              "<video alt=\"test\" autoplay\n",
              "                loop controls style=\"height: 400px;\">\n",
              "                <source src=\"data:video/mp4;base64,AAAAIGZ0eXBpc29tAAACAGlzb21pc28yYXZjMW1wNDEAAAAIZnJlZQAAQMdtZGF0AAACrgYF//+q3EXpvebZSLeWLNgg2SPu73gyNjQgLSBjb3JlIDE1MiByMjg1NCBlOWE1OTAzIC0gSC4yNjQvTVBFRy00IEFWQyBjb2RlYyAtIENvcHlsZWZ0IDIwMDMtMjAxNyAtIGh0dHA6Ly93d3cudmlkZW9sYW4ub3JnL3gyNjQuaHRtbCAtIG9wdGlvbnM6IGNhYmFjPTEgcmVmPTMgZGVibG9jaz0xOjA6MCBhbmFseXNlPTB4MzoweDExMyBtZT1oZXggc3VibWU9NyBwc3k9MSBwc3lfcmQ9MS4wMDowLjAwIG1peGVkX3JlZj0xIG1lX3JhbmdlPTE2IGNocm9tYV9tZT0xIHRyZWxsaXM9MSA4eDhkY3Q9MSBjcW09MCBkZWFkem9uZT0yMSwxMSBmYXN0X3Bza2lwPTEgY2hyb21hX3FwX29mZnNldD0tMiB0aHJlYWRzPTMgbG9va2FoZWFkX3RocmVhZHM9MSBzbGljZWRfdGhyZWFkcz0wIG5yPTAgZGVjaW1hdGU9MSBpbnRlcmxhY2VkPTAgYmx1cmF5X2NvbXBhdD0wIGNvbnN0cmFpbmVkX2ludHJhPTAgYmZyYW1lcz0zIGJfcHlyYW1pZD0yIGJfYWRhcHQ9MSBiX2JpYXM9MCBkaXJlY3Q9MSB3ZWlnaHRiPTEgb3Blbl9nb3A9MCB3ZWlnaHRwPTIga2V5aW50PTI1MCBrZXlpbnRfbWluPTI1IHNjZW5lY3V0PTQwIGludHJhX3JlZnJlc2g9MCByY19sb29rYWhlYWQ9NDAgcmM9Y3JmIG1idHJlZT0xIGNyZj0yMy4wIHFjb21wPTAuNjAgcXBtaW49MCBxcG1heD02OSBxcHN0ZXA9NCBpcF9yYXRpbz0xLjQwIGFxPTE6MS4wMACAAAAG6GWIhAAz//727L4FNhTIUJcRLMXaSnA+KqSAgHc02r/Du1VgBbZtHRXJUVaZ6KsfmlWTP1nGMYu74a1Jk2W4ca+10ULe5Yaw0Ludklb2dc5kbSkPRoGuJH4/Lidbl0kug6xcoDrl+TXyVIv97EIqaSeWzcPbTaoikL9T+efaTwDcN+BBzfgIrLEZzIN/gaFKTCzhIOf3yIU2hqP+eoCjLcG++NnXoeWsNbhPqM4GLJLv04i7YkEmMBQrq63hiWuJQMJS4ezP7PTSGWGIiJKmpwOLOqbtwm7oBwAAAwAAAwIhz3DYCtADkGjv+XKvUpUEQAAGAB8Q0iDmC9jCjgEVHgNocA2EpGwCU0M8BI9mhMvZohvoMsVQHfgwaK5zqcRzlROumhBOMF56cWkoAICRbi+sQGnXS7Ty0eQapkHDPzQ1165m+kg3NafP+ZJ1oEFgzI0Y6RQ71Fdj98M9P0cVQDJuPp1xoh+JPV0Kzz0Rf/c3VwsdykN3wMiCQ01NwdrfVehHqxcWWSBLXRxU4Lf9T5uNugyBRKl1FUt2fCSyl1C0ZwsOigi+/6JYAp6RHqAK3X+ezHxFE9khjas4AxPxR98rlulXgH0Rj/IXbBJLBdTGIyv0ULJ6nN3v+Y1BFzK8ZiEVW0z7Al9XeHHqu0ayvcAxQgvK9T/E/GoZ8Piya82TdZo/iBaPN+ZwbUiMQ6Geob6cMXx4OVzmMbd843jR4ZuWeAYWE7wAz3wcK8HCKfUoXmhd731zed4o1cxPrfumgz8bWDSQ+/7+1Gm4lMyDkvltWRdpcvKoGtF4fjZybH5N3o3G0yYHPSATYm9bFRfv/0e1NyNHa194G6ln+/MSgAa6WQYUysq22/odZtbA9DMoWayQwlnA/eGsH1KF3QLCzsjxygip9AY0aufiq9OHl/yyhbUdxuJoIpcMuSbWxlh1NcoEoTrvRKh7Xd1PiJcpR4v/JHPwL/439E8jr5AZZxKcbJPmS5pTERpbkj7rJjG7VoMEQ0MZ31AvJp34HE0sWjmatIaTmIuzCwceLCpW92VwGlU14pPxyjUT8aiEaaVQ2hdo3B/Gw/LZMy4VCpg807h9Qa/mNqWNDAQmkMeeX8fEgWrQ1pyXZ3NF9cF1yUIkDmuw2PWzyTiqLu3PgdKLDNQcSjQ/wGws/szCIAWY/R7Opxii6tzxSW7AvpBXlLZ3jEUfKHadp714obVvkfOZEvxbop5l9EBDjOxYynERCrlptKJ7J0FgLup238Lty856coYQQnbh1T9kJBGf4Gj5nHLP1fNQOXIACQXIK7NOWsClUpNbb1/jKb7jmMfhgzv2i3yBPpVcFT6xsPV2qcMBuJ0/e5HpGoHcG/+WetE6Bj2a/CI1wOb4Dg769yteUAmjXkN7kWO6iC/kfQHXZo4U03CH4x9UGKYWoNGfuGbxQPXil3k8o1nZs9QBgVk509wdqU0/eP632KuQEmQJbKpooYPSeChkesyj+anOckVXEFxAMIehGgNsMxh+Xmf1n7ybY4agGV88hOVYK+MmeRW0TPpxcreEOUHbsAXNYfjI5++iG1Fgosuycs4eYjNcBRsCQk1QY8+1TUIIsYfl5clT7ybY4ahKBaiE5Vgr6jBshZ0UTNBv7mYUAVm5U0zf+Zwl6NxClqWTIKoLm8RAyJg3L9n0cGS5thRy5d+gaPgbIM22TfANZlOquuTiTns/c4VrUyMD3tT9jcJ//OPT4dObk61hO45DnZNuQn5W8qEmUOfkE9A9hHH8IaUfJAmECYBgcMNoMXHLT73Ydk5Az8M5eHTyCaNHuFYklaBB4/3xUXSV6YqDi90yOXTInunJP4HZqNvk41E9ZTf1qRU8KtEoplYcBsaVTSlskbE7+LCjAh///PKgNHP9LJN3lR3mcXPinPFes1g3kDOr0uxAgPevQse6FmT4/VoW61ecJPN5gAFgbLXXaaXrRBuTf1vvpb//p868PW6YLjrFdUHxfR2DaGmjN5mhP4M8AsYp1Q3dUie+f/81VrMf6sxQVwXr3He5vJ2T7wMfQ02Cve2M/t0pY8gAWo9L9EC87NPqC/itwoMaOB/fdIa4tBu5JalP7laoqza/D7K7ahZ2cZeY0UvQQ9gaMBqLUmFVvEmBTB4AqNsxRsZ2K9THNq64mKG+7vxm/desoTQHgFM4F2hSwYk7/NoGfEtMMAwyFzbwy3kBnzHdjNmd5l3wsauC65f4EYMRMtCNnnyCMv/hcTha8towL2W/eaHO5jeptpO1JhciitejShy8Dp6Rx0AWJDqmofD4r8383Nk94QsVYK8Xlt2mim0BsC7PsPcpV7KtDXUtuX4k1DddY2I8IjXDO3gZwAAAAwAAAwAAt4EAAAESQZokbEL//ozPzzJkwAin6BdTRE6ZAQl3YqvsiiXlmonlkcdbTH+d/TuLcWEmywEDO7Ky1lK37OcHqVZKT8pz5Coh5dy31z5o+QCjjDAH0J51qSO7vq9kYlc2TdTKAAADAABMq2lcKjrS1gs1V8b29XCq0l8kpNX9KzM9HLEtAGKis7SwS0233bVM2uihvR/RLumyZ6dcJ465VT7jj/4wQDLkwcc8fXLH1kzbzKABvSa8SrvEEJQ6Qn8zK5+MuzlbSKbdztJt/iRSoVazGvRfbZKbbfbwCuOcBQNYTYBhNYjg6XVbXw+owqQDznqKHQQ6S7A+J9Cet6LOsjA+3J83OwCi9XN92VwhZdLJrM4l/AB6QAAAADNBnkJ4hH8PNKZVlNeH9s1XFRJ806rCqSDCRgOpOaY/ubLE/5eGMUsfkOzy8uhIhjUgDKkAAAAqAZ5hdEf/FPARiRWb5WUiefmqETwCeiI5dj4Fi/0rSgZ3HTec87KOGAEHAAAAMQGeY2pH/xUa9wcVOBAAlgNxRIujhE++ccEvgrlDH4F6ZCAAfv3npiZzRtREulgAGZEAAADhQZpoSahBaJlMCF///ozPihEj+KjA5gwATtCrtIpz0khOr0EBJsbgsObZ4SudhJfNIi7iW59ITO3Vy9BoC4p/hYHK9UbZyTFwobwJsbf9gPnfXevWI2USX5G5VXfUv6Qx84DsEo51IuOwNHEIwAAAAwAQFHPcqGAzkw9Cf3HT9IHCOMi9SuTrwJwJBXvEdtsZEFkc4Bj+MVUuu52yxe5i/0ViSEg5tMwX/CDesAbj50LpWe921TMgRJvvuu5D5lDdUYiYy8+BhrrL3j5H41WrLYIRQj4oGbxYu7lNobSZYNsxAAAAY0GehkURLCP/D12/dCzB3IO4LrNsTSACWposkC1BQQYoUNXBWpbafVxQWvamyLHWEXjaIzSPvjYoSfv0Aa479n6H4+wETmyG388rGpx8I1WDAAWnDw/hZm3GAX+drhVQevGH+QAAACQBnqV0R/8VKa36vNAGEEE9ZuN+3k1AASWS0HiQmm8wKtcAFtEAAAA/AZ6nakf/FRquXlRtUAnAx1K3EfqYAWmdNRDGilvB5TnLkKsfZIA1pR5/V8voAFQjLFKltJMvCN6iHuYzOAaMAAAAykGaq0moQWyZTAhf//6M01xOPrlBq/5xqqDgMyxZ0+Ffma1kjEAn+3Gpd6DEZKNRSN8lBTpoeY4eFXtNQMmfDRAhxlFjwBLoR4IkX9i8XQcP9iz4UJcjfXUJnkNEhGQAAAMAEwoxNlVnklOBwuZd/f5IXgUZ8NK8TaYBLqYJI4ezF+RCFL8pD1ujDspGiXVRsWIyqmS+YaZFWKytIR9921TNiaDP41QwxB3bvcrGtmS5flOrAabEZOT4sw6SMeIQvfROpqt5OGzPcJwAAABBQZ7JRRUsI/8PewU+sgHwQAFzt7/w8Mc8hHp3TkAZ3CJ0PSxahy/VVj74w61g4YyMxY93AAC2FGBuy+eVWp5mqicAAAAzAZ7qakf/FP1910Z+m4RW1+vk0AUDsl0r6uWOXyuBB7q4AN7JHZkDMUe4pqaERoMVEAxYAAABHEGa70moQWyZTAhf//6Mw+1e2I3siGjLYATLwpewKNghSQc4FA4RfXkeWtZA8hgYHVju45LH/hKQtTydyf1PdmUXNqCQDbP3Hh24mgnOzFUMg7T0mENNGaUJGtVwtzq9xNVO1eJ6/BOxK76ft66qWhqDfOg6SwK1wAAAB9P4cqHfietCHqBU5ECWIwNINaufYFDXPg+Lgb9Rie9vxa4WGNcLd9Z2JRAh32sQU5xY9DJbFzb9zuS7bzVf+dxiqc4spx1XOH6GyLc0Qc1zR77tqmZ/cROgHOUAsItcX8v9xAKndnrwbMIiZ3YndBCul6LC16WC70MMtf+ZqQUZ2FD7iGVqli/yi6Lb2fiSZSYiCrU5mFEwNr78g+OEpYZUAAAAckGfDUUVLCP/D3kFD5VdzuIKgUDCv5RibhDmA4C+qiGayB9KsQLXy2k0D2lTZaBWSGdads5/OgEwg+vQytEJMYHV/fJb+2m0IY2ccpiDL3Unvt3VPs4AEl6Hb7Xli5cCnIx9lF1SSNbPydKblXyi+p/EPQAAAEoBnyx0R/8TBQEoAJ1g3gN7s5xeTOdKfS/iDAjft3AExKPf7+sAJjOIJUL+g/mAOUL9LuOABIRXbtZj0UlThCKvMJ4Wxt28LpyDqwAAAE4Bny5qR/8VF3Bbz2E5ZbzyIM++VzHCFcM0g8n3BJ+rQa5XU0fsQAk70orh4sK8zXrP88ADERXUwukxsEekdQZZK2MFFwl+c/2BniC+QcEAAAFBQZszSahBbJlMCF///ozPfNOXgzuPKEAH89Fio6JrQebag+rbM3TmgNA4AGtuG1ucFxGZPlmvNp9wuHqxUetSzsuHC3wkbKTntKpddqvkI36gaXWtMxQRKN8SAWEYuAjthBg8DkzkR+4X5BdygTFkY+AAAAMAD6/+H73CTjN/zs/vBg7FqA4qqNCROrCXfzqPwBofo6jzSLKUl/hwlsjioyeviShPRKOClQk26uBOG9Z8Z0QjbwqZgM+pUdr3u2qZ1uHSlhQGfxElJN85ow88nST1NRpYPm0dL1n6PImukNk8B5XCpP3h9LauKDBH6zraBmtqS54CzYbhyMKcrqskbiizgx0yvm4tX1pyLxuHqHnYRpm6xZKcoKb1Pf2xOnedM77kwRSZAojdFS8PDYVPLoFBnU4V+otz9bQdYoVFhgHzAAAAhUGfUUUVLCP/D2jHc5rPDWzzKQAW6i3bIYGk9ZEtzN65jGkw87mtpFeUdm7xg/0V6GmHP0UcKlDxbTjxWIJ5scujw+KIRzv/+beHk4kazFfwxwj+jpAokGmC51wgGq3PCgQAHxkYxmomNLOAI6nnCnH13u+oZ/Y7s/CpKc6XOfwBaJgA+YAAAABQAZ9wdEf/FQVo7l8IXJcV1Su0dV0lXCSGjy4Mb2s6ln/1vxXUOT8GkWG+AAjStRfFIIS0y6W7AeC2ein/69WcAF9YFSrDUVPrGvfcZBXwC7kAAABNAZ9yakf/FP1l75wyghbNmLhWwAS/Erj/XEDXG1KiPmgz+IZdkFWuSa1wfnMGPvkI0W+QVEI7CiUx9suocnNawAFQ4hffxi2+iqGhtuAAAAEvQZt1SahBbJlMFEwv//6MxqZfweifbBlkmqAD475mMhognPmb3CABJvpTMklA6v10MmevvSwJM/Se6Z7REb1IhulNaOz3GHlIffvx1JJaq6pbAAADAmLjh2m1MD9o/Sf/oL3KO78YuWp6OOcXgbXQogWs1Ssry8Ruo291rHsHh8np6wwXt1eAHO6pfE0F81OiIcbvF33bVMwKTvHBPL4anFVGb51XB69pSXyCLpPtz260Qry6/Toz5vR1bmS/gmGWad0oAKMkOhwuvJAW/dooGzlmNpSvt0IbdzXVM8LD1ruqtXDOIJ9ikxDv+/oxvLu9I/gaCqMbynNwlTdDbA4xkqzSqUSl9PEXolqsp52Yn2BlWGoUErx1+Tcqo8PNOssNpI/urJ6cgFGlZIYTGHzAAAAAZAGflGpH/xMD/lE/eezpvJJXKVQAFj/jVoeDa9VQ1M1mUDu4h3ie1xirgaDVgkYTwfnZSmJZthH1hrTfgS3mbtQjqbClpUQRzRn0mwOGtkAN+UZ9C09ZL79MFvOhFJ4MCBlqRG0AAAFOQZuYSeEKUmUwIV/+OGT80gNclLYqd2VOun87xYbS+SkrL5jCemXvhlJ7QFVNtUZANEeVGmI/GbHtux/yjw+X/UIp6USN+LxK1uPoa+quwMspM611AG4Oiq3kRxqZkTM8s6R5iL3HWxWs5iodkaEWmLU7SxF9UyLJtlf2ZvT1vrM4+56GMM1W2siKm9ocSKYis0HkaA6NWS/7p71ayPgLuh1yKIVwwOQ9J1KxAA1r7k6z3LwuvtlFA5JVAbbq74/V6rhOW2UEGDTJfBnSl4bcDLQ0XrPlhIpMLnOddPbk0Ldd/8ixeKCQ/bqnUcJzwLnkKr9fN2tokXjTvuR40n2qZm1stmUdNM3cni5eiUcFFiENPcU+bkn/RoDTsPwi2FIHsgWceI4veB8IL7+r8YPBPXPomKhMXufpm2Og6K+MgNAArAc8G+Bj6er12artgAAAAJNBn7ZFNEwj/wyIejS6vghhMrSgBM9m8dl3oCerbGSzeMgYAuqyPsKgDiVUmNR8BIgv/z5WD3WMwFxw1zQbUr0utIa/n5i3U6cGj3GVdArqTsM2+j3i/DxZUjeZ8QtNfqmmdkDIfKJ4sHo7KkqFHMwLzzLHLW+s8DBPpVJPXDb2QakHJtDvXO/VHkIFHu9POlp/cIMAAAB7AZ/Xakf/ENCS4IddEnqQO3wACVFIMqDWVcCQ39vnTUvCnyhl4zyjHzNOoYvtx0MMkY7mQPit9dPNzOG91aPwvfcoZ0iaZ1mwEfAp40tkMtHgEVpqRMI0WI0OvkKO9M8+U4MFAOIRofTrv73+GCMwd5hsZmArGx/vae25AAABCUGb2UmoQWiZTAhf//6MvuqUpTbmOADh5UdBrohSv0s3jJYjL/5Glhuub8FXo4UvrFtrg7S8H0shVmzYN7ZT6PBqH1t1CoOvB/IrZrxjtWEdZ/Lkr9r35aL6kn07bUyv3pxzfU88IIPybt++WlNI7Ka9dBCPq0M4xqvLDFDbOSF3NwY4XmjiOiAckeejsF1PTlreMLjZSHu5l7tuNCcrIHEhl6D2/KdrBm3mTYeaaRyvyweHBb1LSbkti5wFQHRz9V4N/PANl8e7Go2dlopGVjinNtOEQSj1y6zpALu9sbAIjX+srPfKhibHIY4wCUjDN+RnEkbnUzXhHYKjY2H4JZYYeanGBurl2VAAAAFQQZv8SeEKUmUwIV/+OGF3181fXjBVK5SwAbQQ6hOpbRUaX9L3p79ZNh01KvGdA+geCkL65NZJx/IRNcU6pcdcaKNwuIVohwAAAwAB/+FUszL6bwcqV+ORNBwmPCq8JwEOzWsssO6JKzCom77tqmZXvwO5S6O5g2KVvbSqDUvIjcMcE+U7ZWLZ4Fs5P8/mqxso0c3foKXQz2njYkHeAI7vGUPsYm2PFZopbIWvscjLBiQpLB1YornTRJCNv3D8OyX51RO2d46ce+mbBBUx0cxc8HEwmyfh9G8mC2bh1JVFuXnbY1YOy98Da14G9YhIFhgdXiM5HNeHvimlrAgWxoZHY4uMFXamLTSnu6X5p3LK9HHsMw7Vzki6ShpH48dXRbUbeg8KRvkJ7NadVSKLp5nY/ClGcLoT8jQPzaxwVq7+YRjUoovHuwdmawVwIPrF3IeBAAAAqUGeGkU0TCP/DG/3siicLAobe0gAbakKG2+uCOeP72f/l64O+VeBiBDVD30VxNy300mxBhA0DfDv+d/7BCDg4P/O1SJn3NeHy3mPrDwu/w/qyqCqjcgQs4CfRqfvElroM68X4jR3/QHnfYaV4VF77Z4M58IDC6MXip2kDCpnBJFgZAA4fcY5nXEdFF59DzXJi/8cHgjxY+tf2w3+UusfH5PuDe9E0iAAj4AAAACJAZ47akf/EYjD5wAALZurtSJM3Fy7cngPdjoArLIHrGGIUV0a5Kx8SDVPRvz9innEi9A/KdjkVxGSQiCXwYBBAMV4WOuOnbv8d47VlbrT6c0n6SvBOQyIw89okuX8zzGkbvTAcZkznWpdPm1MeFlTwI2BiKJJv6ggLv7eioWJcgTVLrPlgrPgM+EAAAFPQZo+SahBaJlMFPCv/jhaHbyyZRKYAF1XSRY2J+yBQAAOW7lqP1M9vwmSc2RBOsl2j/Ah3a3MCUJePJPgAAAiu9k9NuAWUgAlqC22FYAo2G55aB8lII4IS+aLmG6rwqAuzj5HhAsB4bdSt73bVMzrfhqI+b4gqJ1s9mqnjZUsFB7yMHU6LbdqG8SPM29Zv4ve/gQ9JU/VmNqY9SvyJ85bqvBKiSubSeO1wlarzB17m5c34sFS6FaTP91H6iNLG41T5Qe0glgDl43J5MlX1pYm1arKhBaGOge/V4ad9FoO5ErzQES6x1++ohFlCoaUVz2grIjMIVjfrTPo3RjWp7RHpu8Vx3cSWl4teqIcQX+zBp5Ero6W37R0Ejappq6wQyVfb63Ne5H/v5htOPwcEz7+97fIL5pIvFj54AGLOuqX9SuJwLqzxSJQVRw9UT1wccEAAACoAZ5dakf/ECVhpUDxP4AhBMSH3X/fLMzhTP4G1zyatAToy/SiAhl8+7CHBkqiAddgmIjWlEgZJZtIDUT7+iW07c2V3PHUOZMGcZbJhbYdHg5Im0fg1GEuG5n68XpbnMAAjqDylOXIIpTIxMqXLHloYCiTDPr0bIJiby/7dK/TedsgVLvip2dodaOk4UkFydSoQ8KdCcFniXhzTpsjoIsEWWrJolFAWAf4AAABTkGaQEnhClJlMFLCv/44Y/2ElMpYAANcnA4le96VSviMREcLF2/+9VYfJOhjB6bhyUCb6HgAAAMCnz1zf02v3fdtUzi3NIj+fHjwBHvYgVBcdALRmcuMinreZMKvq1yWa9NJmvVgbHv+D/6Splz+SlCnjJ8aXxqtBK23JasUIgXo56xKUrCrACx3BJzRqua7PZRSSXOWrCH8ODZXDWDpbPAfoLB2SXskCJJCL3fVsza5gY7roaVE72/MLNRFhIrq0UkAk2Dmh6JVBVIFUYmbh+fyYuQOdWFPoYqgS7aQsxn8xD8OsWRWGRwYTnp+zsIWmey/0+H3vHLcmu7Ks1esXqshxNugHvx8/KRRFIYpleTueU9ikYIi+wWAsmYrfj/v73HXCLxWOEdu5wACK3Ay+QLkQ8j7loAaPoGTZj3RQTrj9xnQEFY1OlO5HP5Fgu4AAAC1AZ5/akf/ESjmLFtMDuf4ye/Qiw4w2sAH7maN0wfCZBL3h9KQ6nVZxOd4blW4ch+fBP3MBd0sKYFEsWOp1k5pfSBvC6vmmyhx9CNIO/7GOpjSd0dgxgUmsKC/KlPTIh10CV8NVaQiCi7xBM60uLwBN3/ZtFJhdKZHxCTdzRGsfzj5YbV8pj147sKznH9O2vzfoueLLvFwGXr9RFMQTizcykA9GVDURsD+zZjAqNhr9NTcKtAEDQAAANhBmmFJ4Q6JlMCFf/44ZPzSfSJBTmDHfgMUVBRtbjGlt1DOE0CUhD2shbKIVw3iH9i7xzsazvIOkdL4xvng75CTRxxqn9yn1lyN25PktdLe8pZMyHYcG5Rbc8bwEGQ2nfJEPIkyegsmlmx8YK74zQGZTpii4qO2W/EV3tlEEzVNNTQWNIbszV5YI3U9Rui8TVgwSZwgiSta9seVmaNHEGWKm16tUu1U+YoEORvuOBNuezpwCR76OeD7zv3CMPIgdBmq2+drR7tm11vUZe+4AB5+ywmiaHmC19wAAADKQZqCSeEPJlMCFf/+OFok//7mAD4s2mK14us1ipxRoQMMNXOO6V6HiCfuo0tkuxMOf8wqIcRiUNUAOzk/EILgKaupr+9TzMWiPDRZ62aO6SrTvXy3QvMXICFgFUw3J+oLGVzqQVY0sRu5lQ/uiqV+NMk5DYswWNACwNaBZwnzk9hA3WXQzFffAq8zF/5FYmzz5kgYD13KzMjh34RJumlmhXFa9sG0kor404jbgz6hzr0xd79v4LM2MSeJeJ021xPwBKeYZl001BceEQAAAW9BmqVJ4Q8mUwIV//44WjocQHd9r3AFaHsWYbpbq5meIqyaIsBcImrLguYSfhPzL1HEp7vysYzys05PxJSadH3+onBgfYh+jPhpcP7nph/NAESACJR0TyoLYF4F8pYOklysvlHJtvv+039E1tA/4+Y4DCi+MfwZWkFpVVmXKrD5UWYuO4kz6IagSWHu0FNwatRN3/AMaX7nm0Zn0Wp3F5SwXoM6qMv2DqPAhCXfIE0M73/DJg7TE0H98UdVS5HBjEl5Ncthl/wg8wIIPrt0j0rg3J97t2rNcdyO+JclQuJRxNDi67d4VwDs1Tmf9DP4zTsYEiCk6L1AjtY963gUnDAg0NB5ewQq+xr7C15A/4dYU7w5iOxzoJWrsvWBudfQkB5zpQG55F9q4/Yx6eUgZkbBW2ZfQgTBqXQeNBdp+JGEzgjB2kFon3jHddJeSSzD7QScjZSwg6UwrzGN8CVpN2b94IdWZguBDtBvJmTGvSSoAAAAwEGew0URPCP/DAL/gfgBYb+bG9VbpWwWc6F4iBrfr1FGVaBPz+evfzJQ1ULLLJ5z4hBBwXpd2djJbmpJwtdaKS0/wXQnTZdlnlfYCMIdlGQ0q5Xt2PJYM5X4nXdMYW7QZqaLWv/ZvIM1KKL+jJAEkmCvkpvXNWo2zlFhyMwF1MOnRvkZdXZD3RNRa3Wl3+jzR4/cBmuZS6j04+lohKDGnbQZJXixLj7alPOxNvFzwXlkRh99a1Y8gHRnpnW0OIYCvwAAALIBnuRqR/8TKD3XeDJuHnc6dfhAEVMrWin3QYY+ceNabtDGV849YLxmwH06jmkoqj7tCtTj4wCjwzBrRgQqC/G8cLtAnnS9VkaAWmAHQCmeKG5IH+tgGE2u960MB2PuR+ueRlALVJjOh1ryg3As0oLQb7gPNdhFCokAIJo3BP9Spxz2HJNGaXk8zy0hnl9/IcNBSLEQoGnolOx+vdNwXknpbEBYB6brLITBVUNVNYO0wA6ZAAABDkGa5kmoQWiZTAhX//44QCC4l1xzBKwALi+H2ownjrJqsUQLm6E/oBwmWFHJzoHC2vpDHx6unlSIMXe6NuTGvZKAA62buIo1t5flVTDhrIA8nTcEiN+vbgUb5Y9i4DH7cna3QLVqCkhIdynz3W8/pygI+TgTo+eG+dyWusGcgG2pfsRCMUjEI09hrpUxbm+ynnHYAu/pINriRvlaC4BqLzx/8ZccgbGYOtzBrfD8xTphYWoBRz9az8Lp1X6E6jmpRyGVArbA/zj1/EU/3Ona+JCtdY+i2l2XLPZBJNggHmO4fotr1Nbek6Rb09qj+Cj2pgb6NIuzbM9raxiyo9sPTuZUdglXhqUWCd/pWuPKgQAAARlBmwdJ4QpSZTAhX/44YZy8QaTpOyNAiLrLO+X6rUAJpnqoL/BXDp5CAizsehmH76QDOo3jN6uWSktJu6c5owbnmYHkw/frgOarjAd5Ssls/VqbJbhtoazHBXhF65S2MQeWZ2H281D4ojMZ7As/XhEMMrqvyedc2fKo12KLNZuV9OAs4bDS91lclrXg2jCggyTDUjo2ttMAn4yIbK/trqm+HmEblpQUm4wFAz95/yKU8033asi/JyfIB/N+uKTVX2T9ujwmIAFOCEY4OTp7M/gwGdh8SOTbBgkWSViTcCIWe6SZ2QgcBzbxGYC/SJbdODYFn3dGV0r+YDokX8tn9bSLY4FoFEyFxJqdqGRYZVYj2S8i5Zl9hVco2QAAAT1BmylJ4Q6JlMFNEwr//jhAIpiXgWRTgAXQKSLGxP7czTvAEuQm4TdA8nQXsW/F+onspqcn5uRBfs6SszREVt6LOaJbJiRE6P2PpHT73ztHWjRC5VaLbWi0xMY5WT47GyLT3LTsfaz+TG25PDUILT3cwhT9FwWkWcfnDNTmdWpknCcPYhyd9Mifys9kjGsItVz/NDdbnIEEiMESJn+RwKt+/E67Zx9FeSGdEChv9M8dq5qnvxOPxUe3yNEC8iSAD8U6OcWyHzJCmSKi6iTeunUAV8P5RQFld2VB4vGFQeLTTEeojDzrjY5PzuiBO6HTqVoRHiPuUS6Dk525ZCxM8GGH2obusa2g0Dp6yxZ8z3H56Ag81S/+2/0KWG8IdA1c35O09ZFkSgNmrNHO6lYhLJP13YDVPnn/flp8Lw6ggAAAAK4Bn0hqR/8DsTz0U8BDID+rAFxkY7AiY+phFlny+uBEL1ghn4gzqvP8lXMqIA05nW8bpYNBdLJ8qwmun2hqeSHuhv6zFZPlH/d+JDc6gA0Ns2YKXmtKzjakd+vKizUBhraxXPC46BVLSsMAQqfPOi0Q4W2e/qIgOCqTxlQamge0IqHhFiNS8R7HSVMPzjRLM8u+rh1E8pGMUNxKdYLID/QMWGlCmBHb1gWtkSpgAzIAAAEdQZtKSeEPJlMCFf/+OEAingiFle00AR7tgp0WJCvvVTX8oJwbL4WCLoVh43HFdlizShCvA9DMn+6SijmH91Z9uRRkb00VU0mm4UmdTSGICw5WkYEmEHE5JhsKF3sCL3bd0XAXt4NHot115YfJHlvCC+nkFmNSMxDVElaKqgutNSzR8VP69eSENaw9zs2eohgpefUVr8hp9BJp0Apvfg1qCDcSxHO40kryZR9kkd4/1ezXUe/aVNUBx1EoYfgMIWGqAnAQATGhXa/aFxsvUZpKFZMW045I8dU/zftSyKR4jAm8NmkTfVtDoSslXveZQmc1PtvXTxvU6wOCYLPHws0Ivht2FyQeEjzBrSB51PBC25Z4zIG4nbDt9lBiHqCBAAABK0Gba0nhDyZTAhf//oywAt/uZ6nXR91wARWHmu+rlRunKG/Yfp9S216ldzoJ8RXQdr3a2dNCZttFwRmh5yJQJZTMIPgQxe5m4ZvXwPUJ1bil4Btntu7R5ZhKvmcGMGphV8sD7+hFKtTo6LxIOeE31yi+lBLxXn28zGFydqjRD0OL4f7OZxY128NprqZX1GvJeZ2zHxXWVe5bHUbbm5tUX86bP0vT75NZEmtB9YrwPrKVAUGcXBsGUd8TkVk5bZnZbN14pzffvmitVv6tROpPcCSmg7WBRj8MCfEWgJHDSs7OVdydZP5dvZUmmCbS29NY8xo4U8w3Ae9K/IjQWBD3XTb1+FihQmg9xnJ38ZAEVZjp1+z66j527/UTlN4RayHwIszNbZrN2k/zbG1AAAABMUGbjEnhDyZTAhf//oywARCk+iauyABKzJgeSXdhyN1jRib7w4wfyqbFNkf4WlVvlHRyWsJieXPaAPfQXVYJZzhuE6p9Hf3dnA/UxpfjjzxbZlYtEsjLRDvcfM/45Gn5GLuLDttHcv+rQYGViNBEzsekpVnDEVZRHUr/8A0i+IuLXze9RJ1TbM/aG6hYEL+EtVsidMbSguagQi/JBqzl8aI9T2lSGS3D+gMiQpBcb5GYubHbqKnPp4jqgbl2EfV9Fw7IW84ioC0zRRcyI6xnqW/qOk0GxJN0OsKZxOhFySqL9Nodhi9aYpvA+Dt9ErS3CgB1YFErsDkzr7AOvmXV0r0XRaSwb1WC3tfjL4p7j+yw5q30g+GjhVtSEapgKMk6hBPrB7aAy2MCaDwzyZQMMiqYAAAB4UGbsEnhDyZTAhf//oywARH4nOt10BqlPP26AF1Gx6Lvn2F5WAd+kDAVXSoUdjH0z+sZp7V7pbYC72gjOoeLQUTvfyR0uGMmiLKUQjNLpCAX13SlibU5HnnHVqygQNjbkJ7ao1vxWVtoTRZEy2mLgflkLdn94xRcAq0DnHmnaRHTg4Inva9Fflp2BbyKX99ab0Jg3Jpv9f7fGfy5Y41hb/hXCXLR9Tb9hjvK0weOxBNN3Y66WSmVd16HdcnNtFYbHHgZdqzCkgYnw+zYjcnI3/ZCXJpl4rni1VrVL5xAbvUGHJl21jscynwkAdegF77+AMOMeC4/O7DLKEEN5AYmCOqrLZ64Lvo1iORcd02MDmxh3RZ0RLXwbIzIwIGc2fpSc6NlOeWsMDHYdw1efKFgLcZcuTbPorTVEO9szugZDcGOE0nQxFFrx0alj12zuwLvUiARclxOueXUcuK0N8aMnwPy3oCKscVfsfXXI1nqzSageRCJfzdl1ySk18tYMhbHqC6rxHG9gIM9qrBWrcaqX33b5uNYEr3oltf+TyrUP0FBrsJG391JpNjA4rPCJa6UdlMCqTpq/5Vwnwt7zUdb8JBmimYVFvoEWTwz83zNxE2x2agipDby00/hLJrSncylcoEAAAD/QZ/ORRE8I/8AWJYgpmuqZ51BlbhgA4u05FYiiBKWdkWkzW54Fs38b5PIFtY9gKrlVspttaX/2haLpx+aCXIWOSDTJBxm02BPCVoM0g7wKgvY2OvFDOzlcVSWI7QmHywKThUB4o/8VM/QuShi512GEv9tTI4JY6FONosITGA/kuFQfEfp+5jEo+7HhUjN1VFImwlAGne73wf1hYBIi45KL78hTQTanoVKb8SkfCVBYAtygbxlVCnf0SRVKyrTNFp/7YlnWeW6z17a2Lh/2OjQFOIQlmJ44oN5GAy809yt3GDFukpW2uc+oZXtL5JbDrP7FnRQhFddQCd9FqW2fgEfAAAAsQGf7XRH/wCKsd6ju2WQT6QARPFPjjVc/VyCW1H9g/5pnXAlhnocjD2Ex4M0//GYsZwICdlKWbuel9oJ2zkH4zXqGFg7/ZGDWLHpv1FGyQ7btRnMx9AMp6713uA5EuaCdXtLZ7HPtbb2jIUqXfXwUuIsN4RBWL7r6LL/5UsAQvMXpqh9bZTHqXix9OzKGH/lZP91Kn7MqYlaOUy4iCgh1YYWeCmXkgNCTIe0a5Y4lVBWwQAAAM8Bn+9qR/8Afx/9TZhBoEqlwAIqqfjE9+CwHErvhp309F6sfR7w0tEp4jFqtK85lGUfwg+zqjswaWlqk5GtRjqDUtb4f1peUsMfvDfW/OT1A5sO2p27BlQGARcmARb6IxDQsKzOuH4xImuHpxcknAcTG28fmUPMXPMp2XKPRnDE89ylByTG1HkIw1bORKWYFJQ5Haq8oVnts2FioBRqljBKACErgXCj2+xwhAraeNHWo3zWPlz2099vWmy0BmrMJ5h7/MfInMm7ivcJ0S7V9YsAAAGcQZv0SahBaJlMCF///oywAA7/rdufGWgD5aLfEqa3st1ifDQhyQAIg8Kmh9WBcupBPuylHcMIjKh0a0jxx3P1I17VRtOyy18/ZJ6mfvCFmR4M5hcDMuPHBE6A2A3JScGjOsR4ZVwnlHo386cWYIn2MbYktPfcT4s0DuD0QpmQPO4ujI1omaoUfKBeYMsU9AvGzvgJRuzuLtLnImlT1eTNufX1yvjHb9jikPWLXIC/Hqs6hDJsk5DUFQC25aziql9lVd6Ag821oClLOn+LjwuBRjveXP3kopUt4f/9F55dpzwqw4RB9YezqBtBf5FnDxKjYNIDcsAllYIWymiDYQ38/Jyet+ZDzggbT0T1WVJ16vJUnd+OWYcbkrjGszq0pbHG40RvSL+GJAZXUIRcQPM9alOyTFl18hcVF4WF8CBi6wyGLrZk2eHKwkaCx/rmE81yVpmGBI9Tgs1W79RxYnPLXoYsKVGhYlfonEShsB5Cp7ybK9z/LlhtzQvMG+NBbxlpWFMxLpo4IoD8erUFkRNt17d+xcFI5Ro0U274IAAAATFBnhJFESwj/wBSAn9bJI4dFPS+gIj/3nJz/MlACyJOugZjCitZHD+WIsc7krjm80Z710i7NRZRajxHx7NL6wp234TaWDuJCt+/NcL4sbD3d3UR8pzSo1HqnMQpUxJ7leXDn8IENUGwaa5bhuJ1iLK5Q1pPSW0VuUoYCgaZ3cgflIkbjrpuF+oRddmzM6l5a3mfjFguZkssr9t7LLRxsD+3//8V7fGuHrSnrwNz8HxrdPevbCr9S2+/HLbYT7COR0Ix2/p4TZfi59h3pZuaBOIywKWq/rnp5w/xV0UOMs+QLC2i1wLdiRkvaNQiaplwTv0wY+MD4jt5dL4RQzvKS6zKo/pvzPXx3ljo6Lz+wVjnfL+ggFryksDDZDu7yE2o++Xf5cgKhtfCw9+5N2bxdtSgLQAAAM4BnjF0R/8AfuKU97nbUAMl//qAAIUaNI5ZuIDd4yxEYu6RRyZRyBzHHcBz+UPsr1NJS7lWcCyaAb/Zs5Wuuzn9EG8hvvqAL/a2LdPXdL26m/xuXqjKx+DBRGchZsojmd8qsePhThz3IYI/Gkau2tem+PbAvz8azJA5Ypo9ud84YDf/b+Ufa/S2f+pjKcQMzIEkrGUJkQY73qzmHjx2RHKMx5IAaxABDrypvyClkr0y9hEhSrjcKMUDb0hgDo5/wpABcTKHy94V2qxNn7jhYAAAALUBnjNqR/8Afx/9G8OQYGtoTezbMABBqyjEchknH2SY7DmXliZNDDXYJm0QaDRX1tvTyA0nGLlZi69DjxixK/AQou/ckqusyACuGmuQsSaCe9qWic4+2lfeSdIBz1zT+OHjhi5FGYW8q+IFXIRGvGyR9ipz8QC/RKB4NjywmoqHcp6JCDCREseHog6wP+QfLpyrtYCPXphzNNveRYXNB52RVn3NjG9NrNaHGK1TRFYulj2CiCpgAAABMUGaNkmoQWyZTBRML//+jLAAANRemvvE4l92xePAYVdo8MuoUACyGXYAP2T26xAC+0uDDmnw1xUQeahw1MpftEh0ZOMSdEsvZL4LPXdHCzWpMu1K55wDTJt0/yVWJr11KvnE1GM1P9vI5NxrzATX7kRI1BobyJcRHFmF/iN3j4m8j80BuzTmXpfADR29LGIvQQ3F6Zdjqo7RXJ3b9hgQQ2xbvvGx0KvvDqYjlUIPc6s9U1OIK7prLwDXk/okjBEfFvpdOE1HyYvSNxaT7IwtTnguGq2HzKLPIdGRSlaAloU/mi3sxhLd9QrOoVUSAJE/flyXd85cG+Y5imxApcUv6ABJZrQkyGmReakZnhHycavlw/3jx4BdyQC+iuwloa/U2ZrhPbX79P7RaHtY3NjjgUPXAAAAtAGeVWpH/wB/O9qOjP9Lc2Bmfge8qAEVQbb26cp0/KpPMQ3YuTg5HOyxEziWoyQ63UzT8HrF6ZpMwuz9N6/LN+Ww7VPoKjbQYQtvTvh3gp5infkgcSrmeGZCTOKS71IP2Ioc1BSWTCjqNeDsfB1qKBZlCpZO6aBS0F+epUVKwFXZDGWEWxDFfzfeVfYFs4nMegCONWJUgzEbf80w4QmrIy8FpuQIjXwXTehAJXEFdp+x5XCFgAAAAYpBmllJ4QpSZTAhf/6MsAAAUL3NC8Hp0BRZtqFpavjeMUK72jIfrASi8a67x/rOkPaECe5o3zkVjWeZYckbwFbUiIVlmqnN22C96OJ4JJq1MrzVImDYzU2okdBTb0aG1tIcKNVeTDcTQ/nPvBPTsJRGdjyqp5Z1o1BwpC29CtWf1aVaxkbfu6Tzk5QSvGIPuHVieq8hQnynH3hM1N3DzrfRQrgibZUkwgNkeG4yVXTmt0E+dBCG2Tjyes6tPWcKLcaod5aP4qrYrg9CgMHvvPnm9OzNJzYhnoVG+9ZoYf2ZXrms/5LLZ/RIJT6VFW8c46A6rtrr8+AJSGQLCNmxjCzJ3P/9cs9GhpQAXdNwyboG9lkAzJFhiVk4isjynGz3X+WB7faQdO1viN207AcaqH2Ek6id+99v+CqF894iI6JAULk/JKXpHxgKwQvrya3uIx34RalE2PQhrjCk/HjAvQB7yAVhHfvTYS5rqaBbr53qZ/Ax1d3oGRJPCcQTUlG/p7vqTc8f18whHu1dAAAA4kGed0U0TCP/AFH6m5N2Ddr4GuaimPAAsEDd8itrf+FKUQLXvz3nhx/Mmlslhd3LFDDLcPLB28XVebVRYsMxQ221sz4dYO9DreR/6ux39qg/V1ENjSzEN3nrjUIQd6O3BSzSmOdfCQwgyMoO+XX2rdSataTmm/deRszjSpGuj8oLfCMzPQpw+4z6QIwFr3dTetBSMtPHw8hiQnXqFXQPuCkp1Z61rGMdosOOSYyBkQlw0joqPKKlV8rJml8uDYBxMb4KKuH39zoN5d1wE/j9O1B3NXYvvZb2m9Uv2pIE2kZOj0kAAAC7AZ6Yakf/AH8f/RvDao21vUrraaZ0h7maLjvACPdAWkxmh5fK7Vxsj35oNYvOYrH5bk8Cog+mcYXxblwjl8t8/waAYMwY8wd/fcpwuxI++FjR0wYvxxOZDS3pCvv/4of4c2+VaDkkzldE75BhQuntL5lcfpii3/ZQ/aaiizX2yhoTDZYS/ZizXUWSNnwkQ1dZ9LyA/puLHE+ztdMV7Rw2Kz183Q+D8cnndPFLZhNxTgoNjFcpR2soP8g44AAAAbFBmp1JqEFomUwIV//+OEAAE/9hn9+qOtbZqRJqDuGjC5n5dNgAo5dHYn5Jzq1Pj7mGHQ/q8+mYq5wvU1f5Xf3JV9fnxK3mQ+Ee3VuvymUlh1OgxNEcHOIh70XBP/awQ6ZghF9uhdd5p7s1iivkBxjDnxQqWUktyNPrJrGAm2Eb9Fb230HwrnnQyZiSj7gJe4yhwYUfPElwyL3CyBat/8/cileb3ksfoPz59ekqoXH4UlEFvruy2WUZjwY+W7MoWbs27uhtlqGATPPb97K4U91yd6G3+0phi0Omq4Z/eCRb1xjNkuChbHb/+X9IdE1yg6cGt8gpz5g29oWLNqtfB6g9jPvsmgQqYT4mkklbp7bmEFQ/lPIgXNMc9Zf0oI2WVUn1bzVnNabHk3ll1AFxvwZ/FgjNB4jDvsmhimjkBl4SlwrSuqNYWENe7hxcUdHGwtcJaZhys96PUTLEEyz2DKfzogmTGtrTRAFLnJBYzoSsU0WX9Y7hGqpqrDqaGZ52PyBk1iEH+ymLIkdSdHWJsz2bfQD+4jFcurb3xkU4hhAsxhtliXhIB06maHQq3Tdi9BKnAAABUEGeu0URLCP/AFICf18yejUwxBQD4OHjjL3Vl9AQGgABGpZ3PPAIRu7Rp4elwLbPY2netdO0P+rpt9YpBY40rV3oMScU3o1xzL0HjgzzpiF2b8WKV6waTj/UV/Qm++t6gEC1FFf5xjd5JDP5h8j03muedSbNSyQvM4p5vxdRKChm+PJbQWHee+M7T7Q8dRTC7MIdxNZssEYBOqJFtxc1JdjQhvRXzX9DAoGRe+F5VYDd/7YJ8QazKROncwlWJUKUwZmtFU2vx1hBqd4lf7CloAh/5H3+ywp7oHXdML0CSiVe6bAdL96U3kdpXcWBvEL4F5kc+FY5ONy6d5yaVT/ALCI7txstMSeqymWTB0tNTEkptNy2vTh3kTX6UdAq1fBev5JeQ20prmMazmypF7hXfeD8ZOS2pinN0lZXc2KHsWRuKBJRBBXWbQGouPIo/+AJeAAAANsBntp0R/8AfuKU97gjTLsquIfg7jzLMM/h6QA2+0hqMvI5W0LhfttBxMUmmEhb8XP3MQMJsm9KUNtMr34Bl/vscMLKfSABPTApo/HRJnE2z7z36ZNg6vIyr49+N+VYJ7omI1ea8q5ZNZWtcIRTwta8P7zR2A1kFYPQOulvR0nWFHs2oDidUW1s+ZqRzvdtHCAoAsqsgg0DFhZo2UY7WSwje6UmCzoof6bGv7FKjWwGdZG7M7RzbpNzWzhdrN340v+lEHEoq5CCTNrUWOg/o8yhJ0WznvXc8GSgGzEAAADpAZ7cakf/AH8f/RvDao2yI3/OvGyfR6gAK/+CR1mfAnRz5F6HrD/qSd9WhNz++lC5aDXX3ylnEs2mxCS9KAzoO9A/8ZmNoCkch3ScAuM802qnVnhdKm+9VM5+545/F7vF+uFXrOG1bSxn64fmcfX0IGcN/dq2lzPmQFm+xOi997nNEZikHTqU4KwwCz/EeYXFeu6hE4CgI/M1YgnnjD1C99m3J4q+rzh5zP0kiQskan9xKtBRZ0cCjglnzyo44JffBCF0Df0gQqPmGYgsgui5cR+kxIQi0zL8rIGbEttlUcpMC6Z8LjqIBo0AAADqQZrASahBbJlMCP/8hAAAAwDo+3acmc9SxJAEiD0qAEG68dEKB4yqJld+Pv7Ax3j9qzlqgZfzCdb+ArdMoDO+OLDI/8tb++6/3OdEpudwQb0Zvol5kjK1B56JycuBzwzesd7T6t8UpaX2U+OT/o0a9QF/vbmiUlMwiqxzmiqoolGaUCd0VVEv0OrsdMbcOa8g2TzNzdcUTPhBtQTey6eJs5+iXW/yo6X0KeK7YBMNGJEP6QWMvbpPrDSRGqv6WXKybVw8Rvac/gqHC6hdPqmDFRmO69m7EVo4jmJgOyF4XmeuUhbmer9gsSiwAAABM0Ge/kUVLCP/AFICf18yd2vl7xw/SMAGZTABOwVWHp04GiehsXBH2D8UgqNVsf0eu2GD/qhNpyXSOjXpOZt5rQT577+j8R1czNqZUYMU8Qh/x/OhXl97Q1UK3a5MojZZfZe59mTkQxqy2Up9SriptV2JheIzGKFZsuahB/fzckFpRSVwUAHGdCs+kCgT85D+iJxF083nez3nTqX5c1/GBLQQGNZc2ERjpipduu7LsYNJCOvIdP9SMEc9b3hQfGg0lcIycSfwv4LsDKT9ketHeVcSLROsXdn+H0+5ZwAPXfdPxdnwnnCjgE/jqFV9k+sej98ts7NnzTQgSddAg232R70wEZ4kgozCHWQJXGOXaJsoP+iw5WnUQUO7o/+GUdpfT7CZOIEyqGrAiewA1jVPKK3uQl4AAADzAZ8fakf/AH8f/RvDao2woy3w7ShAAQL9PpS5x/HylWXoX1W/ZnFVy2ocnzJk5x/9tvJ4I/GX4qaIApzYYcpP0flfvIuryIBdnz6e5R7s15APwYKXQhXrOWdMaYu986C7FAPr1ikfs8hra4vqOhQAVlPUiDfhk4AwvbJYRYnmiCUo4REXiYD2ZZVfR3Sx8DOXDDLZol2ydsK6m0BSVBwDHNamzO6iN0B+28JcWlT6n5str0I1CpGAhu2U74Jz+t4wQiEtm2AHF45t56+DoxjbIw7tW2kJxkiUySn57818p4iypXHKFUqwwIkNTuGjHHQ/8I+BAAAFz21vb3YAAABsbXZoZAAAAAAAAAAAAAAAAAAAA+gAAAUUAAEAAAEAAAAAAAAAAAAAAAABAAAAAAAAAAAAAAAAAAAAAQAAAAAAAAAAAAAAAAAAQAAAAAAAAAAAAAAAAAAAAAAAAAAAAAAAAAAAAAAAAAIAAAT5dHJhawAAAFx0a2hkAAAAAwAAAAAAAAAAAAAAAQAAAAAAAAUUAAAAAAAAAAAAAAAAAAAAAAABAAAAAAAAAAAAAAAAAAAAAQAAAAAAAAAAAAAAAAAAQAAAAAJYAAABkAAAAAAAJGVkdHMAAAAcZWxzdAAAAAAAAAABAAAFFAAAAgAAAQAAAAAEcW1kaWEAAAAgbWRoZAAAAAAAAAAAAAAAAAAAMgAAAEEAVcQAAAAAAC1oZGxyAAAAAAAAAAB2aWRlAAAAAAAAAAAAAAAAVmlkZW9IYW5kbGVyAAAABBxtaW5mAAAAFHZtaGQAAAABAAAAAAAAAAAAAAAkZGluZgAAABxkcmVmAAAAAAAAAAEAAAAMdXJsIAAAAAEAAAPcc3RibAAAAJhzdHNkAAAAAAAAAAEAAACIYXZjMQAAAAAAAAABAAAAAAAAAAAAAAAAAAAAAAJYAZAASAAAAEgAAAAAAAAAAQAAAAAAAAAAAAAAAAAAAAAAAAAAAAAAAAAAAAAAAAAAABj//wAAADJhdmNDAWQAH//hABlnZAAfrNlAmDPl4QAAAwABAAADAGQPGDGWAQAGaOvjyyLAAAAAGHN0dHMAAAAAAAAAAQAAAEEAAAEAAAAAFHN0c3MAAAAAAAAAAQAAAAEAAAHIY3R0cwAAAAAAAAA3AAAAAQAAAgAAAAABAAAFAAAAAAEAAAIAAAAAAQAAAAAAAAABAAABAAAAAAEAAAUAAAAAAQAAAgAAAAABAAAAAAAAAAEAAAEAAAAAAQAABAAAAAACAAABAAAAAAEAAAUAAAAAAQAAAgAAAAABAAAAAAAAAAEAAAEAAAAAAQAABQAAAAABAAACAAAAAAEAAAAAAAAAAQAAAQAAAAABAAADAAAAAAEAAAEAAAAAAQAABAAAAAACAAABAAAAAAEAAAIAAAAAAQAABAAAAAACAAABAAAAAAEAAAMAAAAAAQAAAQAAAAABAAADAAAAAAEAAAEAAAAAAgAAAgAAAAABAAAEAAAAAAIAAAEAAAAAAgAAAgAAAAABAAADAAAAAAEAAAEAAAAAAwAAAgAAAAABAAAFAAAAAAEAAAIAAAAAAQAAAAAAAAABAAABAAAAAAEAAAUAAAAAAQAAAgAAAAABAAAAAAAAAAEAAAEAAAAAAQAAAwAAAAABAAABAAAAAAEAAAQAAAAAAgAAAQAAAAABAAAFAAAAAAEAAAIAAAAAAQAAAAAAAAABAAABAAAAAAEAAAQAAAAAAgAAAQAAAAAcc3RzYwAAAAAAAAABAAAAAQAAAEEAAAABAAABGHN0c3oAAAAAAAAAAAAAAEEAAAmeAAABFgAAADcAAAAuAAAANQAAAOUAAABnAAAAKAAAAEMAAADOAAAARQAAADcAAAEgAAAAdgAAAE4AAABSAAABRQAAAIkAAABUAAAAUQAAATMAAABoAAABUgAAAJcAAAB/AAABDQAAAVQAAACtAAAAjQAAAVMAAACsAAABUgAAALkAAADcAAAAzgAAAXMAAADEAAAAtgAAARIAAAEdAAABQQAAALIAAAEhAAABLwAAATUAAAHlAAABAwAAALUAAADTAAABoAAAATUAAADSAAAAuQAAATUAAAC4AAABjgAAAOYAAAC/AAABtQAAAVQAAADfAAAA7QAAAO4AAAE3AAAA9wAAABRzdGNvAAAAAAAAAAEAAAAwAAAAYnVkdGEAAABabWV0YQAAAAAAAAAhaGRscgAAAAAAAAAAbWRpcmFwcGwAAAAAAAAAAAAAAAAtaWxzdAAAACWpdG9vAAAAHWRhdGEAAAABAAAAAExhdmY1Ny44My4xMDA=\" type=\"video/mp4\" />\n",
              "             </video>"
            ]
          },
          "metadata": {}
        }
      ],
      "source": [
        "test_env = wrap_env(gym.make(\"LunarLander-v2\"))\n",
        "observation = test_env.reset()\n",
        "total_reward = 0\n",
        "while True:\n",
        "  test_env.render()\n",
        "  action, states = model.predict(observation, deterministic=True)\n",
        "  observation, reward, done, info = test_env.step(action)\n",
        "  total_reward += reward\n",
        "  if done:\n",
        "    break;\n",
        "\n",
        "# print(total_reward)\n",
        "test_env.close()\n",
        "show_video()"
      ]
    },
    {
      "cell_type": "code",
      "source": [
        ""
      ],
      "metadata": {
        "id": "-Vhs6twAgcQt"
      },
      "execution_count": 150,
      "outputs": []
    },
    {
      "cell_type": "markdown",
      "metadata": {
        "execution": {},
        "id": "LAyOXncPxX_f"
      },
      "source": [
        "From the video above, we see that the lander has crashed! \n",
        "It is now the time for training! \n"
      ]
    },
    {
      "cell_type": "code",
      "source": [
        ""
      ],
      "metadata": {
        "id": "fsSwxM797uPO"
      },
      "execution_count": 150,
      "outputs": []
    },
    {
      "cell_type": "code",
      "execution_count": 151,
      "metadata": {
        "execution": {},
        "id": "CeQmEI1dxX_g",
        "outputId": "a7ecaf5b-ecd5-49a5-932a-7d07db79a106",
        "colab": {
          "base_uri": "https://localhost:8080/"
        }
      },
      "outputs": [
        {
          "output_type": "stream",
          "name": "stdout",
          "text": [
            "Eval num_timesteps=10000, episode_reward=-112.41 +/- 26.14\n",
            "Episode length: 78.40 +/- 9.65\n",
            "New best mean reward!\n",
            "Eval num_timesteps=20000, episode_reward=-151.83 +/- 35.93\n",
            "Episode length: 1000.00 +/- 0.00\n",
            "Eval num_timesteps=30000, episode_reward=175.11 +/- 125.95\n",
            "Episode length: 484.00 +/- 63.43\n",
            "New best mean reward!\n",
            "Eval num_timesteps=40000, episode_reward=-97.35 +/- 24.98\n",
            "Episode length: 1000.00 +/- 0.00\n"
          ]
        }
      ],
      "source": [
        "model.learn(total_timesteps=40000, log_interval=10, callback=callback)\n",
        "# The performance of the training will be printed every 10 episodes. Change it to 1, if you wish to\n",
        "# view the performance at every training episode.\n",
        "\n",
        "save_rewards(1, 'trained_from_scratch')"
      ]
    },
    {
      "cell_type": "code",
      "source": [
        "all_model_rewards.keys()"
      ],
      "metadata": {
        "colab": {
          "base_uri": "https://localhost:8080/"
        },
        "id": "qnJ05h1fAbGb",
        "outputId": "8ae030b6-0503-43b5-f978-2fd07ef0ce35"
      },
      "execution_count": 152,
      "outputs": [
        {
          "output_type": "execute_result",
          "data": {
            "text/plain": [
              "dict_keys(['DQN1'])"
            ]
          },
          "metadata": {},
          "execution_count": 152
        }
      ]
    },
    {
      "cell_type": "code",
      "source": [
        "all_model_rewards['DQN1']['x']"
      ],
      "metadata": {
        "id": "pYTjV_wPIRfW",
        "outputId": "49e2bf31-fc03-4ce0-afbd-5a7d0e78d9fe",
        "colab": {
          "base_uri": "https://localhost:8080/"
        }
      },
      "execution_count": 199,
      "outputs": [
        {
          "output_type": "execute_result",
          "data": {
            "text/plain": [
              "array([   67,   154,   225,   331,   417,   493,   575,   643,   758,\n",
              "         866,   988,  1108,  1191,  1287,  1373,  1440,  1544,  1609,\n",
              "        1704,  1817,  1906,  1975,  2060,  2154,  2225,  2333,  2448,\n",
              "        2530,  2642,  2729,  2833,  2922,  2982,  3098,  3185,  3299,\n",
              "        3399,  3460,  3524,  3608,  3691,  3834,  3911,  4005,  4142,\n",
              "        4230,  4349,  4425,  4527,  4615,  4696,  4770,  4872,  5007,\n",
              "        5096,  5208,  5291,  5347,  5449,  5571,  5629,  5709,  5827,\n",
              "        5927,  6004,  6139,  6212,  6289,  6431,  6506,  6620,  6711,\n",
              "        6776,  6893,  6983,  7071,  7259,  7400,  7492,  7573,  7712,\n",
              "        7875,  8000,  8082,  8200,  8360,  8472,  8604,  8690,  8759,\n",
              "        8868,  9000,  9099,  9169,  9258,  9334,  9469,  9644,  9743,\n",
              "        9869,  9970, 10060, 10128, 10196, 10273, 10362, 10470, 10567,\n",
              "       10691, 10798, 10931, 11018, 11244, 11401, 11621, 11713, 11884,\n",
              "       11970, 12075, 12173, 12467, 12830, 13023, 13196, 13380, 13576,\n",
              "       13655, 13852, 14036, 14154, 14364, 14875, 15875, 16170, 17170,\n",
              "       17342, 17574, 18001, 19001, 20001, 20270, 21270, 22270, 23270,\n",
              "       24270, 25270, 26270, 27266, 27928, 28928, 29638, 30638, 31038,\n",
              "       32038, 33038, 34038, 35038, 35594, 36130, 36634, 37073, 37458,\n",
              "       37543, 38054, 39054, 40054, 40448, 40902, 41902, 42902, 43902,\n",
              "       43991, 44724, 45724, 46724, 47724, 48724, 49724, 50724, 51724])"
            ]
          },
          "metadata": {},
          "execution_count": 199
        }
      ]
    },
    {
      "cell_type": "code",
      "source": [
        "trained_model_weights = get_model_weights(model, 'trained_model')"
      ],
      "metadata": {
        "id": "Df1X32nCEBEs"
      },
      "execution_count": 154,
      "outputs": []
    },
    {
      "cell_type": "code",
      "source": [
        "## Here we can compare the change in the model weights"
      ],
      "metadata": {
        "id": "pAKMNTHLb8JG"
      },
      "execution_count": 155,
      "outputs": []
    },
    {
      "cell_type": "code",
      "source": [
        "untrained_model_weights, trained_model_weights"
      ],
      "metadata": {
        "id": "EVbpk3ZUbye5",
        "colab": {
          "base_uri": "https://localhost:8080/"
        },
        "outputId": "497fcd16-d05f-4a29-cce8-a03ed3b29797"
      },
      "execution_count": 156,
      "outputs": [
        {
          "output_type": "execute_result",
          "data": {
            "text/plain": [
              "(('untrained model',\n",
              "  {'q_net.q_net.0.bias': tensor(-3.8614, device='cuda:0'),\n",
              "   'q_net.q_net.0.weight': tensor(2.5560, device='cuda:0'),\n",
              "   'q_net.q_net.2.bias': tensor(0.2273, device='cuda:0'),\n",
              "   'q_net.q_net.2.weight': tensor(-7.8497, device='cuda:0'),\n",
              "   'q_net.q_net.4.bias': tensor(-0.1196, device='cuda:0'),\n",
              "   'q_net.q_net.4.weight': tensor(0.2720, device='cuda:0'),\n",
              "   'q_net_target.q_net.0.bias': tensor(-3.8614, device='cuda:0'),\n",
              "   'q_net_target.q_net.0.weight': tensor(2.5560, device='cuda:0'),\n",
              "   'q_net_target.q_net.2.bias': tensor(0.2273, device='cuda:0'),\n",
              "   'q_net_target.q_net.2.weight': tensor(-7.8497, device='cuda:0'),\n",
              "   'q_net_target.q_net.4.bias': tensor(-0.1196, device='cuda:0'),\n",
              "   'q_net_target.q_net.4.weight': tensor(0.2720, device='cuda:0')}),\n",
              " ('trained_model',\n",
              "  {'q_net.q_net.0.bias': tensor(3.1706, device='cuda:0'),\n",
              "   'q_net.q_net.0.weight': tensor(12.0458, device='cuda:0'),\n",
              "   'q_net.q_net.2.bias': tensor(1.2256, device='cuda:0'),\n",
              "   'q_net.q_net.2.weight': tensor(-15.6969, device='cuda:0'),\n",
              "   'q_net.q_net.4.bias': tensor(-0.0283, device='cuda:0'),\n",
              "   'q_net.q_net.4.weight': tensor(10.6075, device='cuda:0'),\n",
              "   'q_net_target.q_net.0.bias': tensor(3.1703, device='cuda:0'),\n",
              "   'q_net_target.q_net.0.weight': tensor(12.0429, device='cuda:0'),\n",
              "   'q_net_target.q_net.2.bias': tensor(1.2256, device='cuda:0'),\n",
              "   'q_net_target.q_net.2.weight': tensor(-15.7032, device='cuda:0'),\n",
              "   'q_net_target.q_net.4.bias': tensor(-0.0280, device='cuda:0'),\n",
              "   'q_net_target.q_net.4.weight': tensor(10.6130, device='cuda:0')}))"
            ]
          },
          "metadata": {},
          "execution_count": 156
        }
      ]
    },
    {
      "cell_type": "markdown",
      "source": [
        "# Savig and loading the model\n",
        "How to save to google drive: https://colab.research.google.com/drive/1CN7JxLA_Qk1Clc4CM75rSAqIlUKIF8xZ#scrollTo=T_tDc-oMEY22\n",
        "\n",
        "You can chack the saved models' directory here: https://drive.google.com/drive/folders/1ctYdReK3WwH-qxuusyKZAeM7iYfU9C04"
      ],
      "metadata": {
        "id": "gmtIx2TL6orI"
      }
    },
    {
      "cell_type": "markdown",
      "source": [
        "### Save to model to google drive "
      ],
      "metadata": {
        "id": "qSXccZCM7pvb"
      }
    },
    {
      "cell_type": "code",
      "source": [
        "model_version = \"DQN_model_1\"\n",
        "model.save(drive_path + model_version)"
      ],
      "metadata": {
        "id": "jGuyCjnC6njL"
      },
      "execution_count": 157,
      "outputs": []
    },
    {
      "cell_type": "markdown",
      "source": [
        "NB!!! load function re-creates model from scratch on each call, which can be slow. If you need to e.g. evaluate same model with multiple different sets of parameters, consider using load_parameters instead."
      ],
      "metadata": {
        "id": "FoFxAvdLFWyy"
      }
    },
    {
      "cell_type": "code",
      "source": [
        "env = gym.make('LunarLander-v2') ## I'm not quite sure why these coods needed but without it raise an error. \n",
        "env.reset()\n",
        "model2 = DQN.load(drive_path + model_version, env = env)\n",
        "#model2_pretraining = model2"
      ],
      "metadata": {
        "id": "W2rKLqos_bOe"
      },
      "execution_count": 158,
      "outputs": []
    },
    {
      "cell_type": "code",
      "source": [
        "'''\n",
        "env = gym.make('LunarLander-v2') ## I'm not quite sure why these coods needed but without it raise an error. \n",
        "env.reset()\n",
        "sherry_drive = 'https://drive.google.com/drive/folders/1-4u7S8Y4iU9B1WcTuf5fTIPfxC0170iP/'\n",
        "sherry_model = 'dqn_1.pth'\n",
        "model3 = DQN.load(sherry_drive + sherry_model, env = env)\n",
        "'''"
      ],
      "metadata": {
        "colab": {
          "base_uri": "https://localhost:8080/",
          "height": 54
        },
        "id": "EJx63TTgnBgE",
        "outputId": "77ccf314-cf00-4c9f-ebf9-44bd1e715780"
      },
      "execution_count": 159,
      "outputs": [
        {
          "output_type": "execute_result",
          "data": {
            "text/plain": [
              "\"\\nenv = gym.make('LunarLander-v2') ## I'm not quite sure why these coods needed but without it raise an error. \\nenv.reset()\\nsherry_drive = 'https://drive.google.com/drive/folders/1-4u7S8Y4iU9B1WcTuf5fTIPfxC0170iP/'\\nsherry_model = 'dqn_1.pth'\\nmodel3 = DQN.load(sherry_drive + sherry_model, env = env)\\n\""
            ],
            "application/vnd.google.colaboratory.intrinsic+json": {
              "type": "string"
            }
          },
          "metadata": {},
          "execution_count": 159
        }
      ]
    },
    {
      "cell_type": "markdown",
      "source": [
        "### Compare the saved and untrained models' weights"
      ],
      "metadata": {
        "id": "mpzrpT268jvp"
      }
    },
    {
      "cell_type": "code",
      "source": [
        "reloaded_model_weights = get_model_weights(model2, 'reloaded model')"
      ],
      "metadata": {
        "id": "s54-cKP-b08g"
      },
      "execution_count": 160,
      "outputs": []
    },
    {
      "cell_type": "code",
      "source": [
        "#untrained_model_weights, trained_model_weights, reloaded_model_weights"
      ],
      "metadata": {
        "id": "PLUvjCyVde0Z"
      },
      "execution_count": 161,
      "outputs": []
    },
    {
      "cell_type": "code",
      "source": [
        "## As expected weights for the first model (untrained) much smaller than weights for the trained model."
      ],
      "metadata": {
        "id": "SG3WCxLLQLCb"
      },
      "execution_count": 162,
      "outputs": []
    },
    {
      "cell_type": "code",
      "source": [
        ""
      ],
      "metadata": {
        "id": "ZF-97O_jBIz2"
      },
      "execution_count": 162,
      "outputs": []
    },
    {
      "cell_type": "markdown",
      "source": [
        "There are some cuda issues here ... "
      ],
      "metadata": {
        "id": "LiylBGTKBJcw"
      }
    },
    {
      "cell_type": "code",
      "source": [
        "#for k in model2.policy.state_dict().keys():\n",
        "\n",
        "#  model2.policy.state_dict()[k].cuda()\n",
        "#print ( model2.policy.state_dict()[k])"
      ],
      "metadata": {
        "id": "eTcNmEqY3u64"
      },
      "execution_count": 163,
      "outputs": []
    },
    {
      "cell_type": "code",
      "source": [
        ""
      ],
      "metadata": {
        "id": "gJwiGtrg4-8a"
      },
      "execution_count": 163,
      "outputs": []
    },
    {
      "cell_type": "code",
      "source": [
        "# The model should be loaded to the GPU... \n",
        "model.learn(total_timesteps=40000, log_interval=10, callback=callback)\n",
        "save_rewards(2, 'trained_twice')"
      ],
      "metadata": {
        "id": "2c7CoyjSYvyu",
        "outputId": "ad61080b-7cca-40f0-dfe1-56c11ae851c5",
        "colab": {
          "base_uri": "https://localhost:8080/"
        }
      },
      "execution_count": 164,
      "outputs": [
        {
          "output_type": "stream",
          "name": "stdout",
          "text": [
            "Eval num_timesteps=10000, episode_reward=-539.28 +/- 73.81\n",
            "Episode length: 65.60 +/- 9.73\n",
            "Eval num_timesteps=20000, episode_reward=-614.77 +/- 111.57\n",
            "Episode length: 70.60 +/- 8.21\n",
            "Eval num_timesteps=30000, episode_reward=-522.28 +/- 143.18\n",
            "Episode length: 61.80 +/- 8.59\n",
            "Eval num_timesteps=40000, episode_reward=-514.25 +/- 92.01\n",
            "Episode length: 67.60 +/- 10.37\n"
          ]
        }
      ]
    },
    {
      "cell_type": "code",
      "source": [
        "print(all_model_rewards.keys(),'\\n', all_model_rewards['DQN1']['x'].shape, all_model_rewards['DQN2']['x'].shape)"
      ],
      "metadata": {
        "colab": {
          "base_uri": "https://localhost:8080/"
        },
        "id": "m0nWFN_IBUFS",
        "outputId": "1c45b920-3ed9-44f9-aa01-36e83b1ff81f"
      },
      "execution_count": 165,
      "outputs": [
        {
          "output_type": "stream",
          "name": "stdout",
          "text": [
            "dict_keys(['DQN1', 'DQN2']) \n",
            " (180,) (754,)\n"
          ]
        }
      ]
    },
    {
      "cell_type": "markdown",
      "source": [
        "## Saving the twice trained model"
      ],
      "metadata": {
        "id": "IZDFyd_nsEev"
      }
    },
    {
      "cell_type": "code",
      "source": [
        "model_version = \"twice_trained_model\"\n",
        "model2.save(drive_path + model_version)"
      ],
      "metadata": {
        "id": "l0hxC1rGsCgr"
      },
      "execution_count": 166,
      "outputs": []
    },
    {
      "cell_type": "code",
      "source": [
        "twice_trained_model_weights = get_model_weights(model2, 'twice trained model')"
      ],
      "metadata": {
        "id": "WubbYGspaZh9"
      },
      "execution_count": 167,
      "outputs": []
    },
    {
      "cell_type": "code",
      "source": [
        "untrained_model_weights, trained_model_weights, twice_trained_model_weights"
      ],
      "metadata": {
        "id": "CxZ9IlUrltaz",
        "colab": {
          "base_uri": "https://localhost:8080/"
        },
        "outputId": "464c5f1c-1f64-4f7c-b6d0-a3296cf61025"
      },
      "execution_count": 168,
      "outputs": [
        {
          "output_type": "execute_result",
          "data": {
            "text/plain": [
              "(('untrained model',\n",
              "  {'q_net.q_net.0.bias': tensor(-3.8614, device='cuda:0'),\n",
              "   'q_net.q_net.0.weight': tensor(2.5560, device='cuda:0'),\n",
              "   'q_net.q_net.2.bias': tensor(0.2273, device='cuda:0'),\n",
              "   'q_net.q_net.2.weight': tensor(-7.8497, device='cuda:0'),\n",
              "   'q_net.q_net.4.bias': tensor(-0.1196, device='cuda:0'),\n",
              "   'q_net.q_net.4.weight': tensor(0.2720, device='cuda:0'),\n",
              "   'q_net_target.q_net.0.bias': tensor(-3.8614, device='cuda:0'),\n",
              "   'q_net_target.q_net.0.weight': tensor(2.5560, device='cuda:0'),\n",
              "   'q_net_target.q_net.2.bias': tensor(0.2273, device='cuda:0'),\n",
              "   'q_net_target.q_net.2.weight': tensor(-7.8497, device='cuda:0'),\n",
              "   'q_net_target.q_net.4.bias': tensor(-0.1196, device='cuda:0'),\n",
              "   'q_net_target.q_net.4.weight': tensor(0.2720, device='cuda:0')}),\n",
              " ('trained_model',\n",
              "  {'q_net.q_net.0.bias': tensor(3.1706, device='cuda:0'),\n",
              "   'q_net.q_net.0.weight': tensor(12.0458, device='cuda:0'),\n",
              "   'q_net.q_net.2.bias': tensor(1.2256, device='cuda:0'),\n",
              "   'q_net.q_net.2.weight': tensor(-15.6969, device='cuda:0'),\n",
              "   'q_net.q_net.4.bias': tensor(-0.0283, device='cuda:0'),\n",
              "   'q_net.q_net.4.weight': tensor(10.6075, device='cuda:0'),\n",
              "   'q_net_target.q_net.0.bias': tensor(3.1703, device='cuda:0'),\n",
              "   'q_net_target.q_net.0.weight': tensor(12.0429, device='cuda:0'),\n",
              "   'q_net_target.q_net.2.bias': tensor(1.2256, device='cuda:0'),\n",
              "   'q_net_target.q_net.2.weight': tensor(-15.7032, device='cuda:0'),\n",
              "   'q_net_target.q_net.4.bias': tensor(-0.0280, device='cuda:0'),\n",
              "   'q_net_target.q_net.4.weight': tensor(10.6130, device='cuda:0')}),\n",
              " ('twice trained model',\n",
              "  {'q_net.q_net.0.bias': tensor(3.1706, device='cuda:0'),\n",
              "   'q_net.q_net.0.weight': tensor(12.0458, device='cuda:0'),\n",
              "   'q_net.q_net.2.bias': tensor(1.2256, device='cuda:0'),\n",
              "   'q_net.q_net.2.weight': tensor(-15.6969, device='cuda:0'),\n",
              "   'q_net.q_net.4.bias': tensor(-0.0283, device='cuda:0'),\n",
              "   'q_net.q_net.4.weight': tensor(10.6075, device='cuda:0'),\n",
              "   'q_net_target.q_net.0.bias': tensor(3.1703, device='cuda:0'),\n",
              "   'q_net_target.q_net.0.weight': tensor(12.0429, device='cuda:0'),\n",
              "   'q_net_target.q_net.2.bias': tensor(1.2256, device='cuda:0'),\n",
              "   'q_net_target.q_net.2.weight': tensor(-15.7032, device='cuda:0'),\n",
              "   'q_net_target.q_net.4.bias': tensor(-0.0280, device='cuda:0'),\n",
              "   'q_net_target.q_net.4.weight': tensor(10.6130, device='cuda:0')}))"
            ]
          },
          "metadata": {},
          "execution_count": 168
        }
      ]
    },
    {
      "cell_type": "markdown",
      "source": [
        "# Check out the model parameters for saving "
      ],
      "metadata": {
        "id": "vFxbjPFQnnt3"
      }
    },
    {
      "cell_type": "markdown",
      "source": [
        "### We have qite a strange model architecture... Aren't we?? \n",
        "\n",
        "We have two set of network parameters... a q_net, and a q_net_target. \n",
        "We also have numbered layers but it goes as 0,2, 4... Where is 1 and 2??? "
      ],
      "metadata": {
        "id": "i_4FHC-iqwVo"
      }
    },
    {
      "cell_type": "code",
      "source": [
        "model.policy.state_dict().keys()\n",
        "[item for item in model.policy.state_dict().keys()]"
      ],
      "metadata": {
        "id": "y4IxQozrqa9b",
        "colab": {
          "base_uri": "https://localhost:8080/"
        },
        "outputId": "9cce3b0d-dbee-417d-ce0d-3e2aa362d725"
      },
      "execution_count": 169,
      "outputs": [
        {
          "output_type": "execute_result",
          "data": {
            "text/plain": [
              "['q_net.q_net.0.weight',\n",
              " 'q_net.q_net.0.bias',\n",
              " 'q_net.q_net.2.weight',\n",
              " 'q_net.q_net.2.bias',\n",
              " 'q_net.q_net.4.weight',\n",
              " 'q_net.q_net.4.bias',\n",
              " 'q_net_target.q_net.0.weight',\n",
              " 'q_net_target.q_net.0.bias',\n",
              " 'q_net_target.q_net.2.weight',\n",
              " 'q_net_target.q_net.2.bias',\n",
              " 'q_net_target.q_net.4.weight',\n",
              " 'q_net_target.q_net.4.bias']"
            ]
          },
          "metadata": {},
          "execution_count": 169
        }
      ]
    },
    {
      "cell_type": "markdown",
      "source": [
        "## q_net and q_net_target have the same shapes"
      ],
      "metadata": {
        "id": "lKLAV9qduRhX"
      }
    },
    {
      "cell_type": "code",
      "source": [
        "[model.policy.state_dict()['q_net.q_net.'+str(item)+'.weight'].shape for item in [0, 2, 4 ]]"
      ],
      "metadata": {
        "id": "HwiyFBybqcyv",
        "colab": {
          "base_uri": "https://localhost:8080/"
        },
        "outputId": "943726fc-9015-436e-c906-f2ce04f94587"
      },
      "execution_count": 170,
      "outputs": [
        {
          "output_type": "execute_result",
          "data": {
            "text/plain": [
              "[torch.Size([64, 8]), torch.Size([64, 64]), torch.Size([4, 64])]"
            ]
          },
          "metadata": {},
          "execution_count": 170
        }
      ]
    },
    {
      "cell_type": "code",
      "source": [
        "[model.policy.state_dict()['q_net_target.q_net.'+str(item)+'.weight'].shape for item in [0, 2, 4 ]]"
      ],
      "metadata": {
        "id": "2TGJHq9lupxf",
        "colab": {
          "base_uri": "https://localhost:8080/"
        },
        "outputId": "2f481605-4bb2-4c30-bf29-6b74fca6b5a4"
      },
      "execution_count": 171,
      "outputs": [
        {
          "output_type": "execute_result",
          "data": {
            "text/plain": [
              "[torch.Size([64, 8]), torch.Size([64, 64]), torch.Size([4, 64])]"
            ]
          },
          "metadata": {},
          "execution_count": 171
        }
      ]
    },
    {
      "cell_type": "markdown",
      "source": [
        "## Customizing weights"
      ],
      "metadata": {
        "id": "RIcgVZIJvvEZ"
      }
    },
    {
      "cell_type": "code",
      "source": [
        "model_weights = model.policy.state_dict()\n",
        "model_weights['q_net.q_net.2.weight'] = torch.zeros(64,64)\n",
        "#model_weights['q_net.q_net.2.weight']"
      ],
      "metadata": {
        "id": "19c37bSSgBkg"
      },
      "execution_count": 172,
      "outputs": []
    },
    {
      "cell_type": "markdown",
      "source": [
        "## Comparing rewards"
      ],
      "metadata": {
        "id": "vmbrvrSdykhy"
      }
    },
    {
      "cell_type": "code",
      "source": [
        "#x, y = ts2xy(load_results(log_dir), 'timesteps')\n",
        "all_model_rewards['DQN1']['x'].shape, all_model_rewards['DQN2']['x'].shape"
      ],
      "metadata": {
        "colab": {
          "base_uri": "https://localhost:8080/"
        },
        "id": "dBLLAgIjxwnR",
        "outputId": "e7e7f249-8c37-41ef-c667-1880d6017800"
      },
      "execution_count": 207,
      "outputs": [
        {
          "output_type": "execute_result",
          "data": {
            "text/plain": [
              "((180,), (754,))"
            ]
          },
          "metadata": {},
          "execution_count": 207
        }
      ]
    },
    {
      "cell_type": "code",
      "source": [
        "all_model_rewards.keys()"
      ],
      "metadata": {
        "id": "fzOYMFwCh4CT",
        "colab": {
          "base_uri": "https://localhost:8080/"
        },
        "outputId": "2f49e7e8-a76d-471e-e507-32985bceebff"
      },
      "execution_count": 174,
      "outputs": [
        {
          "output_type": "execute_result",
          "data": {
            "text/plain": [
              "dict_keys(['DQN1', 'DQN2'])"
            ]
          },
          "metadata": {},
          "execution_count": 174
        }
      ]
    },
    {
      "cell_type": "code",
      "source": [
        "np.arange(0,151).shape"
      ],
      "metadata": {
        "colab": {
          "base_uri": "https://localhost:8080/"
        },
        "id": "jzDMYzLjDN2a",
        "outputId": "d42dfed9-9f3b-4ddb-979c-c5642b7022c0"
      },
      "execution_count": 175,
      "outputs": [
        {
          "output_type": "execute_result",
          "data": {
            "text/plain": [
              "(151,)"
            ]
          },
          "metadata": {},
          "execution_count": 175
        }
      ]
    },
    {
      "cell_type": "code",
      "source": [
        "DQN1_x = all_model_rewards['DQN1']['x']\n",
        "DQN1_y = all_model_rewards['DQN1']['y']\n",
        "print (DQN1_y.shape, DQN1_x.shape)\n",
        "DQN2_x = all_model_rewards['DQN2']['x']\n",
        "DQN2_y = all_model_rewards['DQN2']['y']\n",
        "print (DQN2_y.shape, DQN2_x.shape)\n",
        "\n",
        "plt.plot(DQN1_x,DQN1_y)\n",
        "#plt.plot(DQN2_x,DQN2_y)\n",
        "plt.ylim([-300, 300])\n",
        "plt.xlabel('Timesteps')\n",
        "plt.ylabel('Episode Rewards')"
      ],
      "metadata": {
        "colab": {
          "base_uri": "https://localhost:8080/",
          "height": 334
        },
        "id": "Gr3Lw-HQx2LJ",
        "outputId": "108d4981-66f5-45a1-e0b5-6c2f8e6b4420"
      },
      "execution_count": 203,
      "outputs": [
        {
          "output_type": "stream",
          "name": "stdout",
          "text": [
            "(180,) (180,)\n",
            "(754,) (754,)\n"
          ]
        },
        {
          "output_type": "execute_result",
          "data": {
            "text/plain": [
              "Text(0, 0.5, 'Episode Rewards')"
            ]
          },
          "metadata": {},
          "execution_count": 203
        },
        {
          "output_type": "display_data",
          "data": {
            "text/plain": [
              "<Figure size 432x288 with 1 Axes>"
            ],
            "image/png": "[encoded data removed]"
          },
          "metadata": {
            "needs_background": "light"
          }
        }
      ]
    },
    {
      "cell_type": "code",
      "source": [
        ""
      ],
      "metadata": {
        "id": "itVdXzj6M4Zt"
      },
      "execution_count": 176,
      "outputs": []
    },
    {
      "cell_type": "code",
      "source": [
        "all_model_rewards['DQN2']['x'].shape"
      ],
      "metadata": {
        "id": "czHzCHxXM6K_",
        "outputId": "2e8967db-d6cb-47cb-8a07-19b45fd46243",
        "colab": {
          "base_uri": "https://localhost:8080/"
        }
      },
      "execution_count": 177,
      "outputs": [
        {
          "output_type": "execute_result",
          "data": {
            "text/plain": [
              "(754,)"
            ]
          },
          "metadata": {},
          "execution_count": 177
        }
      ]
    },
    {
      "cell_type": "code",
      "source": [
        ""
      ],
      "metadata": {
        "id": "1DO8z_1Jh74v"
      },
      "execution_count": 177,
      "outputs": []
    },
    {
      "cell_type": "code",
      "source": [
        "## Useful sources \n",
        "# https://www.analyticsvidhya.com/blog/2021/05/a-complete-hands-on-guide-to-train-your-neural-network-model-on-google-colab-gpu/\n",
        "# https://pytorch.org/tutorials/recipes/recipes/save_load_across_devices.html"
      ],
      "metadata": {
        "id": "iTymvIWs_eBO"
      },
      "execution_count": 178,
      "outputs": []
    },
    {
      "cell_type": "code",
      "source": [
        ""
      ],
      "metadata": {
        "id": "pXWV6dhx2gIA"
      },
      "execution_count": 178,
      "outputs": []
    },
    {
      "cell_type": "code",
      "source": [
        ""
      ],
      "metadata": {
        "id": "3MVWTpHGC7zf"
      },
      "execution_count": 178,
      "outputs": []
    },
    {
      "cell_type": "code",
      "source": [
        ""
      ],
      "metadata": {
        "id": "DpxeA8i9C9KW"
      },
      "execution_count": 178,
      "outputs": []
    },
    {
      "cell_type": "code",
      "source": [
        ""
      ],
      "metadata": {
        "id": "WZcZDPEgC87s"
      },
      "execution_count": 178,
      "outputs": []
    },
    {
      "cell_type": "code",
      "source": [
        "#def get_default_device():\n",
        "#    \"\"\"Picking GPU if available or else CPU\"\"\"\n",
        "#    if torch.cuda.is_available():\n",
        "#        return torch.device('cuda')\n",
        "#    else:\n",
        "#        return torch.device('cpu')\n",
        "\n",
        "\n",
        "\n",
        "#device = get_default_device()\n",
        "#device"
      ],
      "metadata": {
        "id": "a1MxLssM9uSS"
      },
      "execution_count": 179,
      "outputs": []
    },
    {
      "cell_type": "code",
      "source": [
        ""
      ],
      "metadata": {
        "id": "bnjqiSgcNsSl"
      },
      "execution_count": 179,
      "outputs": []
    },
    {
      "cell_type": "code",
      "source": [
        ""
      ],
      "metadata": {
        "id": "W1OrpkQLbQRS"
      },
      "execution_count": 179,
      "outputs": []
    },
    {
      "cell_type": "code",
      "source": [
        ""
      ],
      "metadata": {
        "id": "ImlkaDMbbQGH"
      },
      "execution_count": 179,
      "outputs": []
    },
    {
      "cell_type": "code",
      "source": [
        ""
      ],
      "metadata": {
        "id": "mgb0FzgQbP49"
      },
      "execution_count": 179,
      "outputs": []
    },
    {
      "cell_type": "code",
      "source": [
        ""
      ],
      "metadata": {
        "id": "wSn8FySwI35e"
      },
      "execution_count": 179,
      "outputs": []
    },
    {
      "cell_type": "markdown",
      "metadata": {
        "execution": {},
        "id": "ZjxOTq4LxX_g"
      },
      "source": [
        "The training takes time. We encourage you to analyze the output logs (set verbose to 1 to print the output logs). The main component of the logs that you should track is \"ep_rew_mean\" (mean of episode rewards). As the training proceeds, the value of \"ep_rew_mean\" should increase. The improvement need not be monotonic, but the trend should be upwards! \n",
        "\n",
        "Along with training, we are also periodically evaluating the performance of the current model during the training. This was reported in logs as follows:\n",
        "\n",
        "```\n",
        "Eval num_timesteps=100000, episode_reward=63.41 +/- 130.02\n",
        "Episode length: 259.80 +/- 47.47\n",
        "```"
      ]
    },
    {
      "cell_type": "markdown",
      "metadata": {
        "execution": {},
        "id": "SrFuUfrKxX_g"
      },
      "source": [
        "Now, let us look at the visual performance of the lander. \n",
        "\n",
        "**Note:** The performance varies across different seeds and runs. This code is not optimized to be stable across all runs and seeds. We hope you will be able to find an optimal configuration! "
      ]
    },
    {
      "cell_type": "code",
      "execution_count": 180,
      "metadata": {
        "execution": {},
        "id": "E3tB4vr8xX_g",
        "colab": {
          "base_uri": "https://localhost:8080/",
          "height": 421
        },
        "outputId": "d34a84ea-dbf8-49bc-b27e-88aa60253fde"
      },
      "outputs": [
        {
          "output_type": "display_data",
          "data": {
            "text/plain": [
              "<IPython.core.display.HTML object>"
            ],
            "text/html": [
              "<video alt=\"test\" autoplay\n",
              "                loop controls style=\"height: 400px;\">\n",
              "                <source src=\"data:video/mp4;base64,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\" type=\"video/mp4\" />\n",
              "             </video>"
            ]
          },
          "metadata": {}
        }
      ],
      "source": [
        "env = wrap_env(gym.make(\"LunarLander-v2\"))\n",
        "observation = env.reset()\n",
        "while True:\n",
        "  env.render()\n",
        "  action, _states = model.predict(observation, deterministic=True)\n",
        "  observation, reward, done, info = env.step(action)\n",
        "  if done:\n",
        "    break;\n",
        "\n",
        "env.close()\n",
        "show_video()"
      ]
    },
    {
      "cell_type": "markdown",
      "metadata": {
        "execution": {},
        "id": "BHP2XmSwxX_h"
      },
      "source": [
        "The lander has landed safely!!\n",
        "\n",
        "Let us analyze its performance (speed and stability). For this purpose, we plot the number of time steps on the X-axis and the episodic reward given by the trained model on the Y-axis. "
      ]
    },
    {
      "cell_type": "code",
      "execution_count": 181,
      "metadata": {
        "execution": {},
        "id": "qK7N3LOrxX_h",
        "colab": {
          "base_uri": "https://localhost:8080/",
          "height": 300
        },
        "outputId": "3c3b7e90-fd14-45bc-cad5-3e1914b0de50"
      },
      "outputs": [
        {
          "output_type": "execute_result",
          "data": {
            "text/plain": [
              "Text(0, 0.5, 'Episode Rewards')"
            ]
          },
          "metadata": {},
          "execution_count": 181
        },
        {
          "output_type": "display_data",
          "data": {
            "text/plain": [
              "<Figure size 432x288 with 1 Axes>"
            ],
            "image/png": "[encoded data removed]"
          },
          "metadata": {
            "needs_background": "light"
          }
        }
      ],
      "source": [
        "x, y = ts2xy(load_results(log_dir), 'timesteps')  # Organising the logged results in to a clean format for plotting.\n",
        "plt.plot(x,y)\n",
        "plt.ylim([-300, 300])\n",
        "plt.xlabel('Timesteps')\n",
        "plt.ylabel('Episode Rewards')"
      ]
    },
    {
      "cell_type": "code",
      "source": [
        "x, y = ts2xy(load_results(log_dir), 'timesteps')"
      ],
      "metadata": {
        "id": "_ECtFVzNzI-C"
      },
      "execution_count": 182,
      "outputs": []
    },
    {
      "cell_type": "code",
      "source": [
        "y"
      ],
      "metadata": {
        "colab": {
          "base_uri": "https://localhost:8080/"
        },
        "id": "oi2aM3BYzIwu",
        "outputId": "3f1e5712-93e4-4960-b8b5-f1757635b613"
      },
      "execution_count": 183,
      "outputs": [
        {
          "output_type": "execute_result",
          "data": {
            "text/plain": [
              "array([-1.41062749e+02, -6.86189210e+01, -2.41818445e+02, -3.59287252e+02,\n",
              "       -1.34927071e+02, -9.45517490e+01, -9.01057700e+01, -8.65569020e+01,\n",
              "       -1.28027772e+02, -9.79771690e+01, -1.33369399e+02, -8.52883930e+01,\n",
              "       -3.14939326e+02, -1.11740274e+02, -1.76941916e+02, -1.04100056e+02,\n",
              "       -2.01510291e+02, -1.01248456e+02, -1.12273958e+02, -4.74476730e+02,\n",
              "       -1.85016716e+02, -1.08876295e+02, -1.25408089e+02, -1.27831652e+02,\n",
              "       -1.24394261e+02, -1.36250852e+02, -3.95930006e+02, -2.58686925e+02,\n",
              "       -1.56554957e+02, -5.27488840e+01, -1.92144634e+02, -1.44324934e+02,\n",
              "       -9.66625700e+01, -1.77426554e+02, -1.63231191e+02, -1.85595515e+02,\n",
              "       -1.78871005e+02, -6.00899610e+01, -1.28127548e+02, -6.37645600e+01,\n",
              "       -1.12504256e+02, -2.38879660e+01, -1.25962105e+02, -1.63152319e+02,\n",
              "       -1.01805082e+02, -1.87510726e+02, -1.02891160e+02, -1.07439483e+02,\n",
              "       -1.91601354e+02, -9.87975250e+01, -1.74047678e+02, -5.97719310e+01,\n",
              "       -2.16211711e+02, -1.08735655e+02, -4.45066090e+02, -7.66637710e+01,\n",
              "       -9.88301540e+01, -7.17266080e+01, -9.71179900e+00, -3.17516106e+02,\n",
              "       -1.12402557e+02, -1.71845470e+02, -1.34747639e+02, -2.12704413e+02,\n",
              "       -1.21815240e+02, -8.94957380e+01, -8.55131000e+01, -7.69157020e+01,\n",
              "       -1.04106909e+02, -5.66381970e+01, -1.05831022e+02, -1.39335087e+02,\n",
              "       -1.08418089e+02, -1.71771114e+02, -7.00205560e+01, -1.18001977e+02,\n",
              "        1.21230000e-02, -1.71125740e+01, -8.50734890e+01, -8.24832190e+01,\n",
              "       -4.92484930e+01, -4.33568620e+01, -2.54648596e+02, -1.26480808e+02,\n",
              "       -6.19752710e+01, -1.33645458e+02, -1.18976235e+02, -6.51973620e+01,\n",
              "       -8.17888840e+01, -6.75702230e+01, -1.43563100e+00, -9.95747510e+01,\n",
              "       -2.55367148e+02, -4.82995430e+01, -1.50419646e+02, -5.00703310e+01,\n",
              "       -1.31621959e+02, -5.36769330e+01, -5.12472160e+01, -1.40267776e+02,\n",
              "       -6.38239570e+01, -8.88634580e+01, -1.43629702e+02, -1.45080740e+02,\n",
              "       -9.06740750e+01, -9.37867540e+01, -2.53341700e+01, -1.16898820e+02,\n",
              "       -6.67679440e+01, -5.72266310e+01, -1.22497676e+02, -1.72023238e+02,\n",
              "       -7.91593060e+01, -2.55526944e+02, -5.35594520e+01,  7.88339100e+00,\n",
              "       -1.76501680e+02, -1.25033631e+02, -7.51834650e+01, -7.07447350e+01,\n",
              "       -1.17540018e+02, -1.31993830e+02, -2.72979979e+02, -2.22430218e+02,\n",
              "       -2.52851920e+02, -2.10882715e+02, -8.71672000e+01, -7.47917190e+01,\n",
              "       -1.49753324e+02,  1.07948900e+00, -9.93682780e+01, -1.72438668e+02,\n",
              "        3.70322930e+01, -4.14872060e+01,  5.37478330e+01, -4.35110830e+01,\n",
              "       -9.55293770e+01, -1.89844567e+02, -1.31816314e+02, -9.92105930e+01,\n",
              "       -1.50614732e+02, -1.70722823e+02, -8.16525920e+01, -1.61243881e+02,\n",
              "       -1.82939449e+02, -1.62611787e+02, -2.43771740e+01, -1.72759889e+02,\n",
              "       -1.53782193e+02, -5.68532330e+01, -1.66628974e+02, -6.79071520e+01,\n",
              "       -3.96425500e+01, -9.10931500e+01, -8.75798440e+01, -4.57149140e+01,\n",
              "       -1.02954900e+02, -6.73411940e+01,  1.81577112e+02,  2.19000787e+02,\n",
              "        2.63376291e+02,  2.78936789e+02, -1.74033600e+01,  1.90292089e+02,\n",
              "       -4.74259220e+01, -7.97695480e+01,  2.52571765e+02, -1.06304600e+02,\n",
              "       -4.14023600e+01, -6.04178520e+01, -4.63723630e+01, -1.16219269e+02,\n",
              "        1.77689537e+02, -3.06070780e+01, -4.64876500e+00, -8.00672260e+01,\n",
              "       -7.96855490e+01, -1.37366944e+02, -1.15977787e+02, -7.36428900e+01,\n",
              "       -3.77553839e+02, -1.00062239e+02, -1.74234857e+02, -1.36888618e+02,\n",
              "       -1.05110185e+02, -3.80851494e+02, -1.65917654e+02, -5.90894680e+01,\n",
              "       -1.24869324e+02, -5.14633912e+02, -1.47679205e+02, -6.78798790e+01,\n",
              "       -3.61294290e+01, -3.54553285e+02, -4.20295557e+02, -4.11852003e+02,\n",
              "       -1.99403925e+02, -1.39518730e+02, -2.04546253e+02, -2.70133544e+02,\n",
              "       -1.56186155e+02, -1.12572752e+02, -1.04266281e+02, -1.59247298e+02,\n",
              "       -1.58253809e+02, -3.08832215e+02, -2.63066417e+02, -1.98332948e+02,\n",
              "       -3.51449879e+02, -1.35494009e+02, -1.83360583e+02, -2.11059261e+02,\n",
              "       -1.09644989e+02, -2.47334558e+02, -1.27597550e+02, -2.98354595e+02,\n",
              "       -2.89010979e+02, -3.78458376e+02, -1.91563565e+02, -1.39731288e+02,\n",
              "       -1.99441025e+02, -5.46036854e+02, -1.34350224e+02, -1.21458110e+02,\n",
              "       -1.45604457e+02, -1.50012339e+02, -4.34254101e+02, -1.19137425e+02,\n",
              "       -3.41188535e+02, -2.82867177e+02, -3.66468731e+02, -1.99278612e+02,\n",
              "       -3.29918149e+02,  2.79189300e+01, -2.94670841e+02, -3.46733121e+02,\n",
              "       -3.94294933e+02, -2.94112179e+02, -1.43631457e+02, -2.07334085e+02,\n",
              "       -1.03641863e+02, -3.50071697e+02, -3.23706667e+02, -3.15614260e+02,\n",
              "       -4.15568084e+02, -6.51240070e+01, -2.23175452e+02, -4.80399129e+02,\n",
              "       -4.99425651e+02, -5.33050599e+02, -2.16166734e+02, -2.18467393e+02,\n",
              "       -3.13240060e+02, -8.43194530e+01, -2.94763042e+02, -5.59717625e+02,\n",
              "       -2.70597314e+02, -5.81994820e+02, -3.33459892e+02, -3.52719805e+02,\n",
              "       -4.98037632e+02, -4.44002283e+02, -2.65307197e+02, -5.41973797e+02,\n",
              "       -3.55877489e+02, -1.32143466e+02, -3.91606504e+02, -2.78208755e+02,\n",
              "       -3.19456789e+02, -1.99388031e+02, -2.90384172e+02, -2.97789575e+02,\n",
              "       -3.29736349e+02, -6.18979323e+02, -9.90366690e+01, -2.71165713e+02,\n",
              "       -3.28273576e+02, -1.03391359e+02, -1.73580446e+02, -6.48245729e+02,\n",
              "       -4.49217836e+02, -2.34285951e+02, -2.70875366e+02, -5.68968299e+02,\n",
              "       -2.68000578e+02, -5.69363477e+02, -2.06515767e+02, -1.83321054e+02,\n",
              "       -3.17298986e+02, -2.45257283e+02, -1.45674902e+02, -3.46534310e+02,\n",
              "       -4.08243766e+02, -4.89726353e+02, -2.75705289e+02, -4.44377826e+02,\n",
              "       -4.48756233e+02, -5.94734820e+02, -5.47121546e+02, -4.99981007e+02,\n",
              "       -5.11872644e+02, -4.82826046e+02, -5.16663416e+02, -6.85045011e+02,\n",
              "       -1.83668741e+02, -5.59120100e+02, -5.28038730e+02, -3.65108862e+02,\n",
              "       -3.69016899e+02, -2.96227278e+02, -3.95406123e+02, -5.75456178e+02,\n",
              "       -7.24426254e+02, -4.05501591e+02, -2.98652870e+02, -5.13481431e+02,\n",
              "       -4.16570719e+02, -6.62131488e+02, -4.35466913e+02, -4.68482257e+02,\n",
              "       -4.61446438e+02, -3.37673064e+02, -4.81076229e+02, -5.53261203e+02,\n",
              "       -4.68537956e+02, -5.38553907e+02, -2.84514646e+02, -4.93132884e+02,\n",
              "       -6.37117362e+02, -4.91864125e+02, -3.83696202e+02, -4.57835203e+02,\n",
              "       -2.17584526e+02, -5.00385343e+02, -5.41558892e+02, -5.74084702e+02,\n",
              "       -6.91320023e+02, -3.63063394e+02, -4.72817603e+02, -2.83541532e+02,\n",
              "       -7.37931952e+02, -2.38596838e+02, -5.03460532e+02, -2.90802569e+02,\n",
              "       -2.86948750e+02, -4.68612166e+02, -5.33329996e+02, -5.69149993e+02,\n",
              "       -2.69607089e+02, -2.48677393e+02, -3.36074244e+02, -3.01450404e+02,\n",
              "       -5.44090538e+02, -3.24583728e+02, -5.36720890e+02, -6.96467886e+02,\n",
              "       -5.92512842e+02, -3.63599681e+02, -4.95878118e+02, -4.87338740e+02,\n",
              "       -5.84739620e+02, -4.11756011e+02, -3.75533480e+02, -4.45898410e+02,\n",
              "       -2.86958790e+02, -5.09406983e+02, -3.63653172e+02, -5.67807774e+02,\n",
              "       -4.40304110e+02, -4.99359521e+02, -4.75983118e+02, -4.19244645e+02,\n",
              "       -7.04813577e+02, -8.42466696e+02, -4.78243521e+02, -3.81415576e+02,\n",
              "       -4.85856402e+02, -4.59248064e+02, -6.19742139e+02, -3.73400711e+02,\n",
              "       -4.47030693e+02, -5.88344859e+02, -2.82197648e+02, -5.27918472e+02,\n",
              "       -5.85625240e+02, -2.35973919e+02, -2.72782028e+02, -1.03034501e+03,\n",
              "       -6.33821088e+02, -3.13250891e+02, -5.14471374e+02, -3.82146825e+02,\n",
              "       -2.95186766e+02, -5.29126395e+02, -3.47960190e+02, -2.53582283e+02,\n",
              "       -3.04441393e+02, -6.13862558e+02, -5.48831224e+02, -5.95149922e+02,\n",
              "       -8.34130137e+02, -4.63675115e+02, -4.30574289e+02, -7.30714104e+02,\n",
              "       -7.58317802e+02, -5.05112008e+02, -4.55783279e+02, -4.61304505e+02,\n",
              "       -4.74214873e+02, -4.54771461e+02, -5.39526524e+02, -2.30104817e+02,\n",
              "       -4.93643633e+02, -3.35319793e+02, -6.38593995e+02, -3.46772261e+02,\n",
              "       -4.51463179e+02, -4.95963376e+02, -8.83594375e+02, -4.38119530e+02,\n",
              "       -5.69786322e+02, -4.03249493e+02, -4.42141616e+02, -4.10162772e+02,\n",
              "       -7.59223303e+02, -5.55658503e+02, -3.44917837e+02, -5.98067540e+02,\n",
              "       -4.73981548e+02, -6.84311451e+02, -7.66062109e+02, -5.73441137e+02,\n",
              "       -5.48206790e+02, -3.86407253e+02, -4.82435249e+02, -4.45756352e+02,\n",
              "       -8.11530203e+02, -5.43659641e+02, -4.33326120e+02, -1.00297635e+03,\n",
              "       -3.16151161e+02, -3.47181422e+02, -4.77552572e+02, -5.93969084e+02,\n",
              "       -4.27208588e+02, -3.38325924e+02, -7.62491688e+02, -7.18844443e+02,\n",
              "       -4.70412789e+02, -5.99666501e+02, -5.22450216e+02, -5.01162082e+02,\n",
              "       -4.62891902e+02, -5.30915826e+02, -7.77881570e+02, -8.66766276e+02,\n",
              "       -5.49375383e+02, -3.68362529e+02, -7.54640992e+02, -3.25890196e+02,\n",
              "       -5.14462812e+02, -6.31362736e+02, -5.01000560e+02, -4.49721915e+02,\n",
              "       -6.05028082e+02, -5.90383721e+02, -3.93978691e+02, -5.69751756e+02,\n",
              "       -4.65309805e+02, -3.22744058e+02, -5.80540567e+02, -5.79881682e+02,\n",
              "       -4.29981914e+02, -6.93750392e+02, -5.92232484e+02, -6.34890859e+02,\n",
              "       -6.19384330e+02, -6.78917159e+02, -6.01516777e+02, -7.74868932e+02,\n",
              "       -4.66184488e+02, -6.03466042e+02, -7.57227709e+02, -4.14062083e+02,\n",
              "       -5.44871195e+02, -4.53773040e+02, -5.19883231e+02, -3.95697862e+02,\n",
              "       -5.04227603e+02, -5.64612291e+02, -5.05053972e+02, -5.63266126e+02,\n",
              "       -4.38436966e+02, -5.52370100e+02, -6.03134170e+02, -6.25603777e+02,\n",
              "       -3.43694745e+02, -4.85619537e+02, -7.53982898e+02, -6.59212210e+02,\n",
              "       -3.19690823e+02, -4.61014000e+02, -3.98748379e+02, -5.64454522e+02,\n",
              "       -5.09545282e+02, -3.72532681e+02, -3.95706715e+02, -3.49280656e+02,\n",
              "       -9.33921704e+02, -9.99576189e+02, -7.78346222e+02, -8.14338425e+02,\n",
              "       -4.96267245e+02, -5.34993336e+02, -7.77245478e+02, -7.78157214e+02,\n",
              "       -5.00183740e+02, -5.88671675e+02, -5.40049789e+02, -7.30318454e+02,\n",
              "       -4.70537896e+02, -5.57649738e+02, -9.06770211e+02, -4.47695607e+02,\n",
              "       -3.43494688e+02, -5.02241605e+02, -7.84725532e+02, -8.10864491e+02,\n",
              "       -6.15900493e+02, -3.62508577e+02, -4.96655842e+02, -5.45298203e+02,\n",
              "       -4.69575937e+02, -7.61418918e+02, -5.78513403e+02, -3.24194308e+02,\n",
              "       -6.83702216e+02, -3.67460526e+02, -5.08361674e+02, -4.65931957e+02,\n",
              "       -4.53649120e+02, -5.15573548e+02, -7.10609708e+02, -5.03126719e+02,\n",
              "       -6.67917164e+02, -9.86387245e+02, -4.49929368e+02, -8.70682385e+02,\n",
              "       -4.45606936e+02, -7.41889411e+02, -4.87099256e+02, -7.91573959e+02,\n",
              "       -3.45831716e+02, -3.83335625e+02, -5.66995641e+02, -8.04887109e+02,\n",
              "       -3.96545371e+02, -1.27727629e+03, -4.68749855e+02, -3.73458159e+02,\n",
              "       -5.40392192e+02, -7.33865911e+02, -7.60450418e+02, -5.78270686e+02,\n",
              "       -4.00348128e+02, -4.27826032e+02, -5.20775458e+02, -4.29979094e+02,\n",
              "       -7.33295059e+02, -7.85785225e+02, -6.06600586e+02, -3.97044936e+02,\n",
              "       -5.71624322e+02, -8.45970269e+02, -5.26251695e+02, -4.98151040e+02,\n",
              "       -5.19771886e+02, -4.22134509e+02, -6.06857054e+02, -3.84259051e+02,\n",
              "       -7.46974028e+02, -3.66193997e+02, -3.21400967e+02, -3.51906204e+02,\n",
              "       -6.58338297e+02, -7.28909382e+02, -4.76784801e+02, -5.81591449e+02,\n",
              "       -7.34823684e+02, -5.10781188e+02, -6.55742472e+02, -4.68342484e+02,\n",
              "       -7.10265660e+02, -4.20999460e+02, -4.40174326e+02, -8.81046290e+02,\n",
              "       -4.16351865e+02, -5.55610818e+02, -7.81232602e+02, -4.53878785e+02,\n",
              "       -4.58314234e+02, -3.62375811e+02, -5.67337298e+02, -4.21681874e+02,\n",
              "       -2.74735673e+02, -4.91545927e+02, -4.32289447e+02, -7.89803686e+02,\n",
              "       -3.45986070e+02, -3.96461546e+02, -4.80753019e+02, -3.43028741e+02,\n",
              "       -7.81973546e+02, -5.35889143e+02, -4.56904126e+02, -5.31929779e+02,\n",
              "       -9.35549021e+02, -4.47011756e+02, -4.92460156e+02, -3.86822231e+02,\n",
              "       -4.02683889e+02, -5.43498485e+02, -5.32679930e+02, -8.52083410e+02,\n",
              "       -3.82353480e+02, -8.65293561e+02, -4.78170716e+02, -4.80701694e+02,\n",
              "       -4.94419038e+02, -3.57084786e+02, -4.22914941e+02, -5.57488246e+02,\n",
              "       -4.79174480e+02, -4.64844898e+02, -8.32386139e+02, -6.01682991e+02,\n",
              "       -3.52356483e+02, -7.56692535e+02, -3.96073879e+02, -8.47068261e+02,\n",
              "       -4.72783242e+02, -8.68936845e+02, -4.67320400e+02, -6.54125640e+02,\n",
              "       -5.20470820e+02, -5.52234930e+02, -4.68351166e+02, -4.36876878e+02,\n",
              "       -5.80651022e+02, -4.54583595e+02, -6.25241340e+02, -5.06213749e+02,\n",
              "       -4.55102074e+02, -5.76452171e+02, -4.87246116e+02, -4.02958045e+02,\n",
              "       -6.23904903e+02, -5.95957232e+02, -8.84038265e+02, -3.99943582e+02,\n",
              "       -6.71400893e+02, -7.67600394e+02, -3.91650719e+02, -7.69291575e+02,\n",
              "       -4.90695223e+02, -4.16548631e+02, -4.55854636e+02, -4.07114850e+02,\n",
              "       -7.29287476e+02, -8.76652148e+02, -3.60465019e+02, -7.41994699e+02,\n",
              "       -3.97769756e+02, -4.28551324e+02, -4.84818683e+02, -4.10762451e+02,\n",
              "       -3.53115946e+02, -6.34995908e+02, -7.77990671e+02, -7.46189121e+02,\n",
              "       -3.97847892e+02, -4.65657539e+02, -4.19079173e+02, -4.87261832e+02,\n",
              "       -7.40279252e+02, -7.61552460e+02, -6.65226326e+02, -8.28941776e+02,\n",
              "       -5.42428768e+02, -4.76077339e+02, -5.07691482e+02, -7.46679027e+02,\n",
              "       -5.33890978e+02, -7.74481032e+02, -1.01650921e+03, -4.49565923e+02,\n",
              "       -5.43719437e+02, -5.13292884e+02, -4.29241162e+02, -7.02818213e+02,\n",
              "       -9.38580447e+02, -7.27088611e+02, -6.73605413e+02, -7.95998625e+02,\n",
              "       -4.46133463e+02, -5.35116880e+02, -4.35656904e+02, -3.80152275e+02,\n",
              "       -5.00560794e+02, -4.36203357e+02, -5.50224361e+02, -4.82700517e+02,\n",
              "       -4.39194516e+02, -4.43497639e+02, -7.35585280e+02, -3.60656335e+02,\n",
              "       -5.25452966e+02, -6.88489374e+02, -6.08158557e+02, -8.53578145e+02,\n",
              "       -4.28059083e+02, -4.91707723e+02, -8.02057627e+02, -4.96102935e+02,\n",
              "       -4.90385621e+02, -7.19674877e+02, -6.58438853e+02, -4.27971954e+02,\n",
              "       -3.20202975e+02, -6.32731430e+02, -4.77671643e+02, -5.13601451e+02,\n",
              "       -4.58590478e+02, -7.29132430e+02, -3.62652807e+02, -7.00432494e+02,\n",
              "       -3.11211930e+02, -5.21114656e+02, -4.29133835e+02, -7.16851457e+02,\n",
              "       -4.75415472e+02, -4.48948097e+02, -3.56934708e+02, -3.63712916e+02,\n",
              "       -5.63126230e+02, -4.52074920e+02, -3.55309458e+02, -6.57404682e+02,\n",
              "       -5.44115250e+02, -4.54799029e+02, -5.29395259e+02, -6.59330130e+02,\n",
              "       -5.42721201e+02, -3.85006713e+02])"
            ]
          },
          "metadata": {},
          "execution_count": 183
        }
      ]
    },
    {
      "cell_type": "code",
      "source": [
        ""
      ],
      "metadata": {
        "id": "4KOcsgTMzHw_"
      },
      "execution_count": 183,
      "outputs": []
    },
    {
      "cell_type": "markdown",
      "metadata": {
        "execution": {},
        "id": "suJ6uC2fxX_h"
      },
      "source": [
        "From the above plot, we observe that, although the maximum reward is achieved quickly. Achieving an episodic reward of > 200 is good. We see that the agent has achieved it in less than 50000 timesteps (speed is good!). However, there are a lot of fluctuations in the performance (stability is not good!). \n",
        "\n",
        "Your objective now is to modify the model parameters (nn_layers, learning_rate in the code cell #2 above), run all the cells following it and investigate the stability and speed of the chosen configuration.   \n"
      ]
    },
    {
      "cell_type": "code",
      "source": [
        "## Check model parameters with these snippets\n",
        "# model2.get_parameters()\n",
        "# model2.get_parameters().keys()"
      ],
      "metadata": {
        "id": "PqSrTSnp_WgV"
      },
      "execution_count": 184,
      "outputs": []
    },
    {
      "cell_type": "code",
      "source": [
        ""
      ],
      "metadata": {
        "id": "cGNlDuZGcU84"
      },
      "execution_count": 184,
      "outputs": []
    },
    {
      "cell_type": "code",
      "source": [
        "reloaded_model_weights = get_model_weights(model2, 'reloaded_model')"
      ],
      "metadata": {
        "id": "y_GJfP4pdc1g"
      },
      "execution_count": 185,
      "outputs": []
    },
    {
      "cell_type": "markdown",
      "metadata": {
        "execution": {},
        "id": "osWTy2z-xX_h"
      },
      "source": [
        "---\n",
        "# Additional Project Ideas"
      ]
    },
    {
      "cell_type": "markdown",
      "metadata": {
        "execution": {},
        "id": "Gd_RZR0fxX_h"
      },
      "source": [
        "## 1 Play with exploration-exploitation trade-off\n",
        "\n",
        "Exploration (selecting random actions) and exploitation (selecting greedy action) is a crucial component of the DQN algorithm. Explore random actions for a long time will slow down the training process. At the same time, if all actions are not explored enough, it might lead to a sub-optimal performance. In the DQN code above, we have used the following parameters:"
      ]
    },
    {
      "cell_type": "code",
      "execution_count": 186,
      "metadata": {
        "execution": {},
        "id": "mY6DSpoMxX_h"
      },
      "outputs": [],
      "source": [
        "exploration_initial_eps = 1  # initial value of random action probability. Range is between 0 and 1.\n",
        "exploration_fraction = 0.5  # fraction of entire training period over which the exploration rate is reduced. Range is between 0 and 1.\n",
        "exploration_final_eps = 0.05  # (set by defualt) final value of random action probability. Range is between 0 and 1."
      ]
    },
    {
      "cell_type": "markdown",
      "metadata": {
        "execution": {},
        "id": "4jc9JtiZxX_i"
      },
      "source": [
        "Your objective is to play around with these parameters and analyze their performance (speed and stability). You can modify these parameters and set them as arguments in DQN(...,exploration_initial_eps = 1, exploration_fraction = 0.5, exploration_final_eps = 0.05,...). "
      ]
    },
    {
      "cell_type": "markdown",
      "metadata": {
        "execution": {},
        "id": "EyURXfE4xX_i"
      },
      "source": [
        "## 2 Reward Shaping\n",
        "\n",
        "Your objective here is to construct a modified reward function that improves the performance of the Lunar Lander. To this end, you would have to create your own custom environment. An example of a custom environment is given below:"
      ]
    },
    {
      "cell_type": "code",
      "execution_count": 187,
      "metadata": {
        "execution": {},
        "id": "DCYiL0H_xX_i"
      },
      "outputs": [],
      "source": [
        "# Taken from https://stable-baselines3.readthedocs.io/en/master/guide/custom_env.html\n",
        "class CustomEnv(gym.Env):\n",
        "  \"\"\"Custom Environment that follows gym interface\"\"\"\n",
        "  metadata = {'render.modes': ['human']}\n",
        "\n",
        "  def __init__(self, arg1, arg2):\n",
        "    super(CustomEnv, self).__init__()\n",
        "    # Define action and observation space\n",
        "    # They must be gym.spaces objects\n",
        "    # Example when using discrete actions:\n",
        "    self.action_space = spaces.Discrete(N_DISCRETE_ACTIONS)\n",
        "    # Example for using image as input (channel-first; channel-last also works):\n",
        "    self.observation_space = spaces.Box(low=0, high=255,\n",
        "                                        shape=(N_CHANNELS, HEIGHT, WIDTH), dtype=np.uint8)\n",
        "\n",
        "  def step(self, action):\n",
        "    ...\n",
        "    return observation, reward, done, info\n",
        "  def reset(self):\n",
        "    ...\n",
        "    return observation  # reward, done, info can't be included\n",
        "  def render(self, mode='human'):\n",
        "    ...\n",
        "  def close (self):\n",
        "    ..."
      ]
    },
    {
      "cell_type": "markdown",
      "metadata": {
        "execution": {},
        "id": "Uus1Ncm-xX_i"
      },
      "source": [
        "As you are only changing the reward structure, you can inherit the original Lunar Lander environment from https://github.com/openai/gym/blob/master/gym/envs/box2d/lunar_lander.py and modify just the \"step\" function. Focus on modifying the following part of the code in the \"step\" function\n"
      ]
    },
    {
      "cell_type": "code",
      "execution_count": 188,
      "metadata": {
        "execution": {},
        "id": "S8slWB4OxX_i"
      },
      "outputs": [],
      "source": [
        "def step(self, actions):\n",
        "  ...\n",
        "  ...\n",
        "  ...\n",
        "  reward = 0\n",
        "  shaping = (\n",
        "      -100 * np.sqrt(state[0] * state[0] + state[1] * state[1])\n",
        "      - 100 * np.sqrt(state[2] * state[2] + state[3] * state[3])\n",
        "      - 100 * abs(state[4])\n",
        "      + 10 * state[6]\n",
        "      + 10 * state[7]\n",
        "  )  # And ten points for legs contact, the idea is if you\n",
        "  # lose contact again after landing, you get negative reward\n",
        "  if self.prev_shaping is not None:\n",
        "      reward = shaping - self.prev_shaping\n",
        "  self.prev_shaping = shaping\n",
        "\n",
        "  reward -= (\n",
        "      m_power * 0.30\n",
        "  )  # less fuel spent is better, about -30 for heuristic landing. You should modify these values.\n",
        "  reward -= s_power * 0.03\n",
        "\n",
        "  done = False\n",
        "  if self.game_over or abs(state[0]) >= 1.0:\n",
        "      done = True\n",
        "      reward = -100\n",
        "  if not self.lander.awake:\n",
        "      done = True\n",
        "      reward = +100\n",
        "  return np.array(state, dtype=np.float32), reward, done, {}"
      ]
    },
    {
      "cell_type": "markdown",
      "metadata": {
        "execution": {},
        "id": "Jlp-n31TxX_i"
      },
      "source": [
        "Once you have cutomized your own environment, you can execute that environment by just calling:"
      ]
    },
    {
      "cell_type": "code",
      "execution_count": 189,
      "metadata": {
        "execution": {},
        "id": "NaG1aH3AxX_i"
      },
      "outputs": [],
      "source": [
        "#Enter the name of the custome environment you created and uncomment the line below.\n",
        "#env = Custom_LunarLander()\n",
        "# Refer to https://stable-baselines3.readthedocs.io/en/master/guide/custom_env.html, if you would like to create more complex environments."
      ]
    },
    {
      "cell_type": "markdown",
      "metadata": {
        "execution": {},
        "id": "uzu-QpsZxX_j"
      },
      "source": [
        "## 3 Identify the state information crucial to its performance.\n",
        "\n",
        "Your objective here is to alter the input state information and analyze the performance. The input state of the Lunar Lander consists of following components:\n",
        "\n",
        "  1. Horizontal Position\n",
        "  2. Vertical Position\n",
        "  3. Horizontal Velocity\n",
        "  4. Vertical Velocity\n",
        "  5. Angle\n",
        "  6. Angular Velocity\n",
        "  7. Left Leg Contact\n",
        "  8. Right Leg Contact\n",
        "\n",
        "You can train the algorithm by masking one of the eight components at a time and understand how that affects the performance of the algorithm. Similar to the reward shaping task, you would have to create a custom environment and modify the state space. Again, you can inherit all the necessary functions and modify the following portion of the \"Step\" function:"
      ]
    },
    {
      "cell_type": "code",
      "execution_count": 190,
      "metadata": {
        "execution": {},
        "id": "FIgylShHxX_j"
      },
      "outputs": [],
      "source": [
        "def step(self, actions):\n",
        "  ...\n",
        "  ...\n",
        "  ...\n",
        "  state = [ # Remove one component at a time to investigate the effect on performance!\n",
        "            (pos.x - VIEWPORT_W / SCALE / 2) / (VIEWPORT_W / SCALE / 2),\n",
        "            (pos.y - (self.helipad_y + LEG_DOWN / SCALE)) / (VIEWPORT_H / SCALE / 2),\n",
        "            vel.x * (VIEWPORT_W / SCALE / 2) / FPS,\n",
        "            vel.y * (VIEWPORT_H / SCALE / 2) / FPS,\n",
        "            self.lander.angle,\n",
        "            20.0 * self.lander.angularVelocity / FPS,\n",
        "            1.0 if self.legs[0].ground_contact else 0.0,\n",
        "            1.0 if self.legs[1].ground_contact else 0.0,\n",
        "        ]"
      ]
    },
    {
      "cell_type": "markdown",
      "metadata": {
        "execution": {},
        "id": "HaReJtYYxX_k"
      },
      "source": [
        "## 4 Extension to Atari Games\n",
        "\n",
        "In the Lunar Lander task, the input to the algorithm is a vector of state information. Deep RL algorithms can also be applied when the input to the training is image frames, which is the case in the Atari games. For example, consider an Atari game - Pong. In this environment, the observation is an RGB image of the screen, which is an array of shape (210, 160, 3). To train the Pong game, you can start with the following sample code:"
      ]
    },
    {
      "cell_type": "code",
      "execution_count": 191,
      "metadata": {
        "execution": {},
        "id": "B5Oxg8QIxX_k"
      },
      "outputs": [],
      "source": [
        "## Taken from: https://colab.research.google.com/github/Stable-Baselines-Team/rl-colab-notebooks/blob/sb3/atari_games.ipynb#scrollTo=f3K4rMXwimBO\n",
        "env = make_atari_env('PongNoFrameskip-v4', n_envs=4, seed=0)\n",
        "\n",
        "##Atari Games take a lot of memory. Following commands crash on Coalb. Run the following code on Colab Pro or your local Jupyter notebook!\n",
        "# env = VecFrameStack(env, n_stack=4)\n",
        "# model = DQN('CnnPolicy', env, verbose=1)  # Note the difference here! We use 'CnnPolicy\" here instead of 'MlpPolicy' as the input is frames.\n",
        "# model.learn(total_timesteps=1) #change the number of timesteps as desired and run this command!"
      ]
    },
    {
      "cell_type": "markdown",
      "metadata": {
        "execution": {},
        "id": "hL5TeJHZxX_k"
      },
      "source": [
        "## 5 Obstacle Avoidance and Transfer Learning\n",
        "\n",
        "Your obstacle here is to add an obstacle in the path of the lunar lander (by creating a custom environment as described in point 2 above) and train the model such that the lander lands safely, avoiding collisions. \n",
        "\n",
        "You would first want to devise a mechansim for adding obstacles. For example, you could have an imaginary obstacle at some horizantal and vertical position cooridnates and modify the reward function such that a penalty is levied if the lander comes close to it. \n",
        "\n",
        "An interesting approach to solve this problem is to apply the techniques of transfer learning. For example, you could initialise the neural network model with the weights of the trained model on the original problem to improve the sample effeciency. This can be done using the following code:"
      ]
    },
    {
      "cell_type": "code",
      "execution_count": 192,
      "metadata": {
        "execution": {},
        "id": "w0CeFKHixX_l"
      },
      "outputs": [],
      "source": [
        "## Specify the load path and uncomment below:\n",
        "\n",
        "# model = load(load_path,\n",
        "#              env=gym.make('LunarLander-v2'),\n",
        "#              custom_objects=None, **kwargs)"
      ]
    },
    {
      "cell_type": "markdown",
      "metadata": {
        "execution": {},
        "id": "omfqzwlQxX_l"
      },
      "source": [
        "Following are some of the resources on transfer learning that you would want to start with. \n",
        "\n",
        "**Research Papers**\n",
        "\n",
        "Surveys:\n",
        "1. (Long, Old, Highly cited) Taylor, M. E.,  et al. (2009). Transfer learning for reinforcement learning domains. https://www.jmlr.org/papers/volume10/taylor09a/taylor09a.pdf\n",
        "\n",
        "2. (Medium, Old, Good for a quick read) Lazaric, A. (2012). Transfer in reinforcement learning: a framework and a survey. https://hal.inria.fr/docs/00/77/26/26/PDF/transfer.pdf\n",
        "\n",
        "3. (Medium, Recent, Good for a quick read) Zhu, Z., Lin, K., & Zhou, J. (2020). Transfer learning in deep reinforcement learning. https://arxiv.org/pdf/2009.07888.pdf\n",
        "\n",
        "4. Specific example:\n",
        "Barreto, A., et al. (2016).  Successor features for transfer in reinforcement learning. https://arxiv.org/pdf/1606.05312"
      ]
    },
    {
      "cell_type": "markdown",
      "metadata": {
        "execution": {},
        "id": "er67NMCkxX_l"
      },
      "source": [
        "## 5(b) Transfer Learning in minigrid environment\n",
        "\n",
        "These are some simple gridworld gym environments designed to be particularly simple, lightweight and fast. Refer to https://github.com/maximecb/gym-minigrid for description of the environments. An example to load a minigrid environment is given below:"
      ]
    },
    {
      "cell_type": "code",
      "execution_count": 193,
      "metadata": {
        "execution": {},
        "id": "rVhVBpTwxX_l",
        "outputId": "252d88d1-f6e3-49a9-bcf5-70f97aabac07",
        "colab": {
          "base_uri": "https://localhost:8080/"
        }
      },
      "outputs": [
        {
          "output_type": "stream",
          "name": "stdout",
          "text": [
            "\u001b[?25l\r\u001b[K     |██████▉                         | 10 kB 32.3 MB/s eta 0:00:01\r\u001b[K     |█████████████▋                  | 20 kB 39.4 MB/s eta 0:00:01\r\u001b[K     |████████████████████▌           | 30 kB 41.0 MB/s eta 0:00:01\r\u001b[K     |███████████████████████████▎    | 40 kB 37.9 MB/s eta 0:00:01\r\u001b[K     |████████████████████████████████| 48 kB 4.4 MB/s \n",
            "\u001b[?25h"
          ]
        }
      ],
      "source": [
        "!pip install gym-minigrid --quiet\n",
        "import gym_minigrid\n",
        "env = gym.make('MiniGrid-Empty-5x5-v0')"
      ]
    },
    {
      "cell_type": "markdown",
      "metadata": {
        "execution": {},
        "id": "j21_BZvhxX_l"
      },
      "source": [
        "You can train a standard DQN agent in this env by wrapping the env with full image observation wrappers:\n"
      ]
    },
    {
      "cell_type": "code",
      "execution_count": 194,
      "metadata": {
        "execution": {},
        "id": "a6wuIn_9xX_m"
      },
      "outputs": [],
      "source": [
        "env = gym_minigrid.wrappers.ImgObsWrapper(gym_minigrid.wrappers.RGBImgObsWrapper(env))"
      ]
    },
    {
      "cell_type": "markdown",
      "metadata": {
        "execution": {},
        "id": "M1cS22M0xX_m"
      },
      "source": [
        "Note that with full image observations, the shape of the image observations may differ between envs. For e.g., MiniGrid-Empty-5x5-v0 is (40,40,3) while MiniGrid-Empty-8x8-v0 is (64,64,3). So you may need to resize the observations for transfer learning to work with the same DQN architecture.\n",
        "\n",
        "Now try training a DQN (or another method) in one (or multiple) minigrid env(s),and see if that knowledge transfers to another (or multiple other) minigrid env(s).\n"
      ]
    },
    {
      "cell_type": "markdown",
      "metadata": {
        "execution": {},
        "id": "u5gVtQ5nxX_m"
      },
      "source": [
        "## 6 Preference-Based RL (PBRL)\n",
        "\n",
        "PBRL is an exciting sub-area in RL where the traditional reward structure is replaced with human preferences. This setting is very useful in applications where it is difficult to construct a reward function. \n",
        "\n",
        "In the earlier section, we have successfully trained the lunar lander to land safely. Here, the path that the lander follows to land safely can be arbitrary. In this project, using the techniques of PBRL, you will solve the lunar lander problem with an additional requirement that the lander should follow a specially curated path (for example, a straight line path). Following are some of the resources that will help you to get started with this project. \n",
        "\n",
        "**Research papers:**\n",
        "1. Deep Reinforcement Learning\n",
        "from Human Preferences https://papers.nips.cc/paper/2017/file/d5e2c0adad503c91f91df240d0cd4e49-Paper.pdf\n",
        "2. Deep Q-learning from Demonstrations https://arxiv.org/pdf/1704.03732.pdf\n",
        "3. Reward learning from human preferences https://arxiv.org/pdf/1811.06521.pdf\n",
        "4. T-REX https://arxiv.org/pdf/1904.06387.pdf\n",
        "\n",
        "**Code Bases:**\n",
        "1. https://github.com/nottombrown/rl-teacher\n",
        "2. https://github.com/hiwonjoon/ICML2019-TREX\n"
      ]
    },
    {
      "cell_type": "markdown",
      "metadata": {
        "execution": {},
        "id": "fSwjtmQJxX_m"
      },
      "source": [
        "---\n",
        "# References\n",
        "\n",
        "1. Stable Baselines Framework: https://stable-baselines3.readthedocs.io/en/master/guide/examples.html\n",
        "\n",
        "2. Lunar Lander Environment: https://gym.openai.com/envs/LunarLander-v2/\n",
        "\n",
        "3. OpenAI gym environments: https://gym.openai.com/docs/\n",
        "\n",
        "4. A good reference for introduction to RL: http://incompleteideas.net/book/the-book-2nd.html\n"
      ]
    }
  ],
  "metadata": {
    "accelerator": "GPU",
    "colab": {
      "collapsed_sections": [],
      "name": "lunar_lander másolata másolata",
      "provenance": [],
      "toc_visible": true,
      "include_colab_link": true
    },
    "gpuClass": "standard",
    "kernel": {
      "display_name": "Python 3",
      "language": "python",
      "name": "python3"
    },
    "kernelspec": {
      "display_name": "Python 3",
      "name": "python3"
    },
    "language_info": {
      "name": "python"
    }
  },
  "nbformat": 4,
  "nbformat_minor": 0
}