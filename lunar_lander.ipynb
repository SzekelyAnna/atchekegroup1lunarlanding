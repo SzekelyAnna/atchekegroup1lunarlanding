{
  "cells": [
    {
      "cell_type": "markdown",
      "metadata": {
        "id": "view-in-github",
        "colab_type": "text"
      },
      "source": [
        "<a href=\"https://colab.research.google.com/github/SzekelyAnna/atchekegroup1lunarlanding/blob/main/lunar_lander.ipynb\" target=\"_parent\"><img src=\"https://colab.research.google.com/assets/colab-badge.svg\" alt=\"Open In Colab\"/></a>"
      ]
    },
    {
      "cell_type": "markdown",
      "metadata": {
        "execution": {},
        "id": "SUrSh4XdxX_Y"
      },
      "source": [
        "# Performance Analysis of DQN Algorithm on the Lunar Lander task\n",
        "\n",
        "**By Neuromatch Academy**\n",
        "\n",
        "__Content creators:__ Raghuram Bharadwaj Diddigi, Geraud Nangue Tasse, Yamil Vidal, Sanjukta Krishnagopal, Sara Rajaee\n",
        "\n",
        "__Content editors:__ Spiros Chavlis"
      ]
    },
    {
      "cell_type": "markdown",
      "metadata": {
        "execution": {},
        "id": "wNDGLaOlxX_a"
      },
      "source": [
        "<p align='center'><img src='https://github.com/NeuromatchAcademy/widgets/blob/master/sponsors.png?raw=True'/></p>"
      ]
    },
    {
      "cell_type": "markdown",
      "metadata": {
        "execution": {},
        "id": "uDujxcmLxX_b"
      },
      "source": [
        "---\n",
        "# Objective\n",
        "\n",
        "In this project, the objective is to analyze the performance of the Deep Q-Learning algorithm on an exciting task- Lunar Lander. Before we describe the task, let us focus on two keywords here - analysis and performance. What exactly do we mean by these keywords in the context of Reinforcement Learning (RL)?"
      ]
    },
    {
      "cell_type": "markdown",
      "metadata": {
        "execution": {},
        "id": "S5ONwnv2xX_b"
      },
      "source": [
        "---\n",
        "# Setup"
      ]
    },
    {
      "cell_type": "code",
      "execution_count": 1,
      "metadata": {
        "cellView": "form",
        "execution": {},
        "id": "g_pkwx9SxX_b",
        "colab": {
          "base_uri": "https://localhost:8080/"
        },
        "outputId": "9cef5be7-026a-4ea3-abdb-8038f932b5f7"
      },
      "outputs": [
        {
          "output_type": "stream",
          "name": "stdout",
          "text": [
            "\u001b[K     |████████████████████████████████| 177 kB 5.1 MB/s \n",
            "\u001b[K     |████████████████████████████████| 1.6 MB 65.0 MB/s \n",
            "\u001b[K     |████████████████████████████████| 1.5 MB 58.4 MB/s \n",
            "\u001b[K     |████████████████████████████████| 1.1 MB 64.3 MB/s \n",
            "\u001b[?25h  Installing build dependencies ... \u001b[?25l\u001b[?25hdone\n",
            "  Getting requirements to build wheel ... \u001b[?25l\u001b[?25hdone\n",
            "    Preparing wheel metadata ... \u001b[?25l\u001b[?25hdone\n",
            "  Building wheel for gym (setup.py) ... \u001b[?25l\u001b[?25hdone\n",
            "  Building wheel for AutoROM.accept-rom-license (PEP 517) ... \u001b[?25l\u001b[?25hdone\n",
            "\u001b[K     |████████████████████████████████| 448 kB 5.1 MB/s \n",
            "\u001b[?25h"
          ]
        }
      ],
      "source": [
        "# @title Install dependencies\n",
        "!sudo apt-get update > /dev/null 2>&1\n",
        "!sudo apt-get install -y xvfb python-opengl ffmpeg > /dev/null 2>&1\n",
        "!pip install rarfile --quiet\n",
        "!pip install stable-baselines3[extra] ale-py==0.7.4 --quiet\n",
        "!pip install box2d-py --quiet\n",
        "!pip install gym pyvirtualdisplay --quiet\n",
        "!pip install pyglet --quiet"
      ]
    },
    {
      "cell_type": "code",
      "execution_count": 2,
      "metadata": {
        "execution": {},
        "id": "RX13NcYFxX_c"
      },
      "outputs": [],
      "source": [
        "# Imports\n",
        "import io\n",
        "import os\n",
        "import copy \n",
        "import glob\n",
        "import torch\n",
        "import base64\n",
        "import stable_baselines3\n",
        "\n",
        "import numpy as np\n",
        "import matplotlib.pyplot as plt\n",
        "\n",
        "from stable_baselines3 import DQN\n",
        "from stable_baselines3.common.results_plotter import ts2xy, load_results\n",
        "from stable_baselines3.common.callbacks import EvalCallback\n",
        "from stable_baselines3.common.env_util import make_atari_env\n",
        "\n",
        "import gym\n",
        "from gym import spaces\n",
        "from gym.wrappers import Monitor"
      ]
    },
    {
      "cell_type": "code",
      "execution_count": 3,
      "metadata": {
        "cellView": "form",
        "execution": {},
        "id": "lBj1RawPxX_c"
      },
      "outputs": [],
      "source": [
        "# @title Plotting/Video functions\n",
        "from IPython.display import HTML\n",
        "from pyvirtualdisplay import Display\n",
        "from IPython import display as ipythondisplay\n",
        "\n",
        "display = Display(visible=0, size=(1400, 900))\n",
        "display.start()\n",
        "\n",
        "\"\"\"\n",
        "Utility functions to enable video recording of gym environment\n",
        "and displaying it.\n",
        "To enable video, just do \"env = wrap_env(env)\"\"\n",
        "\"\"\"\n",
        "\n",
        "def show_video():\n",
        "  mp4list = glob.glob('video/*.mp4')\n",
        "  if len(mp4list) > 0:\n",
        "    mp4 = mp4list[0]\n",
        "    video = io.open(mp4, 'r+b').read()\n",
        "    encoded = base64.b64encode(video)\n",
        "    ipythondisplay.display(HTML(data='''<video alt=\"test\" autoplay\n",
        "                loop controls style=\"height: 400px;\">\n",
        "                <source src=\"data:video/mp4;base64,{0}\" type=\"video/mp4\" />\n",
        "             </video>'''.format(encoded.decode('ascii'))))\n",
        "  else:\n",
        "    print(\"Could not find video\")\n",
        "\n",
        "\n",
        "def wrap_env(env):\n",
        "  env = Monitor(env, './video', force=True)\n",
        "  return env"
      ]
    },
    {
      "cell_type": "markdown",
      "metadata": {
        "execution": {},
        "id": "4402FLy0xX_d"
      },
      "source": [
        "---\n",
        "# Introduction\n",
        "\n",
        "In a standard RL setting, an agent learns optimal behavior from an environment through a feedback mechanism to maximize a given objective. Many algorithms have been proposed in the RL literature that an agent can apply to learn the optimal behavior. One such popular algorithm is the Deep Q-Network (DQN). This algorithm makes use of deep neural networks to compute optimal actions. In this project, your goal is to understand the effect of the number of neural network layers on the algorithm's performance. The performance of the algorithm can be evaluated through two metrics - Speed and Stability. \n",
        "\n",
        "**Speed:** How fast the algorithm reaches the maximum possible reward. \n",
        "\n",
        "**Stability** In some applications (especially when online learning is involved), along with speed, stability of the algorithm, i.e., minimal fluctuations in performance, is equally important. \n",
        "\n",
        "In this project, you should investigate the following question:\n",
        "\n",
        "**What is the impact of number of neural network layers on speed and stability of the algorithm?**\n",
        "\n",
        "You do not have to write the DQN code from scratch. We have provided a basic implementation of the DQN algorithm. You only have to tune the hyperparameters (neural network size, learning rate, etc), observe the performance, and analyze. More details on this are provided below. \n",
        "\n",
        "Now, let us discuss the RL task we have chosen, i.e., Lunar Lander. This task consists of the lander and a landing pad marked by two flags. The episode starts with the lander moving downwards due to gravity. The objective is to land safely using different engines available on the lander with zero speed on the landing pad as quickly and fuel efficient as possible. Reward for moving from the top of the screen and landing on landing pad with zero speed is between 100 to 140 points. Each leg ground contact yields a reward of 10 points. Firing main engine leads to a reward of -0.3 points in each frame. Firing the side engine leads to a reward of -0.03 points in each frame. An additional reward of -100 or +100 points is received if the lander crashes or comes to rest respectively which also leads to end of the episode. \n",
        "\n",
        "The input state of the Lunar Lander consists of following components:\n",
        "\n",
        "  1. Horizontal Position\n",
        "  2. Vertical Position\n",
        "  3. Horizontal Velocity\n",
        "  4. Vertical Velocity\n",
        "  5. Angle\n",
        "  6. Angular Velocity\n",
        "  7. Left Leg Contact\n",
        "  8. Right Leg Contact\n",
        "\n",
        "The actions of the agents are:\n",
        "  1. Do Nothing\n",
        "  2. Fire Main Engine\n",
        "  3. Fire Left Engine\n",
        "  4. Fire Right Engine\n",
        "\n",
        "\n",
        "<img src=\"https://raw.githubusercontent.com/NeuromatchAcademy/course-content-dl/main/projects/static/lunar_lander.png\">"
      ]
    },
    {
      "cell_type": "markdown",
      "metadata": {
        "execution": {},
        "id": "mU_epArtxX_d"
      },
      "source": [
        "---\n",
        "# Basic DQN Implementation\n",
        "\n",
        "We will now implement the DQN algorithm using the existing code base. We encourage you to understand this example and re-use it in an application/project of your choice! "
      ]
    },
    {
      "cell_type": "markdown",
      "metadata": {
        "execution": {},
        "id": "0PinQS2CxX_d"
      },
      "source": [
        "Now, let us set some hyperparameters for our algorithm. This is the only part you would play around with, to solve the first part of the project. "
      ]
    },
    {
      "cell_type": "code",
      "execution_count": 4,
      "metadata": {
        "execution": {},
        "id": "RqpRNdCMxX_e"
      },
      "outputs": [],
      "source": [
        "nn_layers = [64,64] #This is the configuration of your neural network. Currently, we have two layers, each consisting of 64 neurons.\n",
        "                    #If you want three layers with 64 neurons each, set the value to [64,64,64] and so on.\n",
        "\n",
        "learning_rate = 0.001 #This is the step-size with which the gradient descent is carried out.\n",
        "                      #Tip: Use smaller step-sizes for larger networks."
      ]
    },
    {
      "cell_type": "code",
      "source": [
        "import pickle as pkl\n",
        "from google.colab import drive\n",
        "drive.mount('/content/gdrive')\n",
        "drive_path = \"/content/gdrive/My Drive/LunarLanding_models/\""
      ],
      "metadata": {
        "id": "ruyg172GXaD3",
        "outputId": "84095dff-0c93-4a36-a4fc-1171edbb7a91",
        "colab": {
          "base_uri": "https://localhost:8080/"
        }
      },
      "execution_count": 5,
      "outputs": [
        {
          "output_type": "stream",
          "name": "stdout",
          "text": [
            "Mounted at /content/gdrive\n"
          ]
        }
      ]
    },
    {
      "cell_type": "code",
      "source": [
        "def get_model_weights(model, model_name):\n",
        "  ''' This is a function to check the model weights. One can compare trained and untraind models' weights in this way.'''\n",
        "  \n",
        "\n",
        "  #print ('Sanity check. Comparing model weights for', model_names, models)\n",
        "  #for model, model_name in zip(models, model_names): \n",
        "  weight_list = []\n",
        "  keys = [item for item in model.policy.state_dict()]\n",
        "  for key in keys:\n",
        "    weight_list.append(torch.sum(model.policy.state_dict()[key]))\n",
        "  return model_name, weight_list"
      ],
      "metadata": {
        "id": "MKAZGipLY7jp"
      },
      "execution_count": 6,
      "outputs": []
    },
    {
      "cell_type": "code",
      "source": [
        "## Is it reasonable to compare the pretrained weights with the trained weights? \n",
        "\n",
        "def set_device():\n",
        "  \"\"\"\n",
        "  Set the device. CUDA if available, CPU otherwise\n",
        "\n",
        "  Args:\n",
        "    None\n",
        "\n",
        "  Returns:\n",
        "    Nothing\n",
        "  \"\"\"\n",
        "  device = \"cuda\" if torch.cuda.is_available() else \"cpu\"\n",
        "  if device != \"cuda\":\n",
        "    print(\"GPU is not enabled in this notebook. \\n\"\n",
        "          \"If you want to enable it, in the menu under `Runtime` -> \\n\"\n",
        "          \"`Hardware accelerator.` and select `GPU` from the dropdown menu\")\n",
        "  else:\n",
        "    print(\"GPU is enabled in this notebook. \\n\"\n",
        "          \"If you want to disable it, in the menu under `Runtime` -> \\n\"\n",
        "          \"`Hardware accelerator.` and select `None` from the dropdown menu\")\n",
        "\n",
        "  return device\n",
        "\n",
        "\n",
        "DEVICE = set_device()\n",
        "\n"
      ],
      "metadata": {
        "colab": {
          "base_uri": "https://localhost:8080/"
        },
        "id": "V9cqv3VmY-or",
        "outputId": "efd4477e-813f-4e2d-a97d-078a0b3f9f52"
      },
      "execution_count": 7,
      "outputs": [
        {
          "output_type": "stream",
          "name": "stdout",
          "text": [
            "GPU is enabled in this notebook. \n",
            "If you want to disable it, in the menu under `Runtime` -> \n",
            "`Hardware accelerator.` and select `None` from the dropdown menu\n"
          ]
        }
      ]
    },
    {
      "cell_type": "markdown",
      "metadata": {
        "execution": {},
        "id": "HaCzlYg-xX_e"
      },
      "source": [
        "Now, let us setup our model and the DQN algorithm. "
      ]
    },
    {
      "cell_type": "code",
      "execution_count": 8,
      "metadata": {
        "execution": {},
        "id": "m5OGFaqcxX_e"
      },
      "outputs": [],
      "source": [
        "log_dir = \"/tmp/gym/\"\n",
        "os.makedirs(log_dir, exist_ok=True)\n",
        "\n",
        "# Create environment\n",
        "env = gym.make('LunarLander-v2')\n",
        "#You can also load other environments like cartpole, MountainCar, Acrobot. Refer to https://gym.openai.com/docs/ for descriptions.\n",
        "#For example, if you would like to load Cartpole, just replace the above statement with \"env = gym.make('CartPole-v1')\".\n",
        "\n",
        "env = stable_baselines3.common.monitor.Monitor(env, log_dir )\n",
        "\n",
        "callback = EvalCallback(env,log_path = log_dir, deterministic=True) #For evaluating the performance of the agent periodically and logging the results.\n",
        "policy_kwargs = dict(activation_fn=torch.nn.ReLU,\n",
        "                     net_arch=nn_layers)\n",
        "model = DQN(\"MlpPolicy\", env,policy_kwargs = policy_kwargs,\n",
        "            learning_rate=learning_rate,\n",
        "            batch_size=1,  #for simplicity, we are not doing batch update.\n",
        "            buffer_size=1, #size of experience of replay buffer. Set to 1 as batch update is not done\n",
        "            learning_starts=1, #learning starts immediately!\n",
        "            gamma=0.99, #discount facto. range is between 0 and 1.\n",
        "            tau = 1,  #the soft update coefficient for updating the target network\n",
        "            target_update_interval=1, #update the target network immediately.\n",
        "            train_freq=(1,\"step\"), #train the network at every step.\n",
        "            max_grad_norm = 10, #the maximum value for the gradient clipping\n",
        "            exploration_initial_eps = 1, #initial value of random action probability\n",
        "            exploration_fraction = 0.5, #fraction of entire training period over which the exploration rate is reduced\n",
        "            gradient_steps = 1, #number of gradient steps\n",
        "            seed = 1, #seed for the pseudo random generators\n",
        "            verbose=0) #Set verbose to 1 to observe training logs. We encourage you to set the verbose to 1.\n",
        "\n",
        "# You can also experiment with other RL algorithms like A2C, PPO, DDPG etc. Refer to  https://stable-baselines3.readthedocs.io/en/master/guide/examples.html\n",
        "#for documentation. For example, if you would like to run DDPG, just replace \"DQN\" above with \"DDPG\"."
      ]
    },
    {
      "cell_type": "code",
      "source": [
        " ## save untrained model weights to compare before training and after training weights\n",
        "untrained_model_weights = get_model_weights(model, 'untrained model')\n",
        "untrained_model_weights"
      ],
      "metadata": {
        "colab": {
          "base_uri": "https://localhost:8080/"
        },
        "id": "1L1hvx6yYqWa",
        "outputId": "fd1d4af3-3b0d-4579-9125-b645e003793c"
      },
      "execution_count": 9,
      "outputs": [
        {
          "output_type": "execute_result",
          "data": {
            "text/plain": [
              "('untrained model',\n",
              " [tensor(2.5560, device='cuda:0'),\n",
              "  tensor(-3.8614, device='cuda:0'),\n",
              "  tensor(-7.8497, device='cuda:0'),\n",
              "  tensor(0.2273, device='cuda:0'),\n",
              "  tensor(0.2720, device='cuda:0'),\n",
              "  tensor(-0.1196, device='cuda:0'),\n",
              "  tensor(2.5560, device='cuda:0'),\n",
              "  tensor(-3.8614, device='cuda:0'),\n",
              "  tensor(-7.8497, device='cuda:0'),\n",
              "  tensor(0.2273, device='cuda:0'),\n",
              "  tensor(0.2720, device='cuda:0'),\n",
              "  tensor(-0.1196, device='cuda:0')])"
            ]
          },
          "metadata": {},
          "execution_count": 9
        }
      ]
    },
    {
      "cell_type": "markdown",
      "source": [
        "### Saving the undtrained model\n",
        "\n"
      ],
      "metadata": {
        "id": "SYT7-FG0fBTp"
      }
    },
    {
      "cell_type": "code",
      "source": [
        "model_version = \"untrained_DQN\"\n",
        "model.save(drive_path + model_version)"
      ],
      "metadata": {
        "id": "xph7iZ-SeiXH"
      },
      "execution_count": 10,
      "outputs": []
    },
    {
      "cell_type": "code",
      "source": [
        "#print (model, '\\n', untrained_model)"
      ],
      "metadata": {
        "id": "fUvOtD1pJrfS"
      },
      "execution_count": 11,
      "outputs": []
    },
    {
      "cell_type": "code",
      "source": [
        "#untrained_model.policy.state_dict()\n",
        "#model.policy.state_dict()"
      ],
      "metadata": {
        "id": "C4uz72Zjap0v"
      },
      "execution_count": 12,
      "outputs": []
    },
    {
      "cell_type": "markdown",
      "metadata": {
        "execution": {},
        "id": "HojzbSG1xX_e"
      },
      "source": [
        "Before we train the model, let us look at an instance of Lunar Lander **before training**.  \n",
        "\n",
        "**Note:** The following code for rendering the video is taken from https://colab.research.google.com/github/jeffheaton/t81_558_deep_learning/blob/master/t81_558_class_12_01_ai_gym.ipynb#scrollTo=T9RpF49oOsZj"
      ]
    },
    {
      "cell_type": "code",
      "execution_count": 13,
      "metadata": {
        "execution": {},
        "colab": {
          "base_uri": "https://localhost:8080/",
          "height": 421
        },
        "id": "bbE6asJGxX_f",
        "outputId": "8c2698f7-98a7-4e30-f14d-7c6650696c19"
      },
      "outputs": [
        {
          "output_type": "display_data",
          "data": {
            "text/plain": [
              "<IPython.core.display.HTML object>"
            ],
            "text/html": [
              "<video alt=\"test\" autoplay\n",
              "                loop controls style=\"height: 400px;\">\n",
              "                <source src=\"data:video/mp4;base64,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\" type=\"video/mp4\" />\n",
              "             </video>"
            ]
          },
          "metadata": {}
        }
      ],
      "source": [
        "test_env = wrap_env(gym.make(\"LunarLander-v2\"))\n",
        "observation = test_env.reset()\n",
        "total_reward = 0\n",
        "while True:\n",
        "  test_env.render()\n",
        "  action, states = model.predict(observation, deterministic=True)\n",
        "  observation, reward, done, info = test_env.step(action)\n",
        "  total_reward += reward\n",
        "  if done:\n",
        "    break;\n",
        "\n",
        "# print(total_reward)\n",
        "test_env.close()\n",
        "show_video()"
      ]
    },
    {
      "cell_type": "markdown",
      "metadata": {
        "execution": {},
        "id": "LAyOXncPxX_f"
      },
      "source": [
        "From the video above, we see that the lander has crashed! \n",
        "It is now the time for training! \n"
      ]
    },
    {
      "cell_type": "code",
      "execution_count": 14,
      "metadata": {
        "execution": {},
        "colab": {
          "base_uri": "https://localhost:8080/"
        },
        "id": "CeQmEI1dxX_g",
        "outputId": "9eae7743-4354-40d5-9a9b-376c5c2d4a4a"
      },
      "outputs": [
        {
          "output_type": "stream",
          "name": "stdout",
          "text": [
            "Eval num_timesteps=10000, episode_reward=-112.41 +/- 26.14\n",
            "Episode length: 78.40 +/- 9.65\n",
            "New best mean reward!\n",
            "Eval num_timesteps=20000, episode_reward=-151.83 +/- 35.93\n",
            "Episode length: 1000.00 +/- 0.00\n",
            "Eval num_timesteps=30000, episode_reward=175.11 +/- 125.95\n",
            "Episode length: 484.00 +/- 63.43\n",
            "New best mean reward!\n",
            "Eval num_timesteps=40000, episode_reward=-97.35 +/- 24.98\n",
            "Episode length: 1000.00 +/- 0.00\n"
          ]
        },
        {
          "output_type": "execute_result",
          "data": {
            "text/plain": [
              "<stable_baselines3.dqn.dqn.DQN at 0x7f03622ec750>"
            ]
          },
          "metadata": {},
          "execution_count": 14
        }
      ],
      "source": [
        "model.learn(total_timesteps=40000, log_interval=10, callback=callback)\n",
        "# The performance of the training will be printed every 10 episodes. Change it to 1, if you wish to\n",
        "# view the performance at every training episode."
      ]
    },
    {
      "cell_type": "code",
      "source": [
        "trained_model_weights = get_model_weights(model, 'trained_model')"
      ],
      "metadata": {
        "id": "Df1X32nCEBEs"
      },
      "execution_count": 15,
      "outputs": []
    },
    {
      "cell_type": "code",
      "source": [
        "## Here we can compare the change in the model weights"
      ],
      "metadata": {
        "id": "pAKMNTHLb8JG"
      },
      "execution_count": 16,
      "outputs": []
    },
    {
      "cell_type": "code",
      "source": [
        "untrained_model_weights, trained_model_weights"
      ],
      "metadata": {
        "colab": {
          "base_uri": "https://localhost:8080/"
        },
        "id": "EVbpk3ZUbye5",
        "outputId": "22998fc2-401a-4ea7-f2da-1880df9a9eb1"
      },
      "execution_count": 17,
      "outputs": [
        {
          "output_type": "execute_result",
          "data": {
            "text/plain": [
              "(('untrained model',\n",
              "  [tensor(2.5560, device='cuda:0'),\n",
              "   tensor(-3.8614, device='cuda:0'),\n",
              "   tensor(-7.8497, device='cuda:0'),\n",
              "   tensor(0.2273, device='cuda:0'),\n",
              "   tensor(0.2720, device='cuda:0'),\n",
              "   tensor(-0.1196, device='cuda:0'),\n",
              "   tensor(2.5560, device='cuda:0'),\n",
              "   tensor(-3.8614, device='cuda:0'),\n",
              "   tensor(-7.8497, device='cuda:0'),\n",
              "   tensor(0.2273, device='cuda:0'),\n",
              "   tensor(0.2720, device='cuda:0'),\n",
              "   tensor(-0.1196, device='cuda:0')]),\n",
              " ('trained_model',\n",
              "  [tensor(12.0458, device='cuda:0'),\n",
              "   tensor(3.1706, device='cuda:0'),\n",
              "   tensor(-15.6969, device='cuda:0'),\n",
              "   tensor(1.2256, device='cuda:0'),\n",
              "   tensor(10.6075, device='cuda:0'),\n",
              "   tensor(-0.0283, device='cuda:0'),\n",
              "   tensor(12.0429, device='cuda:0'),\n",
              "   tensor(3.1703, device='cuda:0'),\n",
              "   tensor(-15.7032, device='cuda:0'),\n",
              "   tensor(1.2256, device='cuda:0'),\n",
              "   tensor(10.6130, device='cuda:0'),\n",
              "   tensor(-0.0280, device='cuda:0')]))"
            ]
          },
          "metadata": {},
          "execution_count": 17
        }
      ]
    },
    {
      "cell_type": "markdown",
      "source": [
        "# Savig and loading the model\n",
        "How to save to google drive: https://colab.research.google.com/drive/1CN7JxLA_Qk1Clc4CM75rSAqIlUKIF8xZ#scrollTo=T_tDc-oMEY22\n",
        "\n",
        "You can chack the saved models' directory here: https://drive.google.com/drive/folders/1ctYdReK3WwH-qxuusyKZAeM7iYfU9C04"
      ],
      "metadata": {
        "id": "gmtIx2TL6orI"
      }
    },
    {
      "cell_type": "markdown",
      "source": [
        "### Save to model to google drive "
      ],
      "metadata": {
        "id": "qSXccZCM7pvb"
      }
    },
    {
      "cell_type": "code",
      "source": [
        "model_version = \"DQN_model_1\"\n",
        "model.save(drive_path + model_version)"
      ],
      "metadata": {
        "id": "jGuyCjnC6njL"
      },
      "execution_count": 19,
      "outputs": []
    },
    {
      "cell_type": "markdown",
      "source": [
        "NB!!! load function re-creates model from scratch on each call, which can be slow. If you need to e.g. evaluate same model with multiple different sets of parameters, consider using load_parameters instead."
      ],
      "metadata": {
        "id": "FoFxAvdLFWyy"
      }
    },
    {
      "cell_type": "code",
      "source": [
        "env = gym.make('LunarLander-v2') ## I'm not quite sure why these coods needed but without it raise an error. \n",
        "env.reset()\n",
        "model2 = DQN.load(drive_path + model_version, env = env)\n",
        "#model2_pretraining = model2"
      ],
      "metadata": {
        "id": "W2rKLqos_bOe"
      },
      "execution_count": 21,
      "outputs": []
    },
    {
      "cell_type": "markdown",
      "source": [
        "### Compare the saved and untrained models' weights"
      ],
      "metadata": {
        "id": "mpzrpT268jvp"
      }
    },
    {
      "cell_type": "code",
      "source": [
        "reloaded_model_weights = get_model_weights(model2, 'reloaded model')"
      ],
      "metadata": {
        "id": "s54-cKP-b08g"
      },
      "execution_count": 26,
      "outputs": []
    },
    {
      "cell_type": "code",
      "source": [
        "untrained_model_weights, trained_model_weights, reloaded_model_weights"
      ],
      "metadata": {
        "colab": {
          "base_uri": "https://localhost:8080/"
        },
        "id": "PLUvjCyVde0Z",
        "outputId": "7f816383-8762-46dd-f67d-ee342b781b97"
      },
      "execution_count": 27,
      "outputs": [
        {
          "output_type": "execute_result",
          "data": {
            "text/plain": [
              "(('untrained model',\n",
              "  [tensor(2.5560, device='cuda:0'),\n",
              "   tensor(-3.8614, device='cuda:0'),\n",
              "   tensor(-7.8497, device='cuda:0'),\n",
              "   tensor(0.2273, device='cuda:0'),\n",
              "   tensor(0.2720, device='cuda:0'),\n",
              "   tensor(-0.1196, device='cuda:0'),\n",
              "   tensor(2.5560, device='cuda:0'),\n",
              "   tensor(-3.8614, device='cuda:0'),\n",
              "   tensor(-7.8497, device='cuda:0'),\n",
              "   tensor(0.2273, device='cuda:0'),\n",
              "   tensor(0.2720, device='cuda:0'),\n",
              "   tensor(-0.1196, device='cuda:0')]),\n",
              " ('trained_model',\n",
              "  [tensor(12.0458, device='cuda:0'),\n",
              "   tensor(3.1706, device='cuda:0'),\n",
              "   tensor(-15.6969, device='cuda:0'),\n",
              "   tensor(1.2256, device='cuda:0'),\n",
              "   tensor(10.6075, device='cuda:0'),\n",
              "   tensor(-0.0283, device='cuda:0'),\n",
              "   tensor(12.0429, device='cuda:0'),\n",
              "   tensor(3.1703, device='cuda:0'),\n",
              "   tensor(-15.7032, device='cuda:0'),\n",
              "   tensor(1.2256, device='cuda:0'),\n",
              "   tensor(10.6130, device='cuda:0'),\n",
              "   tensor(-0.0280, device='cuda:0')]),\n",
              " ('reloaded model',\n",
              "  [tensor(12.0458, device='cuda:0'),\n",
              "   tensor(3.1706, device='cuda:0'),\n",
              "   tensor(-15.6969, device='cuda:0'),\n",
              "   tensor(1.2256, device='cuda:0'),\n",
              "   tensor(10.6075, device='cuda:0'),\n",
              "   tensor(-0.0283, device='cuda:0'),\n",
              "   tensor(12.0429, device='cuda:0'),\n",
              "   tensor(3.1703, device='cuda:0'),\n",
              "   tensor(-15.7032, device='cuda:0'),\n",
              "   tensor(1.2256, device='cuda:0'),\n",
              "   tensor(10.6130, device='cuda:0'),\n",
              "   tensor(-0.0280, device='cuda:0')]))"
            ]
          },
          "metadata": {},
          "execution_count": 27
        }
      ]
    },
    {
      "cell_type": "code",
      "source": [
        "## As expected weights for the first model (untrained) much smaller than weights for the trained model."
      ],
      "metadata": {
        "id": "SG3WCxLLQLCb"
      },
      "execution_count": 28,
      "outputs": []
    },
    {
      "cell_type": "code",
      "source": [
        "# The model should be loaded to the GPU... \n",
        "model.learn(total_timesteps=40000, log_interval=10, callback=callback)"
      ],
      "metadata": {
        "id": "2c7CoyjSYvyu",
        "colab": {
          "base_uri": "https://localhost:8080/"
        },
        "outputId": "f91d981a-a47d-4291-e590-ff9b97e775a7"
      },
      "execution_count": 29,
      "outputs": [
        {
          "output_type": "stream",
          "name": "stdout",
          "text": [
            "Eval num_timesteps=10000, episode_reward=-538.89 +/- 224.37\n",
            "Episode length: 69.00 +/- 12.33\n",
            "Eval num_timesteps=20000, episode_reward=-577.71 +/- 133.19\n",
            "Episode length: 70.40 +/- 7.86\n",
            "Eval num_timesteps=30000, episode_reward=-452.50 +/- 78.99\n",
            "Episode length: 55.60 +/- 5.28\n",
            "Eval num_timesteps=40000, episode_reward=-572.43 +/- 113.59\n",
            "Episode length: 70.00 +/- 7.07\n"
          ]
        },
        {
          "output_type": "execute_result",
          "data": {
            "text/plain": [
              "<stable_baselines3.dqn.dqn.DQN at 0x7f03622ec750>"
            ]
          },
          "metadata": {},
          "execution_count": 29
        }
      ]
    },
    {
      "cell_type": "markdown",
      "source": [
        "## Saving the twice trained model"
      ],
      "metadata": {
        "id": "IZDFyd_nsEev"
      }
    },
    {
      "cell_type": "code",
      "source": [
        "model_version = \"twice_trained_model\"\n",
        "model.save(drive_path + model_version)"
      ],
      "metadata": {
        "id": "l0hxC1rGsCgr"
      },
      "execution_count": 30,
      "outputs": []
    },
    {
      "cell_type": "code",
      "source": [
        "twice_trained_model_weights = get_model_weights(model, 'twice trained model')"
      ],
      "metadata": {
        "id": "WubbYGspaZh9"
      },
      "execution_count": 31,
      "outputs": []
    },
    {
      "cell_type": "code",
      "source": [
        "untrained_model_weights, trained_model_weights, twice_trained_model_weights"
      ],
      "metadata": {
        "colab": {
          "base_uri": "https://localhost:8080/"
        },
        "id": "CxZ9IlUrltaz",
        "outputId": "5f13e05e-99a3-4838-b7f5-7c7a21768443"
      },
      "execution_count": 32,
      "outputs": [
        {
          "output_type": "execute_result",
          "data": {
            "text/plain": [
              "(('untrained model',\n",
              "  [tensor(2.5560, device='cuda:0'),\n",
              "   tensor(-3.8614, device='cuda:0'),\n",
              "   tensor(-7.8497, device='cuda:0'),\n",
              "   tensor(0.2273, device='cuda:0'),\n",
              "   tensor(0.2720, device='cuda:0'),\n",
              "   tensor(-0.1196, device='cuda:0'),\n",
              "   tensor(2.5560, device='cuda:0'),\n",
              "   tensor(-3.8614, device='cuda:0'),\n",
              "   tensor(-7.8497, device='cuda:0'),\n",
              "   tensor(0.2273, device='cuda:0'),\n",
              "   tensor(0.2720, device='cuda:0'),\n",
              "   tensor(-0.1196, device='cuda:0')]),\n",
              " ('trained_model',\n",
              "  [tensor(12.0458, device='cuda:0'),\n",
              "   tensor(3.1706, device='cuda:0'),\n",
              "   tensor(-15.6969, device='cuda:0'),\n",
              "   tensor(1.2256, device='cuda:0'),\n",
              "   tensor(10.6075, device='cuda:0'),\n",
              "   tensor(-0.0283, device='cuda:0'),\n",
              "   tensor(12.0429, device='cuda:0'),\n",
              "   tensor(3.1703, device='cuda:0'),\n",
              "   tensor(-15.7032, device='cuda:0'),\n",
              "   tensor(1.2256, device='cuda:0'),\n",
              "   tensor(10.6130, device='cuda:0'),\n",
              "   tensor(-0.0280, device='cuda:0')]),\n",
              " ('twice trained model',\n",
              "  [tensor(3497.0627, device='cuda:0'),\n",
              "   tensor(2820.5381, device='cuda:0'),\n",
              "   tensor(63829.4688, device='cuda:0'),\n",
              "   tensor(1373.1145, device='cuda:0'),\n",
              "   tensor(2591.4475, device='cuda:0'),\n",
              "   tensor(62.9016, device='cuda:0'),\n",
              "   tensor(3497.0134, device='cuda:0'),\n",
              "   tensor(2820.4961, device='cuda:0'),\n",
              "   tensor(63828.6719, device='cuda:0'),\n",
              "   tensor(1373.0925, device='cuda:0'),\n",
              "   tensor(2591.4014, device='cuda:0'),\n",
              "   tensor(62.8999, device='cuda:0')]))"
            ]
          },
          "metadata": {},
          "execution_count": 32
        }
      ]
    },
    {
      "cell_type": "markdown",
      "source": [
        "# Check out the model parameters for saving "
      ],
      "metadata": {
        "id": "vFxbjPFQnnt3"
      }
    },
    {
      "cell_type": "markdown",
      "source": [
        "### We have qite a strange model architecture... Aren't we?? \n",
        "\n",
        "We have two set of network parameters... a q_net, and a q_net_target. \n",
        "We also have numbered layers but it goes as 0,2, 4... Where is 1 and 2??? "
      ],
      "metadata": {
        "id": "i_4FHC-iqwVo"
      }
    },
    {
      "cell_type": "code",
      "source": [
        "model.policy.state_dict().keys()\n",
        "[item for item in model.policy.state_dict().keys()]"
      ],
      "metadata": {
        "colab": {
          "base_uri": "https://localhost:8080/"
        },
        "id": "y4IxQozrqa9b",
        "outputId": "7916825b-b54c-41de-e71f-ba36a0c7a53d"
      },
      "execution_count": 33,
      "outputs": [
        {
          "output_type": "execute_result",
          "data": {
            "text/plain": [
              "['q_net.q_net.0.weight',\n",
              " 'q_net.q_net.0.bias',\n",
              " 'q_net.q_net.2.weight',\n",
              " 'q_net.q_net.2.bias',\n",
              " 'q_net.q_net.4.weight',\n",
              " 'q_net.q_net.4.bias',\n",
              " 'q_net_target.q_net.0.weight',\n",
              " 'q_net_target.q_net.0.bias',\n",
              " 'q_net_target.q_net.2.weight',\n",
              " 'q_net_target.q_net.2.bias',\n",
              " 'q_net_target.q_net.4.weight',\n",
              " 'q_net_target.q_net.4.bias']"
            ]
          },
          "metadata": {},
          "execution_count": 33
        }
      ]
    },
    {
      "cell_type": "markdown",
      "source": [
        "## q_net and q_net_target have the same shapes"
      ],
      "metadata": {
        "id": "lKLAV9qduRhX"
      }
    },
    {
      "cell_type": "code",
      "source": [
        "[model.policy.state_dict()['q_net.q_net.'+str(item)+'.weight'].shape for item in [0, 2, 4 ]]"
      ],
      "metadata": {
        "colab": {
          "base_uri": "https://localhost:8080/"
        },
        "id": "HwiyFBybqcyv",
        "outputId": "4be26fda-972e-4677-b97c-55dd035b544f"
      },
      "execution_count": 34,
      "outputs": [
        {
          "output_type": "execute_result",
          "data": {
            "text/plain": [
              "[torch.Size([64, 8]), torch.Size([64, 64]), torch.Size([4, 64])]"
            ]
          },
          "metadata": {},
          "execution_count": 34
        }
      ]
    },
    {
      "cell_type": "code",
      "source": [
        "[model.policy.state_dict()['q_net_target.q_net.'+str(item)+'.weight'].shape for item in [0, 2, 4 ]]"
      ],
      "metadata": {
        "colab": {
          "base_uri": "https://localhost:8080/"
        },
        "id": "2TGJHq9lupxf",
        "outputId": "f11e597a-8223-44a4-e16b-1cdd885c268e"
      },
      "execution_count": 35,
      "outputs": [
        {
          "output_type": "execute_result",
          "data": {
            "text/plain": [
              "[torch.Size([64, 8]), torch.Size([64, 64]), torch.Size([4, 64])]"
            ]
          },
          "metadata": {},
          "execution_count": 35
        }
      ]
    },
    {
      "cell_type": "markdown",
      "source": [
        "## Exploring the weights & customizing them "
      ],
      "metadata": {
        "id": "RIcgVZIJvvEZ"
      }
    },
    {
      "cell_type": "code",
      "source": [
        "model_weights = model.policy.state_dict()\n",
        "model_weights.update(OrderedDict.fromkeys(['q_net.q_net.2.weight'], torch.zeros(64,64)))\n",
        "model_weights['q_net.q_net.2.weight']"
      ],
      "metadata": {
        "id": "19c37bSSgBkg",
        "outputId": "71121889-9e2f-480b-dcc2-1c95630b5af5",
        "colab": {
          "base_uri": "https://localhost:8080/"
        }
      },
      "execution_count": 101,
      "outputs": [
        {
          "output_type": "execute_result",
          "data": {
            "text/plain": [
              "tensor([[0., 0., 0.,  ..., 0., 0., 0.],\n",
              "        [0., 0., 0.,  ..., 0., 0., 0.],\n",
              "        [0., 0., 0.,  ..., 0., 0., 0.],\n",
              "        ...,\n",
              "        [0., 0., 0.,  ..., 0., 0., 0.],\n",
              "        [0., 0., 0.,  ..., 0., 0., 0.],\n",
              "        [0., 0., 0.,  ..., 0., 0., 0.]])"
            ]
          },
          "metadata": {},
          "execution_count": 101
        }
      ]
    },
    {
      "cell_type": "code",
      "source": [
        ""
      ],
      "metadata": {
        "id": "fzOYMFwCh4CT"
      },
      "execution_count": 100,
      "outputs": []
    },
    {
      "cell_type": "code",
      "source": [
        ""
      ],
      "metadata": {
        "id": "1DO8z_1Jh74v"
      },
      "execution_count": 100,
      "outputs": []
    },
    {
      "cell_type": "code",
      "source": [
        "## Useful sources \n",
        "# https://www.analyticsvidhya.com/blog/2021/05/a-complete-hands-on-guide-to-train-your-neural-network-model-on-google-colab-gpu/\n",
        "# https://pytorch.org/tutorials/recipes/recipes/save_load_across_devices.html"
      ],
      "metadata": {
        "id": "iTymvIWs_eBO"
      },
      "execution_count": 81,
      "outputs": []
    },
    {
      "cell_type": "code",
      "source": [
        ""
      ],
      "metadata": {
        "id": "pXWV6dhx2gIA"
      },
      "execution_count": 81,
      "outputs": []
    },
    {
      "cell_type": "code",
      "source": [
        ""
      ],
      "metadata": {
        "id": "3MVWTpHGC7zf"
      },
      "execution_count": 81,
      "outputs": []
    },
    {
      "cell_type": "code",
      "source": [
        ""
      ],
      "metadata": {
        "id": "DpxeA8i9C9KW"
      },
      "execution_count": 81,
      "outputs": []
    },
    {
      "cell_type": "code",
      "source": [
        ""
      ],
      "metadata": {
        "id": "WZcZDPEgC87s"
      },
      "execution_count": 81,
      "outputs": []
    },
    {
      "cell_type": "code",
      "source": [
        "#def get_default_device():\n",
        "#    \"\"\"Picking GPU if available or else CPU\"\"\"\n",
        "#    if torch.cuda.is_available():\n",
        "#        return torch.device('cuda')\n",
        "#    else:\n",
        "#        return torch.device('cpu')\n",
        "\n",
        "\n",
        "\n",
        "#device = get_default_device()\n",
        "#device"
      ],
      "metadata": {
        "id": "a1MxLssM9uSS"
      },
      "execution_count": 82,
      "outputs": []
    },
    {
      "cell_type": "code",
      "source": [
        ""
      ],
      "metadata": {
        "id": "bnjqiSgcNsSl"
      },
      "execution_count": 82,
      "outputs": []
    },
    {
      "cell_type": "code",
      "source": [
        ""
      ],
      "metadata": {
        "id": "W1OrpkQLbQRS"
      },
      "execution_count": 82,
      "outputs": []
    },
    {
      "cell_type": "code",
      "source": [
        ""
      ],
      "metadata": {
        "id": "ImlkaDMbbQGH"
      },
      "execution_count": 82,
      "outputs": []
    },
    {
      "cell_type": "code",
      "source": [
        ""
      ],
      "metadata": {
        "id": "mgb0FzgQbP49"
      },
      "execution_count": 82,
      "outputs": []
    },
    {
      "cell_type": "code",
      "source": [
        ""
      ],
      "metadata": {
        "id": "wSn8FySwI35e"
      },
      "execution_count": 82,
      "outputs": []
    },
    {
      "cell_type": "markdown",
      "metadata": {
        "execution": {},
        "id": "ZjxOTq4LxX_g"
      },
      "source": [
        "The training takes time. We encourage you to analyze the output logs (set verbose to 1 to print the output logs). The main component of the logs that you should track is \"ep_rew_mean\" (mean of episode rewards). As the training proceeds, the value of \"ep_rew_mean\" should increase. The improvement need not be monotonic, but the trend should be upwards! \n",
        "\n",
        "Along with training, we are also periodically evaluating the performance of the current model during the training. This was reported in logs as follows:\n",
        "\n",
        "```\n",
        "Eval num_timesteps=100000, episode_reward=63.41 +/- 130.02\n",
        "Episode length: 259.80 +/- 47.47\n",
        "```"
      ]
    },
    {
      "cell_type": "markdown",
      "metadata": {
        "execution": {},
        "id": "SrFuUfrKxX_g"
      },
      "source": [
        "Now, let us look at the visual performance of the lander. \n",
        "\n",
        "**Note:** The performance varies across different seeds and runs. This code is not optimized to be stable across all runs and seeds. We hope you will be able to find an optimal configuration! "
      ]
    },
    {
      "cell_type": "code",
      "execution_count": 83,
      "metadata": {
        "execution": {},
        "id": "E3tB4vr8xX_g",
        "outputId": "5618510d-fa62-4020-a61e-d73a3c02f195",
        "colab": {
          "base_uri": "https://localhost:8080/",
          "height": 421
        }
      },
      "outputs": [
        {
          "output_type": "display_data",
          "data": {
            "text/plain": [
              "<IPython.core.display.HTML object>"
            ],
            "text/html": [
              "<video alt=\"test\" autoplay\n",
              "                loop controls style=\"height: 400px;\">\n",
              "                <source src=\"data:video/mp4;base64,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\" type=\"video/mp4\" />\n",
              "             </video>"
            ]
          },
          "metadata": {}
        }
      ],
      "source": [
        "env = wrap_env(gym.make(\"LunarLander-v2\"))\n",
        "observation = env.reset()\n",
        "while True:\n",
        "  env.render()\n",
        "  action, _states = model.predict(observation, deterministic=True)\n",
        "  observation, reward, done, info = env.step(action)\n",
        "  if done:\n",
        "    break;\n",
        "\n",
        "env.close()\n",
        "show_video()"
      ]
    },
    {
      "cell_type": "markdown",
      "metadata": {
        "execution": {},
        "id": "BHP2XmSwxX_h"
      },
      "source": [
        "The lander has landed safely!!\n",
        "\n",
        "Let us analyze its performance (speed and stability). For this purpose, we plot the number of time steps on the X-axis and the episodic reward given by the trained model on the Y-axis. "
      ]
    },
    {
      "cell_type": "code",
      "execution_count": null,
      "metadata": {
        "execution": {},
        "id": "qK7N3LOrxX_h"
      },
      "outputs": [],
      "source": [
        "x, y = ts2xy(load_results(log_dir), 'timesteps')  # Organising the logged results in to a clean format for plotting.\n",
        "plt.plot(x,y)\n",
        "plt.ylim([-300, 300])\n",
        "plt.xlabel('Timesteps')\n",
        "plt.ylabel('Episode Rewards')"
      ]
    },
    {
      "cell_type": "markdown",
      "metadata": {
        "execution": {},
        "id": "suJ6uC2fxX_h"
      },
      "source": [
        "From the above plot, we observe that, although the maximum reward is achieved quickly. Achieving an episodic reward of > 200 is good. We see that the agent has achieved it in less than 50000 timesteps (speed is good!). However, there are a lot of fluctuations in the performance (stability is not good!). \n",
        "\n",
        "Your objective now is to modify the model parameters (nn_layers, learning_rate in the code cell #2 above), run all the cells following it and investigate the stability and speed of the chosen configuration.   \n"
      ]
    },
    {
      "cell_type": "code",
      "source": [
        "## Check model parameters with these snippets\n",
        "# model2.get_parameters()\n",
        "# model2.get_parameters().keys()"
      ],
      "metadata": {
        "id": "PqSrTSnp_WgV"
      },
      "execution_count": null,
      "outputs": []
    },
    {
      "cell_type": "code",
      "source": [
        ""
      ],
      "metadata": {
        "id": "cGNlDuZGcU84"
      },
      "execution_count": null,
      "outputs": []
    },
    {
      "cell_type": "code",
      "source": [
        "reloaded_model_weights = get_model_weights(model2, 'reloaded_model')"
      ],
      "metadata": {
        "id": "y_GJfP4pdc1g"
      },
      "execution_count": null,
      "outputs": []
    },
    {
      "cell_type": "markdown",
      "metadata": {
        "execution": {},
        "id": "osWTy2z-xX_h"
      },
      "source": [
        "---\n",
        "# Additional Project Ideas"
      ]
    },
    {
      "cell_type": "markdown",
      "metadata": {
        "execution": {},
        "id": "Gd_RZR0fxX_h"
      },
      "source": [
        "## 1 Play with exploration-exploitation trade-off\n",
        "\n",
        "Exploration (selecting random actions) and exploitation (selecting greedy action) is a crucial component of the DQN algorithm. Explore random actions for a long time will slow down the training process. At the same time, if all actions are not explored enough, it might lead to a sub-optimal performance. In the DQN code above, we have used the following parameters:"
      ]
    },
    {
      "cell_type": "code",
      "execution_count": null,
      "metadata": {
        "execution": {},
        "id": "mY6DSpoMxX_h"
      },
      "outputs": [],
      "source": [
        "exploration_initial_eps = 1  # initial value of random action probability. Range is between 0 and 1.\n",
        "exploration_fraction = 0.5  # fraction of entire training period over which the exploration rate is reduced. Range is between 0 and 1.\n",
        "exploration_final_eps = 0.05  # (set by defualt) final value of random action probability. Range is between 0 and 1."
      ]
    },
    {
      "cell_type": "markdown",
      "metadata": {
        "execution": {},
        "id": "4jc9JtiZxX_i"
      },
      "source": [
        "Your objective is to play around with these parameters and analyze their performance (speed and stability). You can modify these parameters and set them as arguments in DQN(...,exploration_initial_eps = 1, exploration_fraction = 0.5, exploration_final_eps = 0.05,...). "
      ]
    },
    {
      "cell_type": "markdown",
      "metadata": {
        "execution": {},
        "id": "EyURXfE4xX_i"
      },
      "source": [
        "## 2 Reward Shaping\n",
        "\n",
        "Your objective here is to construct a modified reward function that improves the performance of the Lunar Lander. To this end, you would have to create your own custom environment. An example of a custom environment is given below:"
      ]
    },
    {
      "cell_type": "code",
      "execution_count": null,
      "metadata": {
        "execution": {},
        "id": "DCYiL0H_xX_i"
      },
      "outputs": [],
      "source": [
        "# Taken from https://stable-baselines3.readthedocs.io/en/master/guide/custom_env.html\n",
        "class CustomEnv(gym.Env):\n",
        "  \"\"\"Custom Environment that follows gym interface\"\"\"\n",
        "  metadata = {'render.modes': ['human']}\n",
        "\n",
        "  def __init__(self, arg1, arg2):\n",
        "    super(CustomEnv, self).__init__()\n",
        "    # Define action and observation space\n",
        "    # They must be gym.spaces objects\n",
        "    # Example when using discrete actions:\n",
        "    self.action_space = spaces.Discrete(N_DISCRETE_ACTIONS)\n",
        "    # Example for using image as input (channel-first; channel-last also works):\n",
        "    self.observation_space = spaces.Box(low=0, high=255,\n",
        "                                        shape=(N_CHANNELS, HEIGHT, WIDTH), dtype=np.uint8)\n",
        "\n",
        "  def step(self, action):\n",
        "    ...\n",
        "    return observation, reward, done, info\n",
        "  def reset(self):\n",
        "    ...\n",
        "    return observation  # reward, done, info can't be included\n",
        "  def render(self, mode='human'):\n",
        "    ...\n",
        "  def close (self):\n",
        "    ..."
      ]
    },
    {
      "cell_type": "markdown",
      "metadata": {
        "execution": {},
        "id": "Uus1Ncm-xX_i"
      },
      "source": [
        "As you are only changing the reward structure, you can inherit the original Lunar Lander environment from https://github.com/openai/gym/blob/master/gym/envs/box2d/lunar_lander.py and modify just the \"step\" function. Focus on modifying the following part of the code in the \"step\" function\n"
      ]
    },
    {
      "cell_type": "code",
      "execution_count": null,
      "metadata": {
        "execution": {},
        "id": "S8slWB4OxX_i"
      },
      "outputs": [],
      "source": [
        "def step(self, actions):\n",
        "  ...\n",
        "  ...\n",
        "  ...\n",
        "  reward = 0\n",
        "  shaping = (\n",
        "      -100 * np.sqrt(state[0] * state[0] + state[1] * state[1])\n",
        "      - 100 * np.sqrt(state[2] * state[2] + state[3] * state[3])\n",
        "      - 100 * abs(state[4])\n",
        "      + 10 * state[6]\n",
        "      + 10 * state[7]\n",
        "  )  # And ten points for legs contact, the idea is if you\n",
        "  # lose contact again after landing, you get negative reward\n",
        "  if self.prev_shaping is not None:\n",
        "      reward = shaping - self.prev_shaping\n",
        "  self.prev_shaping = shaping\n",
        "\n",
        "  reward -= (\n",
        "      m_power * 0.30\n",
        "  )  # less fuel spent is better, about -30 for heuristic landing. You should modify these values.\n",
        "  reward -= s_power * 0.03\n",
        "\n",
        "  done = False\n",
        "  if self.game_over or abs(state[0]) >= 1.0:\n",
        "      done = True\n",
        "      reward = -100\n",
        "  if not self.lander.awake:\n",
        "      done = True\n",
        "      reward = +100\n",
        "  return np.array(state, dtype=np.float32), reward, done, {}"
      ]
    },
    {
      "cell_type": "markdown",
      "metadata": {
        "execution": {},
        "id": "Jlp-n31TxX_i"
      },
      "source": [
        "Once you have cutomized your own environment, you can execute that environment by just calling:"
      ]
    },
    {
      "cell_type": "code",
      "execution_count": null,
      "metadata": {
        "execution": {},
        "id": "NaG1aH3AxX_i"
      },
      "outputs": [],
      "source": [
        "#Enter the name of the custome environment you created and uncomment the line below.\n",
        "#env = Custom_LunarLander()\n",
        "# Refer to https://stable-baselines3.readthedocs.io/en/master/guide/custom_env.html, if you would like to create more complex environments."
      ]
    },
    {
      "cell_type": "markdown",
      "metadata": {
        "execution": {},
        "id": "uzu-QpsZxX_j"
      },
      "source": [
        "## 3 Identify the state information crucial to its performance.\n",
        "\n",
        "Your objective here is to alter the input state information and analyze the performance. The input state of the Lunar Lander consists of following components:\n",
        "\n",
        "  1. Horizontal Position\n",
        "  2. Vertical Position\n",
        "  3. Horizontal Velocity\n",
        "  4. Vertical Velocity\n",
        "  5. Angle\n",
        "  6. Angular Velocity\n",
        "  7. Left Leg Contact\n",
        "  8. Right Leg Contact\n",
        "\n",
        "You can train the algorithm by masking one of the eight components at a time and understand how that affects the performance of the algorithm. Similar to the reward shaping task, you would have to create a custom environment and modify the state space. Again, you can inherit all the necessary functions and modify the following portion of the \"Step\" function:"
      ]
    },
    {
      "cell_type": "code",
      "execution_count": null,
      "metadata": {
        "execution": {},
        "id": "FIgylShHxX_j"
      },
      "outputs": [],
      "source": [
        "def step(self, actions):\n",
        "  ...\n",
        "  ...\n",
        "  ...\n",
        "  state = [ # Remove one component at a time to investigate the effect on performance!\n",
        "            (pos.x - VIEWPORT_W / SCALE / 2) / (VIEWPORT_W / SCALE / 2),\n",
        "            (pos.y - (self.helipad_y + LEG_DOWN / SCALE)) / (VIEWPORT_H / SCALE / 2),\n",
        "            vel.x * (VIEWPORT_W / SCALE / 2) / FPS,\n",
        "            vel.y * (VIEWPORT_H / SCALE / 2) / FPS,\n",
        "            self.lander.angle,\n",
        "            20.0 * self.lander.angularVelocity / FPS,\n",
        "            1.0 if self.legs[0].ground_contact else 0.0,\n",
        "            1.0 if self.legs[1].ground_contact else 0.0,\n",
        "        ]"
      ]
    },
    {
      "cell_type": "markdown",
      "metadata": {
        "execution": {},
        "id": "HaReJtYYxX_k"
      },
      "source": [
        "## 4 Extension to Atari Games\n",
        "\n",
        "In the Lunar Lander task, the input to the algorithm is a vector of state information. Deep RL algorithms can also be applied when the input to the training is image frames, which is the case in the Atari games. For example, consider an Atari game - Pong. In this environment, the observation is an RGB image of the screen, which is an array of shape (210, 160, 3). To train the Pong game, you can start with the following sample code:"
      ]
    },
    {
      "cell_type": "code",
      "execution_count": null,
      "metadata": {
        "execution": {},
        "id": "B5Oxg8QIxX_k"
      },
      "outputs": [],
      "source": [
        "## Taken from: https://colab.research.google.com/github/Stable-Baselines-Team/rl-colab-notebooks/blob/sb3/atari_games.ipynb#scrollTo=f3K4rMXwimBO\n",
        "env = make_atari_env('PongNoFrameskip-v4', n_envs=4, seed=0)\n",
        "\n",
        "##Atari Games take a lot of memory. Following commands crash on Coalb. Run the following code on Colab Pro or your local Jupyter notebook!\n",
        "# env = VecFrameStack(env, n_stack=4)\n",
        "# model = DQN('CnnPolicy', env, verbose=1)  # Note the difference here! We use 'CnnPolicy\" here instead of 'MlpPolicy' as the input is frames.\n",
        "# model.learn(total_timesteps=1) #change the number of timesteps as desired and run this command!"
      ]
    },
    {
      "cell_type": "markdown",
      "metadata": {
        "execution": {},
        "id": "hL5TeJHZxX_k"
      },
      "source": [
        "## 5 Obstacle Avoidance and Transfer Learning\n",
        "\n",
        "Your obstacle here is to add an obstacle in the path of the lunar lander (by creating a custom environment as described in point 2 above) and train the model such that the lander lands safely, avoiding collisions. \n",
        "\n",
        "You would first want to devise a mechansim for adding obstacles. For example, you could have an imaginary obstacle at some horizantal and vertical position cooridnates and modify the reward function such that a penalty is levied if the lander comes close to it. \n",
        "\n",
        "An interesting approach to solve this problem is to apply the techniques of transfer learning. For example, you could initialise the neural network model with the weights of the trained model on the original problem to improve the sample effeciency. This can be done using the following code:"
      ]
    },
    {
      "cell_type": "code",
      "execution_count": null,
      "metadata": {
        "execution": {},
        "id": "w0CeFKHixX_l"
      },
      "outputs": [],
      "source": [
        "## Specify the load path and uncomment below:\n",
        "\n",
        "# model = load(load_path,\n",
        "#              env=gym.make('LunarLander-v2'),\n",
        "#              custom_objects=None, **kwargs)"
      ]
    },
    {
      "cell_type": "markdown",
      "metadata": {
        "execution": {},
        "id": "omfqzwlQxX_l"
      },
      "source": [
        "Following are some of the resources on transfer learning that you would want to start with. \n",
        "\n",
        "**Research Papers**\n",
        "\n",
        "Surveys:\n",
        "1. (Long, Old, Highly cited) Taylor, M. E.,  et al. (2009). Transfer learning for reinforcement learning domains. https://www.jmlr.org/papers/volume10/taylor09a/taylor09a.pdf\n",
        "\n",
        "2. (Medium, Old, Good for a quick read) Lazaric, A. (2012). Transfer in reinforcement learning: a framework and a survey. https://hal.inria.fr/docs/00/77/26/26/PDF/transfer.pdf\n",
        "\n",
        "3. (Medium, Recent, Good for a quick read) Zhu, Z., Lin, K., & Zhou, J. (2020). Transfer learning in deep reinforcement learning. https://arxiv.org/pdf/2009.07888.pdf\n",
        "\n",
        "4. Specific example:\n",
        "Barreto, A., et al. (2016).  Successor features for transfer in reinforcement learning. https://arxiv.org/pdf/1606.05312"
      ]
    },
    {
      "cell_type": "markdown",
      "metadata": {
        "execution": {},
        "id": "er67NMCkxX_l"
      },
      "source": [
        "## 5(b) Transfer Learning in minigrid environment\n",
        "\n",
        "These are some simple gridworld gym environments designed to be particularly simple, lightweight and fast. Refer to https://github.com/maximecb/gym-minigrid for description of the environments. An example to load a minigrid environment is given below:"
      ]
    },
    {
      "cell_type": "code",
      "execution_count": null,
      "metadata": {
        "execution": {},
        "id": "rVhVBpTwxX_l"
      },
      "outputs": [],
      "source": [
        "!pip install gym-minigrid --quiet\n",
        "import gym_minigrid\n",
        "env = gym.make('MiniGrid-Empty-5x5-v0')"
      ]
    },
    {
      "cell_type": "markdown",
      "metadata": {
        "execution": {},
        "id": "j21_BZvhxX_l"
      },
      "source": [
        "You can train a standard DQN agent in this env by wrapping the env with full image observation wrappers:\n"
      ]
    },
    {
      "cell_type": "code",
      "execution_count": null,
      "metadata": {
        "execution": {},
        "id": "a6wuIn_9xX_m"
      },
      "outputs": [],
      "source": [
        "env = gym_minigrid.wrappers.ImgObsWrapper(gym_minigrid.wrappers.RGBImgObsWrapper(env))"
      ]
    },
    {
      "cell_type": "markdown",
      "metadata": {
        "execution": {},
        "id": "M1cS22M0xX_m"
      },
      "source": [
        "Note that with full image observations, the shape of the image observations may differ between envs. For e.g., MiniGrid-Empty-5x5-v0 is (40,40,3) while MiniGrid-Empty-8x8-v0 is (64,64,3). So you may need to resize the observations for transfer learning to work with the same DQN architecture.\n",
        "\n",
        "Now try training a DQN (or another method) in one (or multiple) minigrid env(s),and see if that knowledge transfers to another (or multiple other) minigrid env(s).\n"
      ]
    },
    {
      "cell_type": "markdown",
      "metadata": {
        "execution": {},
        "id": "u5gVtQ5nxX_m"
      },
      "source": [
        "## 6 Preference-Based RL (PBRL)\n",
        "\n",
        "PBRL is an exciting sub-area in RL where the traditional reward structure is replaced with human preferences. This setting is very useful in applications where it is difficult to construct a reward function. \n",
        "\n",
        "In the earlier section, we have successfully trained the lunar lander to land safely. Here, the path that the lander follows to land safely can be arbitrary. In this project, using the techniques of PBRL, you will solve the lunar lander problem with an additional requirement that the lander should follow a specially curated path (for example, a straight line path). Following are some of the resources that will help you to get started with this project. \n",
        "\n",
        "**Research papers:**\n",
        "1. Deep Reinforcement Learning\n",
        "from Human Preferences https://papers.nips.cc/paper/2017/file/d5e2c0adad503c91f91df240d0cd4e49-Paper.pdf\n",
        "2. Deep Q-learning from Demonstrations https://arxiv.org/pdf/1704.03732.pdf\n",
        "3. Reward learning from human preferences https://arxiv.org/pdf/1811.06521.pdf\n",
        "4. T-REX https://arxiv.org/pdf/1904.06387.pdf\n",
        "\n",
        "**Code Bases:**\n",
        "1. https://github.com/nottombrown/rl-teacher\n",
        "2. https://github.com/hiwonjoon/ICML2019-TREX\n"
      ]
    },
    {
      "cell_type": "markdown",
      "metadata": {
        "execution": {},
        "id": "fSwjtmQJxX_m"
      },
      "source": [
        "---\n",
        "# References\n",
        "\n",
        "1. Stable Baselines Framework: https://stable-baselines3.readthedocs.io/en/master/guide/examples.html\n",
        "\n",
        "2. Lunar Lander Environment: https://gym.openai.com/envs/LunarLander-v2/\n",
        "\n",
        "3. OpenAI gym environments: https://gym.openai.com/docs/\n",
        "\n",
        "4. A good reference for introduction to RL: http://incompleteideas.net/book/the-book-2nd.html\n"
      ]
    }
  ],
  "metadata": {
    "accelerator": "GPU",
    "colab": {
      "collapsed_sections": [],
      "name": "lunar_lander másolata",
      "provenance": [],
      "toc_visible": true,
      "include_colab_link": true
    },
    "gpuClass": "standard",
    "kernel": {
      "display_name": "Python 3",
      "language": "python",
      "name": "python3"
    },
    "kernelspec": {
      "display_name": "Python 3",
      "name": "python3"
    },
    "language_info": {
      "name": "python"
    }
  },
  "nbformat": 4,
  "nbformat_minor": 0
}